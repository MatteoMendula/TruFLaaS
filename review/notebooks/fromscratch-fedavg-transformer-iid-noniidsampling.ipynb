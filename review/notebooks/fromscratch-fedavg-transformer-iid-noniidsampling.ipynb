{
 "cells": [
  {
   "cell_type": "code",
   "execution_count": 1,
   "id": "2354071d",
   "metadata": {
    "_cell_guid": "b1076dfc-b9ad-4769-8c92-a6c4dae69d19",
    "_uuid": "8f2839f25d086af736a60e9eeb907d3b93b6e0e5",
    "execution": {
     "iopub.execute_input": "2023-04-01T20:16:43.343905Z",
     "iopub.status.busy": "2023-04-01T20:16:43.342985Z",
     "iopub.status.idle": "2023-04-01T20:16:43.353753Z",
     "shell.execute_reply": "2023-04-01T20:16:43.352863Z"
    },
    "papermill": {
     "duration": 0.026149,
     "end_time": "2023-04-01T20:16:43.356245",
     "exception": false,
     "start_time": "2023-04-01T20:16:43.330096",
     "status": "completed"
    },
    "tags": []
   },
   "outputs": [],
   "source": [
    "# This Python 3 environment comes with many helpful analytics libraries installed\n",
    "# It is defined by the kaggle/python Docker image: https://github.com/kaggle/docker-python\n",
    "# For example, here's several helpful packages to load\n",
    "\n",
    "import numpy as np # linear algebra\n",
    "import pandas as pd # data processing, CSV file I/O (e.g. pd.read_csv)\n",
    "\n",
    "# Input data files are available in the read-only \"../input/\" directory\n",
    "# For example, running this (by clicking run or pressing Shift+Enter) will list all files under the input directory\n",
    "\n",
    "import os\n",
    "#for dirname, _, filenames in os.walk('/kaggle/input'):\n",
    "    #for filename in filenames:\n",
    "        #print(os.path.join(dirname, filename))\n",
    "\n",
    "# You can write up to 20GB to the current directory (/kaggle/working/) that gets preserved as output when you create a version using \"Save & Run All\" \n",
    "# You can also write temporary files to /kaggle/temp/, but they won't be saved outside of the current session"
   ]
  },
  {
   "cell_type": "code",
   "execution_count": 2,
   "id": "72e8c26d",
   "metadata": {
    "execution": {
     "iopub.execute_input": "2023-04-01T20:16:43.378831Z",
     "iopub.status.busy": "2023-04-01T20:16:43.378562Z",
     "iopub.status.idle": "2023-04-01T20:17:06.229747Z",
     "shell.execute_reply": "2023-04-01T20:17:06.228689Z"
    },
    "papermill": {
     "duration": 22.865137,
     "end_time": "2023-04-01T20:17:06.232701",
     "exception": false,
     "start_time": "2023-04-01T20:16:43.367564",
     "status": "completed"
    },
    "tags": []
   },
   "outputs": [],
   "source": [
    "benign_df = pd.read_csv('./data/5.benign.csv')\n",
    "\n",
    "g_c_df = pd.read_csv('./data/5.gafgyt.combo.csv')\n",
    "g_j_df = pd.read_csv('./data/5.gafgyt.junk.csv')\n",
    "g_s_df = pd.read_csv('./data/5.gafgyt.scan.csv')\n",
    "g_t_df = pd.read_csv('./data/5.gafgyt.tcp.csv')\n",
    "g_u_df = pd.read_csv('./data/5.gafgyt.udp.csv')\n",
    "m_a_df = pd.read_csv('./data/5.mirai.ack.csv')\n",
    "m_sc_df = pd.read_csv('./data/5.mirai.scan.csv')\n",
    "m_sy_df = pd.read_csv('./data/5.mirai.syn.csv')\n",
    "m_u_df = pd.read_csv('./data/5.mirai.udp.csv')\n",
    "m_u_p_df = pd.read_csv('./data/5.mirai.udpplain.csv')"
   ]
  },
  {
   "cell_type": "code",
   "execution_count": 37,
   "id": "4973f56f",
   "metadata": {
    "execution": {
     "iopub.execute_input": "2023-04-01T20:17:06.266042Z",
     "iopub.status.busy": "2023-04-01T20:17:06.265536Z",
     "iopub.status.idle": "2023-04-01T20:17:06.290242Z",
     "shell.execute_reply": "2023-04-01T20:17:06.289245Z"
    },
    "papermill": {
     "duration": 0.043486,
     "end_time": "2023-04-01T20:17:06.292494",
     "exception": false,
     "start_time": "2023-04-01T20:17:06.249008",
     "status": "completed"
    },
    "tags": []
   },
   "outputs": [],
   "source": [
    "benign_df['type'] = 'benign'\n",
    "m_u_df['type'] = 'mirai_udp'\n",
    "g_c_df['type'] = 'gafgyt_combo'\n",
    "g_j_df['type'] = 'gafgyt_junk'\n",
    "g_s_df['type'] = 'gafgyt_scan'\n",
    "g_t_df['type'] = 'gafgyt_tcp'\n",
    "g_u_df['type'] = 'gafgyt_udp'\n",
    "m_a_df['type'] = 'mirai_ack'\n",
    "m_sc_df['type'] = 'mirai_scan'\n",
    "m_sy_df['type'] = 'mirai_syn'\n",
    "m_u_p_df['type'] = 'mirai_udpplain'"
   ]
  },
  {
   "cell_type": "code",
   "execution_count": 38,
   "id": "74086cc4",
   "metadata": {
    "execution": {
     "iopub.execute_input": "2023-04-01T20:17:06.323354Z",
     "iopub.status.busy": "2023-04-01T20:17:06.323030Z",
     "iopub.status.idle": "2023-04-01T20:17:06.621833Z",
     "shell.execute_reply": "2023-04-01T20:17:06.620745Z"
    },
    "papermill": {
     "duration": 0.318031,
     "end_time": "2023-04-01T20:17:06.624983",
     "exception": false,
     "start_time": "2023-04-01T20:17:06.306952",
     "status": "completed"
    },
    "tags": []
   },
   "outputs": [],
   "source": [
    "df = pd.concat([benign_df, m_u_df, g_c_df,\n",
    "                g_j_df, g_s_df, g_t_df,\n",
    "                g_u_df, m_a_df, m_sc_df,\n",
    "                m_sy_df, m_u_p_df],\n",
    "                axis=0, sort=False, ignore_index=True)"
   ]
  },
  {
   "cell_type": "code",
   "execution_count": 39,
   "id": "b5edad9d",
   "metadata": {
    "execution": {
     "iopub.execute_input": "2023-04-01T20:17:06.657212Z",
     "iopub.status.busy": "2023-04-01T20:17:06.656884Z",
     "iopub.status.idle": "2023-04-01T20:17:06.723220Z",
     "shell.execute_reply": "2023-04-01T20:17:06.722361Z"
    },
    "papermill": {
     "duration": 0.084806,
     "end_time": "2023-04-01T20:17:06.725797",
     "exception": false,
     "start_time": "2023-04-01T20:17:06.640991",
     "status": "completed"
    },
    "tags": []
   },
   "outputs": [
    {
     "data": {
      "text/plain": [
       "type\n",
       "mirai_udp         156248\n",
       "gafgyt_tcp        104510\n",
       "gafgyt_udp        104011\n",
       "mirai_scan         96781\n",
       "mirai_syn          65746\n",
       "benign             62154\n",
       "gafgyt_combo       61380\n",
       "mirai_ack          60554\n",
       "mirai_udpplain     56681\n",
       "gafgyt_junk        30898\n",
       "gafgyt_scan        29297\n",
       "Name: count, dtype: int64"
      ]
     },
     "execution_count": 39,
     "metadata": {},
     "output_type": "execute_result"
    }
   ],
   "source": [
    "df[\"type\"].value_counts()"
   ]
  },
  {
   "cell_type": "code",
   "execution_count": 40,
   "id": "ae105d81",
   "metadata": {
    "execution": {
     "iopub.execute_input": "2023-04-01T20:17:06.758813Z",
     "iopub.status.busy": "2023-04-01T20:17:06.758500Z",
     "iopub.status.idle": "2023-04-01T20:17:07.154058Z",
     "shell.execute_reply": "2023-04-01T20:17:07.152370Z"
    },
    "papermill": {
     "duration": 0.414748,
     "end_time": "2023-04-01T20:17:07.156412",
     "exception": false,
     "start_time": "2023-04-01T20:17:06.741664",
     "status": "completed"
    },
    "tags": []
   },
   "outputs": [
    {
     "data": {
      "text/plain": [
       "<Axes: title={'center': 'Class Distribution'}>"
      ]
     },
     "execution_count": 40,
     "metadata": {},
     "output_type": "execute_result"
    },
    {
     "data": {
      "image/png": "[encoded data removed]",
      "text/plain": [
       "<Figure size 2000x1000 with 1 Axes>"
      ]
     },
     "metadata": {},
     "output_type": "display_data"
    }
   ],
   "source": [
    "from matplotlib import pyplot as plt\n",
    "\n",
    "plt.title(\"Class Distribution\")\n",
    "df.groupby(\"type\").size().plot(kind='pie', autopct='%.2f', figsize=(20,10))"
   ]
  },
  {
   "cell_type": "code",
   "execution_count": 41,
   "id": "3d21d417",
   "metadata": {
    "execution": {
     "iopub.execute_input": "2023-04-01T20:17:07.182529Z",
     "iopub.status.busy": "2023-04-01T20:17:07.181487Z",
     "iopub.status.idle": "2023-04-01T20:17:07.197126Z",
     "shell.execute_reply": "2023-04-01T20:17:07.195990Z"
    },
    "papermill": {
     "duration": 0.031883,
     "end_time": "2023-04-01T20:17:07.200574",
     "exception": false,
     "start_time": "2023-04-01T20:17:07.168691",
     "status": "completed"
    },
    "tags": []
   },
   "outputs": [
    {
     "name": "stdout",
     "output_type": "stream",
     "text": [
      "<class 'pandas.core.frame.DataFrame'>\n",
      "RangeIndex: 828260 entries, 0 to 828259\n",
      "Columns: 116 entries, MI_dir_L5_weight to type\n",
      "dtypes: float64(115), object(1)\n",
      "memory usage: 733.0+ MB\n"
     ]
    }
   ],
   "source": [
    "df.info()"
   ]
  },
  {
   "cell_type": "code",
   "execution_count": 42,
   "id": "9555209d",
   "metadata": {
    "execution": {
     "iopub.execute_input": "2023-04-01T20:17:07.224600Z",
     "iopub.status.busy": "2023-04-01T20:17:07.224313Z",
     "iopub.status.idle": "2023-04-01T20:17:08.274459Z",
     "shell.execute_reply": "2023-04-01T20:17:08.273406Z"
    },
    "papermill": {
     "duration": 1.065091,
     "end_time": "2023-04-01T20:17:08.277003",
     "exception": false,
     "start_time": "2023-04-01T20:17:07.211912",
     "status": "completed"
    },
    "tags": []
   },
   "outputs": [],
   "source": [
    "df = df.sample(frac=1).reset_index(drop=True)"
   ]
  },
  {
   "cell_type": "code",
   "execution_count": 43,
   "id": "b32224a2",
   "metadata": {
    "execution": {
     "iopub.execute_input": "2023-04-01T20:17:08.302557Z",
     "iopub.status.busy": "2023-04-01T20:17:08.301709Z",
     "iopub.status.idle": "2023-04-01T20:17:08.330409Z",
     "shell.execute_reply": "2023-04-01T20:17:08.329523Z"
    },
    "papermill": {
     "duration": 0.043538,
     "end_time": "2023-04-01T20:17:08.332529",
     "exception": false,
     "start_time": "2023-04-01T20:17:08.288991",
     "status": "completed"
    },
    "tags": []
   },
   "outputs": [
    {
     "data": {
      "text/html": [
       "<div>\n",
       "<style scoped>\n",
       "    .dataframe tbody tr th:only-of-type {\n",
       "        vertical-align: middle;\n",
       "    }\n",
       "\n",
       "    .dataframe tbody tr th {\n",
       "        vertical-align: top;\n",
       "    }\n",
       "\n",
       "    .dataframe thead th {\n",
       "        text-align: right;\n",
       "    }\n",
       "</style>\n",
       "<table border=\"1\" class=\"dataframe\">\n",
       "  <thead>\n",
       "    <tr style=\"text-align: right;\">\n",
       "      <th></th>\n",
       "      <th>MI_dir_L5_weight</th>\n",
       "      <th>MI_dir_L5_mean</th>\n",
       "      <th>MI_dir_L5_variance</th>\n",
       "      <th>MI_dir_L3_weight</th>\n",
       "      <th>MI_dir_L3_mean</th>\n",
       "      <th>MI_dir_L3_variance</th>\n",
       "      <th>MI_dir_L1_weight</th>\n",
       "      <th>MI_dir_L1_mean</th>\n",
       "      <th>MI_dir_L1_variance</th>\n",
       "      <th>MI_dir_L0.1_weight</th>\n",
       "      <th>...</th>\n",
       "      <th>HpHp_L0.1_covariance</th>\n",
       "      <th>HpHp_L0.1_pcc</th>\n",
       "      <th>HpHp_L0.01_weight</th>\n",
       "      <th>HpHp_L0.01_mean</th>\n",
       "      <th>HpHp_L0.01_std</th>\n",
       "      <th>HpHp_L0.01_magnitude</th>\n",
       "      <th>HpHp_L0.01_radius</th>\n",
       "      <th>HpHp_L0.01_covariance</th>\n",
       "      <th>HpHp_L0.01_pcc</th>\n",
       "      <th>type</th>\n",
       "    </tr>\n",
       "  </thead>\n",
       "  <tbody>\n",
       "    <tr>\n",
       "      <th>0</th>\n",
       "      <td>60.750651</td>\n",
       "      <td>213.665366</td>\n",
       "      <td>54141.432712</td>\n",
       "      <td>78.730852</td>\n",
       "      <td>252.834859</td>\n",
       "      <td>60387.246659</td>\n",
       "      <td>239.334011</td>\n",
       "      <td>309.543874</td>\n",
       "      <td>63985.094885</td>\n",
       "      <td>2823.387134</td>\n",
       "      <td>...</td>\n",
       "      <td>0.000000e+00</td>\n",
       "      <td>0.000000e+00</td>\n",
       "      <td>1.0000</td>\n",
       "      <td>60.0</td>\n",
       "      <td>0.000000e+00</td>\n",
       "      <td>60.000000</td>\n",
       "      <td>0.000000e+00</td>\n",
       "      <td>0.000000e+00</td>\n",
       "      <td>0.000000e+00</td>\n",
       "      <td>mirai_ack</td>\n",
       "    </tr>\n",
       "    <tr>\n",
       "      <th>1</th>\n",
       "      <td>174.973402</td>\n",
       "      <td>74.067796</td>\n",
       "      <td>1.622525</td>\n",
       "      <td>288.180114</td>\n",
       "      <td>74.060861</td>\n",
       "      <td>1.467828</td>\n",
       "      <td>841.421805</td>\n",
       "      <td>74.077403</td>\n",
       "      <td>21.691225</td>\n",
       "      <td>6157.402083</td>\n",
       "      <td>...</td>\n",
       "      <td>0.000000e+00</td>\n",
       "      <td>0.000000e+00</td>\n",
       "      <td>1.0000</td>\n",
       "      <td>74.0</td>\n",
       "      <td>0.000000e+00</td>\n",
       "      <td>74.000000</td>\n",
       "      <td>0.000000e+00</td>\n",
       "      <td>0.000000e+00</td>\n",
       "      <td>0.000000e+00</td>\n",
       "      <td>gafgyt_combo</td>\n",
       "    </tr>\n",
       "    <tr>\n",
       "      <th>2</th>\n",
       "      <td>1.000000</td>\n",
       "      <td>60.000000</td>\n",
       "      <td>0.000005</td>\n",
       "      <td>1.000029</td>\n",
       "      <td>60.000376</td>\n",
       "      <td>0.004887</td>\n",
       "      <td>1.037936</td>\n",
       "      <td>60.402249</td>\n",
       "      <td>5.370273</td>\n",
       "      <td>4.164557</td>\n",
       "      <td>...</td>\n",
       "      <td>-1.120000e-29</td>\n",
       "      <td>-2.460000e-17</td>\n",
       "      <td>6.1943</td>\n",
       "      <td>60.0</td>\n",
       "      <td>9.540000e-07</td>\n",
       "      <td>84.852814</td>\n",
       "      <td>1.020000e-12</td>\n",
       "      <td>-8.830000e-30</td>\n",
       "      <td>-1.370000e-17</td>\n",
       "      <td>benign</td>\n",
       "    </tr>\n",
       "    <tr>\n",
       "      <th>3</th>\n",
       "      <td>1.000000</td>\n",
       "      <td>60.000000</td>\n",
       "      <td>0.000000</td>\n",
       "      <td>1.000000</td>\n",
       "      <td>60.000000</td>\n",
       "      <td>0.000000</td>\n",
       "      <td>1.000000</td>\n",
       "      <td>60.000000</td>\n",
       "      <td>0.000000</td>\n",
       "      <td>1.000000</td>\n",
       "      <td>...</td>\n",
       "      <td>0.000000e+00</td>\n",
       "      <td>0.000000e+00</td>\n",
       "      <td>1.0000</td>\n",
       "      <td>60.0</td>\n",
       "      <td>0.000000e+00</td>\n",
       "      <td>60.000000</td>\n",
       "      <td>0.000000e+00</td>\n",
       "      <td>0.000000e+00</td>\n",
       "      <td>0.000000e+00</td>\n",
       "      <td>gafgyt_udp</td>\n",
       "    </tr>\n",
       "    <tr>\n",
       "      <th>4</th>\n",
       "      <td>186.609416</td>\n",
       "      <td>294.531093</td>\n",
       "      <td>63661.345427</td>\n",
       "      <td>276.332709</td>\n",
       "      <td>317.430552</td>\n",
       "      <td>63980.400705</td>\n",
       "      <td>558.913981</td>\n",
       "      <td>340.189080</td>\n",
       "      <td>63254.989923</td>\n",
       "      <td>3392.086386</td>\n",
       "      <td>...</td>\n",
       "      <td>0.000000e+00</td>\n",
       "      <td>0.000000e+00</td>\n",
       "      <td>1.0000</td>\n",
       "      <td>60.0</td>\n",
       "      <td>0.000000e+00</td>\n",
       "      <td>60.000000</td>\n",
       "      <td>0.000000e+00</td>\n",
       "      <td>0.000000e+00</td>\n",
       "      <td>0.000000e+00</td>\n",
       "      <td>mirai_ack</td>\n",
       "    </tr>\n",
       "  </tbody>\n",
       "</table>\n",
       "<p>5 rows × 116 columns</p>\n",
       "</div>"
      ],
      "text/plain": [
       "   MI_dir_L5_weight  MI_dir_L5_mean  MI_dir_L5_variance  MI_dir_L3_weight   \n",
       "0         60.750651      213.665366        54141.432712         78.730852  \\\n",
       "1        174.973402       74.067796            1.622525        288.180114   \n",
       "2          1.000000       60.000000            0.000005          1.000029   \n",
       "3          1.000000       60.000000            0.000000          1.000000   \n",
       "4        186.609416      294.531093        63661.345427        276.332709   \n",
       "\n",
       "   MI_dir_L3_mean  MI_dir_L3_variance  MI_dir_L1_weight  MI_dir_L1_mean   \n",
       "0      252.834859        60387.246659        239.334011      309.543874  \\\n",
       "1       74.060861            1.467828        841.421805       74.077403   \n",
       "2       60.000376            0.004887          1.037936       60.402249   \n",
       "3       60.000000            0.000000          1.000000       60.000000   \n",
       "4      317.430552        63980.400705        558.913981      340.189080   \n",
       "\n",
       "   MI_dir_L1_variance  MI_dir_L0.1_weight  ...  HpHp_L0.1_covariance   \n",
       "0        63985.094885         2823.387134  ...          0.000000e+00  \\\n",
       "1           21.691225         6157.402083  ...          0.000000e+00   \n",
       "2            5.370273            4.164557  ...         -1.120000e-29   \n",
       "3            0.000000            1.000000  ...          0.000000e+00   \n",
       "4        63254.989923         3392.086386  ...          0.000000e+00   \n",
       "\n",
       "   HpHp_L0.1_pcc  HpHp_L0.01_weight  HpHp_L0.01_mean  HpHp_L0.01_std   \n",
       "0   0.000000e+00             1.0000             60.0    0.000000e+00  \\\n",
       "1   0.000000e+00             1.0000             74.0    0.000000e+00   \n",
       "2  -2.460000e-17             6.1943             60.0    9.540000e-07   \n",
       "3   0.000000e+00             1.0000             60.0    0.000000e+00   \n",
       "4   0.000000e+00             1.0000             60.0    0.000000e+00   \n",
       "\n",
       "   HpHp_L0.01_magnitude  HpHp_L0.01_radius  HpHp_L0.01_covariance   \n",
       "0             60.000000       0.000000e+00           0.000000e+00  \\\n",
       "1             74.000000       0.000000e+00           0.000000e+00   \n",
       "2             84.852814       1.020000e-12          -8.830000e-30   \n",
       "3             60.000000       0.000000e+00           0.000000e+00   \n",
       "4             60.000000       0.000000e+00           0.000000e+00   \n",
       "\n",
       "   HpHp_L0.01_pcc          type  \n",
       "0    0.000000e+00     mirai_ack  \n",
       "1    0.000000e+00  gafgyt_combo  \n",
       "2   -1.370000e-17        benign  \n",
       "3    0.000000e+00    gafgyt_udp  \n",
       "4    0.000000e+00     mirai_ack  \n",
       "\n",
       "[5 rows x 116 columns]"
      ]
     },
     "execution_count": 43,
     "metadata": {},
     "output_type": "execute_result"
    }
   ],
   "source": [
    "df.head()"
   ]
  },
  {
   "cell_type": "code",
   "execution_count": 44,
   "id": "fb198be3",
   "metadata": {
    "execution": {
     "iopub.execute_input": "2023-04-01T20:17:08.357375Z",
     "iopub.status.busy": "2023-04-01T20:17:08.357104Z",
     "iopub.status.idle": "2023-04-01T20:17:10.611166Z",
     "shell.execute_reply": "2023-04-01T20:17:10.610079Z"
    },
    "papermill": {
     "duration": 2.269494,
     "end_time": "2023-04-01T20:17:10.613996",
     "exception": false,
     "start_time": "2023-04-01T20:17:08.344502",
     "status": "completed"
    },
    "tags": []
   },
   "outputs": [],
   "source": [
    "from sklearn.model_selection import train_test_split\n",
    "\n",
    "train_df, test_df = train_test_split(df, test_size=0.2, random_state=42, stratify=df[\"type\"])"
   ]
  },
  {
   "cell_type": "code",
   "execution_count": 45,
   "id": "0429d4b3",
   "metadata": {
    "execution": {
     "iopub.execute_input": "2023-04-01T20:17:10.639452Z",
     "iopub.status.busy": "2023-04-01T20:17:10.639102Z",
     "iopub.status.idle": "2023-04-01T20:17:10.643845Z",
     "shell.execute_reply": "2023-04-01T20:17:10.642761Z"
    },
    "papermill": {
     "duration": 0.019975,
     "end_time": "2023-04-01T20:17:10.646303",
     "exception": false,
     "start_time": "2023-04-01T20:17:10.626328",
     "status": "completed"
    },
    "tags": []
   },
   "outputs": [],
   "source": [
    "features = list(train_df.columns)\n",
    "features.remove(\"type\")\n",
    "#features"
   ]
  },
  {
   "cell_type": "code",
   "execution_count": 46,
   "id": "72386f16",
   "metadata": {
    "execution": {
     "iopub.execute_input": "2023-04-01T20:17:10.671447Z",
     "iopub.status.busy": "2023-04-01T20:17:10.670580Z",
     "iopub.status.idle": "2023-04-01T20:17:10.836322Z",
     "shell.execute_reply": "2023-04-01T20:17:10.835278Z"
    },
    "papermill": {
     "duration": 0.181098,
     "end_time": "2023-04-01T20:17:10.838970",
     "exception": false,
     "start_time": "2023-04-01T20:17:10.657872",
     "status": "completed"
    },
    "tags": []
   },
   "outputs": [],
   "source": [
    "from sklearn.preprocessing import LabelEncoder\n",
    "\n",
    "label_encoder = LabelEncoder()\n",
    "train_df[\"type\"] = label_encoder.fit_transform(train_df[\"type\"])\n",
    "test_df[\"type\"] = label_encoder.transform(test_df[\"type\"])"
   ]
  },
  {
   "cell_type": "code",
   "execution_count": 47,
   "id": "418b948d",
   "metadata": {
    "execution": {
     "iopub.execute_input": "2023-04-01T20:17:10.865066Z",
     "iopub.status.busy": "2023-04-01T20:17:10.864563Z",
     "iopub.status.idle": "2023-04-01T20:17:12.005197Z",
     "shell.execute_reply": "2023-04-01T20:17:12.004096Z"
    },
    "papermill": {
     "duration": 1.156349,
     "end_time": "2023-04-01T20:17:12.007713",
     "exception": false,
     "start_time": "2023-04-01T20:17:10.851364",
     "status": "completed"
    },
    "tags": []
   },
   "outputs": [],
   "source": [
    "from sklearn.preprocessing import MinMaxScaler\n",
    "\n",
    "scaler = MinMaxScaler()\n",
    "train_df[features] = scaler.fit_transform(train_df[features])\n",
    "test_df[features] = scaler.transform(test_df[features])"
   ]
  },
  {
   "cell_type": "code",
   "execution_count": 48,
   "id": "68c8a83b",
   "metadata": {
    "execution": {
     "iopub.execute_input": "2023-04-01T20:17:12.034450Z",
     "iopub.status.busy": "2023-04-01T20:17:12.034139Z",
     "iopub.status.idle": "2023-04-01T20:17:12.267225Z",
     "shell.execute_reply": "2023-04-01T20:17:12.266150Z"
    },
    "papermill": {
     "duration": 0.249393,
     "end_time": "2023-04-01T20:17:12.269654",
     "exception": false,
     "start_time": "2023-04-01T20:17:12.020261",
     "status": "completed"
    },
    "tags": []
   },
   "outputs": [],
   "source": [
    "X_train = train_df[features].values\n",
    "y_train = train_df[\"type\"].values\n",
    "\n",
    "X_test = test_df[features].values\n",
    "y_test = test_df[\"type\"].values"
   ]
  },
  {
   "cell_type": "code",
   "execution_count": 49,
   "id": "2c99b82f",
   "metadata": {
    "execution": {
     "iopub.execute_input": "2023-04-01T20:17:12.295566Z",
     "iopub.status.busy": "2023-04-01T20:17:12.295237Z",
     "iopub.status.idle": "2023-04-01T20:17:51.610533Z",
     "shell.execute_reply": "2023-04-01T20:17:51.609459Z"
    },
    "papermill": {
     "duration": 39.342036,
     "end_time": "2023-04-01T20:17:51.624136",
     "exception": false,
     "start_time": "2023-04-01T20:17:12.282100",
     "status": "completed"
    },
    "tags": []
   },
   "outputs": [
    {
     "data": {
      "text/plain": [
       "array([5.20636443e-03, 5.76118139e-03, 6.34499478e-03, 1.37734473e-02,\n",
       "       5.03404806e-03, 1.43671484e-03, 1.00870304e-02, 1.60376384e-02,\n",
       "       1.53618733e-02, 3.45842507e-02, 4.11652751e-02, 1.67482788e-02,\n",
       "       3.65576323e-02, 5.52701913e-02, 4.34139928e-02, 4.35040676e-03,\n",
       "       3.32666044e-03, 1.62211842e-03, 9.55069487e-03, 8.54181109e-03,\n",
       "       9.79023737e-03, 2.66249651e-02, 1.38984362e-02, 2.49416625e-02,\n",
       "       2.63127776e-02, 2.10166681e-02, 2.28196795e-02, 4.28869147e-02,\n",
       "       3.80807499e-02, 3.41580818e-02, 5.03083955e-03, 2.46215644e-03,\n",
       "       2.59518684e-04, 6.48770460e-03, 4.16047978e-05, 4.65859560e-07,\n",
       "       3.62797864e-06, 8.29008123e-03, 2.10266392e-03, 8.54272306e-04,\n",
       "       1.57247516e-03, 6.14821263e-04, 6.31265882e-05, 1.82250111e-05,\n",
       "       1.05558782e-02, 4.08899394e-03, 2.16669644e-03, 5.21671178e-03,\n",
       "       3.36012830e-04, 4.31275138e-04, 4.59349403e-04, 1.08149356e-02,\n",
       "       7.31615218e-03, 2.23477689e-03, 9.58828772e-03, 1.12419051e-03,\n",
       "       4.35546574e-06, 8.22315110e-05, 8.82597740e-03, 4.17894118e-03,\n",
       "       5.28489198e-03, 7.67759469e-03, 1.87688821e-03, 5.78932675e-06,\n",
       "       8.72148275e-05, 3.21495336e-03, 3.00259352e-02, 6.82682385e-05,\n",
       "       7.84297035e-03, 3.51147353e-02, 1.05711997e-04, 1.20540348e-02,\n",
       "       4.34212767e-02, 1.28772668e-03, 1.30069203e-02, 3.13308170e-02,\n",
       "       4.40749507e-03, 6.41877004e-03, 2.88343766e-02, 7.93688588e-03,\n",
       "       2.67465860e-03, 2.70931990e-03, 3.16052468e-04, 6.10113868e-03,\n",
       "       1.59261048e-06, 1.79950187e-06, 1.56389066e-06, 6.11520930e-03,\n",
       "       3.85492663e-03, 8.16733506e-04, 2.79686589e-03, 3.05990716e-06,\n",
       "       3.56825715e-07, 1.21803087e-06, 4.67853075e-03, 1.05229279e-03,\n",
       "       1.08256405e-04, 3.05529793e-03, 1.54949943e-05, 1.08106757e-06,\n",
       "       3.67044588e-05, 7.41376186e-03, 5.96585493e-03, 2.63865740e-03,\n",
       "       4.90166001e-03, 4.19723120e-06, 7.87593545e-07, 1.68714555e-06,\n",
       "       7.51979587e-03, 2.77554513e-03, 7.31811864e-04, 3.58144715e-03,\n",
       "       1.80134993e-04, 5.23076393e-06, 2.88950200e-06])"
      ]
     },
     "execution_count": 49,
     "metadata": {},
     "output_type": "execute_result"
    }
   ],
   "source": [
    "from sklearn.ensemble import ExtraTreesClassifier\n",
    "from sklearn.feature_selection import SelectFromModel\n",
    "\n",
    "\n",
    "clf = ExtraTreesClassifier(n_estimators=50, n_jobs=-1)\n",
    "clf = clf.fit(X_train, y_train)\n",
    "clf.feature_importances_  "
   ]
  },
  {
   "cell_type": "code",
   "execution_count": 50,
   "id": "e8ae146a",
   "metadata": {
    "execution": {
     "iopub.execute_input": "2023-04-01T20:17:51.649214Z",
     "iopub.status.busy": "2023-04-01T20:17:51.648927Z",
     "iopub.status.idle": "2023-04-01T20:17:51.765585Z",
     "shell.execute_reply": "2023-04-01T20:17:51.764461Z"
    },
    "papermill": {
     "duration": 0.131768,
     "end_time": "2023-04-01T20:17:51.767772",
     "exception": false,
     "start_time": "2023-04-01T20:17:51.636004",
     "status": "completed"
    },
    "tags": []
   },
   "outputs": [
    {
     "data": {
      "text/html": [
       "<div>\n",
       "<style scoped>\n",
       "    .dataframe tbody tr th:only-of-type {\n",
       "        vertical-align: middle;\n",
       "    }\n",
       "\n",
       "    .dataframe tbody tr th {\n",
       "        vertical-align: top;\n",
       "    }\n",
       "\n",
       "    .dataframe thead th {\n",
       "        text-align: right;\n",
       "    }\n",
       "</style>\n",
       "<table border=\"1\" class=\"dataframe\">\n",
       "  <thead>\n",
       "    <tr style=\"text-align: right;\">\n",
       "      <th></th>\n",
       "      <th>extratrees_importance</th>\n",
       "      <th>Feature_Name</th>\n",
       "    </tr>\n",
       "  </thead>\n",
       "  <tbody>\n",
       "    <tr>\n",
       "      <th>13</th>\n",
       "      <td>5.527019e-02</td>\n",
       "      <td>MI_dir_L0.01_mean</td>\n",
       "    </tr>\n",
       "    <tr>\n",
       "      <th>72</th>\n",
       "      <td>4.342128e-02</td>\n",
       "      <td>HH_jit_L1_mean</td>\n",
       "    </tr>\n",
       "    <tr>\n",
       "      <th>14</th>\n",
       "      <td>4.341399e-02</td>\n",
       "      <td>MI_dir_L0.01_variance</td>\n",
       "    </tr>\n",
       "    <tr>\n",
       "      <th>27</th>\n",
       "      <td>4.288691e-02</td>\n",
       "      <td>H_L0.01_weight</td>\n",
       "    </tr>\n",
       "    <tr>\n",
       "      <th>10</th>\n",
       "      <td>4.116528e-02</td>\n",
       "      <td>MI_dir_L0.1_mean</td>\n",
       "    </tr>\n",
       "    <tr>\n",
       "      <th>...</th>\n",
       "      <td>...</td>\n",
       "      <td>...</td>\n",
       "    </tr>\n",
       "    <tr>\n",
       "      <th>93</th>\n",
       "      <td>1.218031e-06</td>\n",
       "      <td>HpHp_L3_pcc</td>\n",
       "    </tr>\n",
       "    <tr>\n",
       "      <th>99</th>\n",
       "      <td>1.081068e-06</td>\n",
       "      <td>HpHp_L1_covariance</td>\n",
       "    </tr>\n",
       "    <tr>\n",
       "      <th>106</th>\n",
       "      <td>7.875935e-07</td>\n",
       "      <td>HpHp_L0.1_covariance</td>\n",
       "    </tr>\n",
       "    <tr>\n",
       "      <th>35</th>\n",
       "      <td>4.658596e-07</td>\n",
       "      <td>HH_L5_covariance</td>\n",
       "    </tr>\n",
       "    <tr>\n",
       "      <th>92</th>\n",
       "      <td>3.568257e-07</td>\n",
       "      <td>HpHp_L3_covariance</td>\n",
       "    </tr>\n",
       "  </tbody>\n",
       "</table>\n",
       "<p>115 rows × 2 columns</p>\n",
       "</div>"
      ],
      "text/plain": [
       "     extratrees_importance           Feature_Name\n",
       "13            5.527019e-02      MI_dir_L0.01_mean\n",
       "72            4.342128e-02         HH_jit_L1_mean\n",
       "14            4.341399e-02  MI_dir_L0.01_variance\n",
       "27            4.288691e-02         H_L0.01_weight\n",
       "10            4.116528e-02       MI_dir_L0.1_mean\n",
       "..                     ...                    ...\n",
       "93            1.218031e-06            HpHp_L3_pcc\n",
       "99            1.081068e-06     HpHp_L1_covariance\n",
       "106           7.875935e-07   HpHp_L0.1_covariance\n",
       "35            4.658596e-07       HH_L5_covariance\n",
       "92            3.568257e-07     HpHp_L3_covariance\n",
       "\n",
       "[115 rows x 2 columns]"
      ]
     },
     "execution_count": 50,
     "metadata": {},
     "output_type": "execute_result"
    }
   ],
   "source": [
    "ext=pd.DataFrame(clf.feature_importances_,columns=[\"extratrees_importance\"])\n",
    "ext = ext.sort_values(['extratrees_importance'], ascending=False)\n",
    "feature_index = [features[i] for i in list(ext.index)]\n",
    "ext[\"Feature_Name\"] = feature_index\n",
    "ext"
   ]
  },
  {
   "cell_type": "code",
   "execution_count": 51,
   "id": "440f5cef",
   "metadata": {
    "execution": {
     "iopub.execute_input": "2023-04-01T20:17:51.793156Z",
     "iopub.status.busy": "2023-04-01T20:17:51.792873Z",
     "iopub.status.idle": "2023-04-01T20:17:52.337657Z",
     "shell.execute_reply": "2023-04-01T20:17:52.336494Z"
    },
    "papermill": {
     "duration": 0.560424,
     "end_time": "2023-04-01T20:17:52.340271",
     "exception": false,
     "start_time": "2023-04-01T20:17:51.779847",
     "status": "completed"
    },
    "tags": []
   },
   "outputs": [
    {
     "data": {
      "text/plain": [
       "(165652, 32)"
      ]
     },
     "execution_count": 51,
     "metadata": {},
     "output_type": "execute_result"
    }
   ],
   "source": [
    "model = SelectFromModel(clf, prefit=True)\n",
    "X_train = model.transform(X_train)\n",
    "X_test = model.transform(X_test)\n",
    "X_test.shape "
   ]
  },
  {
   "cell_type": "code",
   "execution_count": 52,
   "id": "de02a475",
   "metadata": {
    "execution": {
     "iopub.execute_input": "2023-04-01T20:17:52.366877Z",
     "iopub.status.busy": "2023-04-01T20:17:52.366580Z",
     "iopub.status.idle": "2023-04-01T20:17:52.371426Z",
     "shell.execute_reply": "2023-04-01T20:17:52.370340Z"
    },
    "papermill": {
     "duration": 0.02017,
     "end_time": "2023-04-01T20:17:52.373705",
     "exception": false,
     "start_time": "2023-04-01T20:17:52.353535",
     "status": "completed"
    },
    "tags": []
   },
   "outputs": [],
   "source": [
    "X_train = X_train.reshape((-1, X_train.shape[-1], 1))\n",
    "X_test = X_test.reshape((-1, X_test.shape[-1], 1))"
   ]
  },
  {
   "cell_type": "code",
   "execution_count": 53,
   "id": "2c1a9854",
   "metadata": {
    "execution": {
     "iopub.execute_input": "2023-04-01T20:17:52.398851Z",
     "iopub.status.busy": "2023-04-01T20:17:52.398562Z",
     "iopub.status.idle": "2023-04-01T20:17:52.504053Z",
     "shell.execute_reply": "2023-04-01T20:17:52.502867Z"
    },
    "papermill": {
     "duration": 0.121091,
     "end_time": "2023-04-01T20:17:52.506763",
     "exception": false,
     "start_time": "2023-04-01T20:17:52.385672",
     "status": "completed"
    },
    "tags": []
   },
   "outputs": [
    {
     "data": {
      "text/plain": [
       "{0: 1.2114532692937052,\n",
       " 1: 1.2267247252584497,\n",
       " 2: 2.43697268828752,\n",
       " 3: 2.5700610508187944,\n",
       " 4: 0.7204704204034411,\n",
       " 5: 0.7239251872885254,\n",
       " 6: 1.2434632642299384,\n",
       " 7: 0.7780056946605219,\n",
       " 8: 1.1452571612276539,\n",
       " 9: 0.48190443774373115,\n",
       " 10: 1.3284174861416012}"
      ]
     },
     "execution_count": 53,
     "metadata": {},
     "output_type": "execute_result"
    }
   ],
   "source": [
    "from sklearn.utils import class_weight\n",
    "\n",
    "class_weights = class_weight.compute_class_weight('balanced',\n",
    "                                                 classes=np.unique(y_train),\n",
    "                                                 y=y_train)\n",
    "\n",
    "class_weights = {k: v for k,v in enumerate(class_weights)}\n",
    "class_weights"
   ]
  },
  {
   "cell_type": "code",
   "execution_count": 54,
   "id": "aa827e13",
   "metadata": {
    "execution": {
     "iopub.execute_input": "2023-04-01T20:17:52.532665Z",
     "iopub.status.busy": "2023-04-01T20:17:52.532346Z",
     "iopub.status.idle": "2023-04-01T20:17:52.537043Z",
     "shell.execute_reply": "2023-04-01T20:17:52.535956Z"
    },
    "papermill": {
     "duration": 0.020272,
     "end_time": "2023-04-01T20:17:52.539454",
     "exception": false,
     "start_time": "2023-04-01T20:17:52.519182",
     "status": "completed"
    },
    "tags": []
   },
   "outputs": [],
   "source": [
    "input_shape = X_train.shape[1:]\n",
    "nb_classes = len(label_encoder.classes_)"
   ]
  },
  {
   "cell_type": "code",
   "execution_count": null,
   "id": "ebe889b2",
   "metadata": {
    "papermill": {
     "duration": 0.011885,
     "end_time": "2023-04-01T20:17:52.563420",
     "exception": false,
     "start_time": "2023-04-01T20:17:52.551535",
     "status": "completed"
    },
    "tags": []
   },
   "outputs": [],
   "source": []
  },
  {
   "cell_type": "code",
   "execution_count": 55,
   "id": "d90b64e0",
   "metadata": {
    "execution": {
     "iopub.execute_input": "2023-04-01T20:17:52.589641Z",
     "iopub.status.busy": "2023-04-01T20:17:52.588845Z",
     "iopub.status.idle": "2023-04-01T20:17:58.930017Z",
     "shell.execute_reply": "2023-04-01T20:17:58.928869Z"
    },
    "papermill": {
     "duration": 6.357259,
     "end_time": "2023-04-01T20:17:58.932977",
     "exception": false,
     "start_time": "2023-04-01T20:17:52.575718",
     "status": "completed"
    },
    "tags": []
   },
   "outputs": [],
   "source": [
    "from tensorflow.keras.utils import to_categorical\n",
    "import os\n",
    "\n",
    "os.environ[\"TF_ENABLE_ONEDNN_OPTS\"] = \"0\"\n",
    "\n",
    "def convert_to_categorical(y, nb_classes):\n",
    "    return to_categorical(y, num_classes=nb_classes)"
   ]
  },
  {
   "cell_type": "code",
   "execution_count": 56,
   "id": "ee4b35dd",
   "metadata": {
    "execution": {
     "iopub.execute_input": "2023-04-01T20:17:58.960371Z",
     "iopub.status.busy": "2023-04-01T20:17:58.959145Z",
     "iopub.status.idle": "2023-04-01T20:17:58.965417Z",
     "shell.execute_reply": "2023-04-01T20:17:58.964516Z"
    },
    "papermill": {
     "duration": 0.021655,
     "end_time": "2023-04-01T20:17:58.967498",
     "exception": false,
     "start_time": "2023-04-01T20:17:58.945843",
     "status": "completed"
    },
    "tags": []
   },
   "outputs": [],
   "source": [
    "def iid_data_indices(labels: np.ndarray, nb_clients: int):\n",
    "    data_len = len(labels)\n",
    "    indices = np.arange(data_len)\n",
    "    np.random.shuffle(indices)\n",
    "    chunks = np.array_split(indices, nb_clients)\n",
    "    return chunks"
   ]
  },
  {
   "cell_type": "code",
   "execution_count": 57,
   "id": "b3eda860",
   "metadata": {
    "execution": {
     "iopub.execute_input": "2023-04-01T20:17:58.993036Z",
     "iopub.status.busy": "2023-04-01T20:17:58.992743Z",
     "iopub.status.idle": "2023-04-01T20:17:58.998828Z",
     "shell.execute_reply": "2023-04-01T20:17:58.997815Z"
    },
    "papermill": {
     "duration": 0.021187,
     "end_time": "2023-04-01T20:17:59.000888",
     "exception": false,
     "start_time": "2023-04-01T20:17:58.979701",
     "status": "completed"
    },
    "tags": []
   },
   "outputs": [],
   "source": [
    "def non_iid_data_indices(labels: np.ndarray, nb_clients: int, nb_shards: int = 200):\n",
    "    data_len = len(labels)\n",
    "    indices = np.arange(data_len)\n",
    "    indices = indices[labels.argsort()]\n",
    "    shards = np.array_split(indices, nb_shards)\n",
    "    random.shuffle(shards)\n",
    "    shards_for_users = np.array_split(shards, nb_clients)\n",
    "    indices_for_users = [np.hstack(x) for x in shards_for_users]\n",
    "    return indices_for_users"
   ]
  },
  {
   "cell_type": "code",
   "execution_count": 58,
   "id": "a6eaa148",
   "metadata": {
    "execution": {
     "iopub.execute_input": "2023-04-01T20:17:59.026896Z",
     "iopub.status.busy": "2023-04-01T20:17:59.026093Z",
     "iopub.status.idle": "2023-04-01T20:17:59.031649Z",
     "shell.execute_reply": "2023-04-01T20:17:59.030767Z"
    },
    "papermill": {
     "duration": 0.020602,
     "end_time": "2023-04-01T20:17:59.033690",
     "exception": false,
     "start_time": "2023-04-01T20:17:59.013088",
     "status": "completed"
    },
    "tags": []
   },
   "outputs": [],
   "source": [
    "def sample(y:np.ndarray, sampling_technique: str, nb_clients: int):\n",
    "    if sampling_technique.lower() == \"iid\":\n",
    "        sampler_fn = iid_data_indices\n",
    "    else:\n",
    "        sampler_fn = non_iid_data_indices\n",
    "    client_data_indices = sampler_fn(y, nb_clients)\n",
    "    return client_data_indices"
   ]
  },
  {
   "cell_type": "code",
   "execution_count": 59,
   "id": "21f7e094",
   "metadata": {
    "execution": {
     "iopub.execute_input": "2023-04-01T20:17:59.059341Z",
     "iopub.status.busy": "2023-04-01T20:17:59.059038Z",
     "iopub.status.idle": "2023-04-01T20:17:59.066089Z",
     "shell.execute_reply": "2023-04-01T20:17:59.065158Z"
    },
    "papermill": {
     "duration": 0.022215,
     "end_time": "2023-04-01T20:17:59.068146",
     "exception": false,
     "start_time": "2023-04-01T20:17:59.045931",
     "status": "completed"
    },
    "tags": []
   },
   "outputs": [],
   "source": [
    "def assign_data_to_clients(clients: dict, X:np.ndarray, y:np.ndarray, nb_classes:int, sampling_technique: str):\n",
    "    sampled_data_indices = sample(y, sampling_technique, len(clients.keys()))\n",
    "    for client_name, data_indices in zip(clients.keys(), sampled_data_indices):\n",
    "        X = X_train[data_indices]\n",
    "        y = y_train[data_indices]\n",
    "        y = convert_to_categorical(y, nb_classes)\n",
    "        clients[client_name] = list(zip(X, y))\n",
    "    return clients"
   ]
  },
  {
   "cell_type": "code",
   "execution_count": 60,
   "id": "b8380db0",
   "metadata": {
    "execution": {
     "iopub.execute_input": "2023-04-01T20:17:59.094111Z",
     "iopub.status.busy": "2023-04-01T20:17:59.093301Z",
     "iopub.status.idle": "2023-04-01T20:17:59.099563Z",
     "shell.execute_reply": "2023-04-01T20:17:59.098537Z"
    },
    "papermill": {
     "duration": 0.02144,
     "end_time": "2023-04-01T20:17:59.101687",
     "exception": false,
     "start_time": "2023-04-01T20:17:59.080247",
     "status": "completed"
    },
    "tags": []
   },
   "outputs": [],
   "source": [
    "def create_clients(X, y, nb_classes, sampling_technique, num_clients=10, initial='clients'):\n",
    "    #create a list of client names\n",
    "    client_names = ['{}_{}'.format(initial, i+1) for i in range(num_clients)]\n",
    "    clients = {client_names[i] : [] for i in range(len(client_names))}\n",
    "    return assign_data_to_clients(clients, X, y, nb_classes, sampling_technique)"
   ]
  },
  {
   "cell_type": "code",
   "execution_count": 61,
   "id": "ff0ca9ff",
   "metadata": {
    "execution": {
     "iopub.execute_input": "2023-04-01T20:17:59.126997Z",
     "iopub.status.busy": "2023-04-01T20:17:59.126732Z",
     "iopub.status.idle": "2023-04-01T20:17:59.133062Z",
     "shell.execute_reply": "2023-04-01T20:17:59.132156Z"
    },
    "papermill": {
     "duration": 0.021353,
     "end_time": "2023-04-01T20:17:59.135091",
     "exception": false,
     "start_time": "2023-04-01T20:17:59.113738",
     "status": "completed"
    },
    "tags": []
   },
   "outputs": [],
   "source": [
    "import tensorflow as tf\n",
    "\n",
    "def batch_data(data_shard, batch_size=64):\n",
    "    #seperate shard into data and labels lists\n",
    "    data, label = zip(*data_shard)\n",
    "    del data_shard\n",
    "\n",
    "    len_label = len(label)\n",
    "    dataset = tf.data.Dataset.from_tensor_slices((list(data), list(label)))\n",
    "    del data, label\n",
    "    return dataset.shuffle(len_label).batch(batch_size)"
   ]
  },
  {
   "cell_type": "code",
   "execution_count": 62,
   "id": "50d3d4d1",
   "metadata": {
    "execution": {
     "iopub.execute_input": "2023-04-01T20:17:59.160839Z",
     "iopub.status.busy": "2023-04-01T20:17:59.160061Z",
     "iopub.status.idle": "2023-04-01T20:17:59.166320Z",
     "shell.execute_reply": "2023-04-01T20:17:59.165447Z"
    },
    "papermill": {
     "duration": 0.02126,
     "end_time": "2023-04-01T20:17:59.168374",
     "exception": false,
     "start_time": "2023-04-01T20:17:59.147114",
     "status": "completed"
    },
    "tags": []
   },
   "outputs": [],
   "source": [
    "from keras.layers import Conv1D, MaxPool1D, BatchNormalization, Activation, Input, Add, \\\n",
    "                         GlobalAveragePooling1D, Dense, concatenate\n",
    "from keras.models import Model\n",
    "from tensorflow.keras.optimizers import Adam, RMSprop\n",
    "from tensorflow.keras.metrics import Recall, Precision\n",
    "import keras\n",
    "import time\n",
    "import os"
   ]
  },
  {
   "cell_type": "code",
   "execution_count": 63,
   "id": "e4db4c05",
   "metadata": {
    "execution": {
     "iopub.execute_input": "2023-04-01T20:17:59.194027Z",
     "iopub.status.busy": "2023-04-01T20:17:59.193242Z",
     "iopub.status.idle": "2023-04-01T20:17:59.200030Z",
     "shell.execute_reply": "2023-04-01T20:17:59.199148Z"
    },
    "papermill": {
     "duration": 0.021687,
     "end_time": "2023-04-01T20:17:59.202076",
     "exception": false,
     "start_time": "2023-04-01T20:17:59.180389",
     "status": "completed"
    },
    "tags": []
   },
   "outputs": [],
   "source": [
    "import keras.backend as K\n",
    "import tensorflow as tf\n",
    "\n",
    "def f1_score(y_true, y_pred):\n",
    "    true_positives = K.sum(K.round(K.clip(y_true * y_pred, 0, 1)))\n",
    "    possible_positives = K.sum(K.round(K.clip(y_true, 0, 1)))\n",
    "    predicted_positives = K.sum(K.round(K.clip(y_pred, 0, 1)))\n",
    "    precision = true_positives / (predicted_positives + K.epsilon())\n",
    "    recall = true_positives / (possible_positives + K.epsilon())\n",
    "    f1_val = 2*(precision*recall)/(precision+recall+K.epsilon())\n",
    "    return f1_val"
   ]
  },
  {
   "cell_type": "code",
   "execution_count": 64,
   "id": "5984b561",
   "metadata": {
    "execution": {
     "iopub.execute_input": "2023-04-01T20:17:59.227823Z",
     "iopub.status.busy": "2023-04-01T20:17:59.227563Z",
     "iopub.status.idle": "2023-04-01T20:17:59.417987Z",
     "shell.execute_reply": "2023-04-01T20:17:59.416873Z"
    },
    "papermill": {
     "duration": 0.206177,
     "end_time": "2023-04-01T20:17:59.420384",
     "exception": false,
     "start_time": "2023-04-01T20:17:59.214207",
     "status": "completed"
    },
    "tags": []
   },
   "outputs": [],
   "source": [
    "from keras import layers\n",
    "from keras.layers import Conv1D, MaxPooling1D, Concatenate, Activation, BatchNormalization\n",
    "\n",
    "class INCEPTION_Block(keras.layers.Layer):\n",
    "    def __init__(self, **kwargs):\n",
    "        super(INCEPTION_Block, self).__init__(**kwargs)\n",
    "        self.kernel_size = 50\n",
    "#         f1, f2_in, f2_out, f3_in, f3_out, f4_out = (128, 128, 192, 32, 96, 64)\n",
    "        f1, f2_in, f2_out, f3_in, f3_out, f4_out = (16, 16, 24, 4, 12, 8)\n",
    "        kernel_size_s = [10, 30, 50]\n",
    "        \n",
    "        # 1x1 conv\n",
    "        self.conv_1_1 = Conv1D(f1, kernel_size_s[0], padding='same', activation='relu')\n",
    "        \n",
    "        # 3x3 conv\n",
    "        self.conv_1_2 = Conv1D(f2_in, kernel_size_s[0], padding='same', activation='relu')\n",
    "        self.conv_3_2 = Conv1D(f2_out, kernel_size_s[1], padding='same', activation='relu')\n",
    "        \n",
    "        # 5x5 conv\n",
    "        self.conv_1_3 = Conv1D(f3_in, kernel_size_s[0], padding='same', activation='relu')\n",
    "        self.conv_5_3 = Conv1D(f3_out, kernel_size_s[2], padding='same', activation='relu')\n",
    "        \n",
    "        # 3x3 max pooling\n",
    "        self.pool = MaxPooling1D(kernel_size_s[1], strides=1, padding='same')\n",
    "        self.conv_final = Conv1D(f4_out, kernel_size_s[0], padding='same', activation='relu')\n",
    "        \n",
    "        # concatenate filters, assumes filters/channels last\n",
    "        self.concatenate = Concatenate(axis=-1)\n",
    "        \n",
    "        self.batch_normalization = BatchNormalization()\n",
    "        self.relu_activation = Activation(activation='relu')\n",
    "        \n",
    "    def call(self, layer_in):\n",
    "        # 1x1 conv\n",
    "        conv1 = self.conv_1_1(layer_in)\n",
    "        \n",
    "        # 3x3 conv\n",
    "        conv3 = self.conv_1_2(layer_in)\n",
    "        conv3 = self.conv_3_2(conv3)\n",
    "        \n",
    "        # 5x5 conv\n",
    "        conv5 = self.conv_1_3(layer_in)\n",
    "        conv5 = self.conv_5_3(conv5)\n",
    "        \n",
    "        # 3x3 max pooling\n",
    "        pool = self.pool(layer_in)\n",
    "        pool = self.conv_final(pool)\n",
    "        \n",
    "        # concatenate filters, assumes filters/channels last\n",
    "        layer_out = self.concatenate([conv1, conv3, conv5, pool])\n",
    "        \n",
    "        layer_out = self.batch_normalization(layer_out)\n",
    "        layer_out = self.relu_activation(layer_out)\n",
    "        \n",
    "        return layer_out\n",
    "\n",
    "def transformer_encoder(inputs, head_size, num_heads, ff_dim, dropout=0):\n",
    "    # Attention and Normalization\n",
    "    x = layers.MultiHeadAttention(\n",
    "        key_dim=head_size, num_heads=num_heads, dropout=dropout\n",
    "    )(inputs, inputs)\n",
    "    x = layers.Dropout(dropout)(x)\n",
    "    x = layers.LayerNormalization(epsilon=1e-6)(x)\n",
    "    res = x + inputs\n",
    "\n",
    "    # Feed Forward Part\n",
    "    x = keras.models.Sequential(\n",
    "        [INCEPTION_Block(),\n",
    "         INCEPTION_Block(),\n",
    "         INCEPTION_Block()])(res)\n",
    "    x = layers.Dropout(dropout)(x)\n",
    "    x = layers.Conv1D(filters=inputs.shape[-1], kernel_size=1)(x)\n",
    "    x = layers.LayerNormalization(epsilon=1e-6)(x)\n",
    "    return x + res\n",
    "\n",
    "class TransformerEncoder(layers.Layer):\n",
    "    def __init__(self, head_size, num_heads, neurons):\n",
    "        super(TransformerEncoder, self).__init__()\n",
    "        self.att = layers.MultiHeadAttention(num_heads=num_heads, key_dim=head_size)\n",
    "        self.ffn = keras.models.Sequential(\n",
    "            #[layers.Dense(neurons, activation=\"relu\"), layers.Dense(head_size),]\n",
    "            [\n",
    "                INCEPTION_Block(),\n",
    "                INCEPTION_Block(),\n",
    "                INCEPTION_Block(),\n",
    "            ]\n",
    "        )\n",
    "        self.layernorm1 = layers.LayerNormalization(epsilon=1e-6)\n",
    "        self.layernorm2 = layers.LayerNormalization(epsilon=1e-6)\n",
    "        self.dropout1 = layers.Dropout(0.1)\n",
    "        self.dropout2 = layers.Dropout(0.1)\n",
    "\n",
    "    def call(self, inputs, training):\n",
    "        attn_output = self.att(inputs, inputs)\n",
    "        attn_output = self.dropout1(attn_output, training=training)\n",
    "        out1 = self.layernorm1(inputs + attn_output)\n",
    "        ffn_output = self.ffn(out1)\n",
    "        ffn_output = self.dropout2(ffn_output, training=training)\n",
    "        return self.layernorm2(out1 + ffn_output)\n",
    "\n",
    "def get_model(input_shape, nb_classes) -> tf.keras.Model:\n",
    "    head_size=64 # Embedding size for attention\n",
    "    num_heads=3 # Number of attention heads\n",
    "    ff_dim=128 # Hidden layer size in feed forward network inside transformer\n",
    "    num_transformer_blocks=1\n",
    "    mlp_units=[32]\n",
    "    mlp_dropout=0.1\n",
    "    dropout=0.1\n",
    "\n",
    "    inputs = keras.Input(shape=input_shape)\n",
    "    x = inputs\n",
    "    for _ in range(num_transformer_blocks):\n",
    "        x = transformer_encoder(x, head_size, num_heads, ff_dim, dropout)\n",
    "\n",
    "    x = layers.GlobalAveragePooling1D(data_format=\"channels_first\")(x)\n",
    "    for dim in mlp_units:\n",
    "        x = layers.Dense(dim, activation=\"relu\")(x)\n",
    "        x = layers.Dropout(mlp_dropout)(x)\n",
    "    outputs = layers.Dense(nb_classes, activation=\"softmax\")(x)\n",
    "\n",
    "    return keras.Model(inputs, outputs)"
   ]
  },
  {
   "cell_type": "code",
   "execution_count": 65,
   "id": "3c6b1269",
   "metadata": {
    "execution": {
     "iopub.execute_input": "2023-04-01T20:17:59.447133Z",
     "iopub.status.busy": "2023-04-01T20:17:59.446249Z",
     "iopub.status.idle": "2023-04-01T20:18:02.638927Z",
     "shell.execute_reply": "2023-04-01T20:18:02.638101Z"
    },
    "papermill": {
     "duration": 3.227531,
     "end_time": "2023-04-01T20:18:02.660402",
     "exception": false,
     "start_time": "2023-04-01T20:17:59.432871",
     "status": "completed"
    },
    "tags": []
   },
   "outputs": [
    {
     "name": "stdout",
     "output_type": "stream",
     "text": [
      "Model: \"model_11\"\n",
      "__________________________________________________________________________________________________\n",
      " Layer (type)                   Output Shape         Param #     Connected to                     \n",
      "==================================================================================================\n",
      " input_12 (InputLayer)          [(None, 32, 1)]      0           []                               \n",
      "                                                                                                  \n",
      " multi_head_attention_11 (Multi  (None, 32, 1)       1345        ['input_12[0][0]',               \n",
      " HeadAttention)                                                   'input_12[0][0]']               \n",
      "                                                                                                  \n",
      " dropout_33 (Dropout)           (None, 32, 1)        0           ['multi_head_attention_11[0][0]']\n",
      "                                                                                                  \n",
      " layer_normalization_22 (LayerN  (None, 32, 1)       2           ['dropout_33[0][0]']             \n",
      " ormalization)                                                                                    \n",
      "                                                                                                  \n",
      " tf.__operators__.add_22 (TFOpL  (None, 32, 1)       0           ['layer_normalization_22[0][0]', \n",
      " ambda)                                                           'input_12[0][0]']               \n",
      "                                                                                                  \n",
      " sequential_11 (Sequential)     (None, 32, 60)       95960       ['tf.__operators__.add_22[0][0]']\n",
      "                                                                                                  \n",
      " dropout_34 (Dropout)           (None, 32, 60)       0           ['sequential_11[0][0]']          \n",
      "                                                                                                  \n",
      " conv1d_227 (Conv1D)            (None, 32, 1)        61          ['dropout_34[0][0]']             \n",
      "                                                                                                  \n",
      " layer_normalization_23 (LayerN  (None, 32, 1)       2           ['conv1d_227[0][0]']             \n",
      " ormalization)                                                                                    \n",
      "                                                                                                  \n",
      " tf.__operators__.add_23 (TFOpL  (None, 32, 1)       0           ['layer_normalization_23[0][0]', \n",
      " ambda)                                                           'tf.__operators__.add_22[0][0]']\n",
      "                                                                                                  \n",
      " global_average_pooling1d_11 (G  (None, 32)          0           ['tf.__operators__.add_23[0][0]']\n",
      " lobalAveragePooling1D)                                                                           \n",
      "                                                                                                  \n",
      " dense_22 (Dense)               (None, 32)           1056        ['global_average_pooling1d_11[0][\n",
      "                                                                 0]']                             \n",
      "                                                                                                  \n",
      " dropout_35 (Dropout)           (None, 32)           0           ['dense_22[0][0]']               \n",
      "                                                                                                  \n",
      " dense_23 (Dense)               (None, 11)           363         ['dropout_35[0][0]']             \n",
      "                                                                                                  \n",
      "==================================================================================================\n",
      "Total params: 98,789\n",
      "Trainable params: 98,429\n",
      "Non-trainable params: 360\n",
      "__________________________________________________________________________________________________\n"
     ]
    }
   ],
   "source": [
    "from keras.metrics import Recall, Precision\n",
    "from keras.utils.vis_utils import plot_model\n",
    "\n",
    "learning_rate = 1e-2\n",
    "comms_round = 10\n",
    "loss='categorical_crossentropy'\n",
    "metrics = [\"accuracy\", Recall(), Precision(), f1_score]\n",
    "optimizer = tf.keras.optimizers.legacy.RMSprop(learning_rate=learning_rate)\n",
    "\n",
    "#initialize global model\n",
    "global_model = get_model(input_shape, nb_classes)\n",
    "\n",
    "global_model.summary()"
   ]
  },
  {
   "cell_type": "code",
   "execution_count": 66,
   "id": "6fb54b64",
   "metadata": {
    "execution": {
     "iopub.execute_input": "2023-04-01T20:18:02.690862Z",
     "iopub.status.busy": "2023-04-01T20:18:02.690560Z",
     "iopub.status.idle": "2023-04-01T20:18:02.968685Z",
     "shell.execute_reply": "2023-04-01T20:18:02.967494Z"
    },
    "papermill": {
     "duration": 0.296413,
     "end_time": "2023-04-01T20:18:02.971510",
     "exception": false,
     "start_time": "2023-04-01T20:18:02.675097",
     "status": "completed"
    },
    "tags": []
   },
   "outputs": [
    {
     "name": "stdout",
     "output_type": "stream",
     "text": [
      "You must install pydot (`pip install pydot`) and install graphviz (see instructions at https://graphviz.gitlab.io/download/) for plot_model to work.\n"
     ]
    }
   ],
   "source": [
    "plot_model(global_model, to_file='global_model.png', show_shapes=True, show_layer_names=True)"
   ]
  },
  {
   "cell_type": "code",
   "execution_count": 67,
   "id": "667c5aa7",
   "metadata": {
    "execution": {
     "iopub.execute_input": "2023-04-01T20:18:03.005914Z",
     "iopub.status.busy": "2023-04-01T20:18:03.005595Z",
     "iopub.status.idle": "2023-04-01T20:19:00.545506Z",
     "shell.execute_reply": "2023-04-01T20:19:00.544429Z"
    },
    "papermill": {
     "duration": 57.560413,
     "end_time": "2023-04-01T20:19:00.548411",
     "exception": false,
     "start_time": "2023-04-01T20:18:02.987998",
     "status": "completed"
    },
    "tags": []
   },
   "outputs": [],
   "source": [
    "BATCH_SIZE = 64\n",
    "sampling_technique = \"iid\"\n",
    "\n",
    "# create clients\n",
    "clients_batched = create_clients(X_train, y_train, nb_classes, sampling_technique, num_clients=10, initial='client')\n",
    "\n",
    "# del X_train, y_train\n",
    "\n",
    "# process and batch the training data for each client\n",
    "client_set = {k: {} for k in clients_batched.keys()}\n",
    "\n",
    "for (client_name, data) in clients_batched.items():\n",
    "    client_set[client_name][\"dataset\"] = batch_data(data, BATCH_SIZE)\n",
    "    local_model = get_model(input_shape, nb_classes)\n",
    "    local_model.compile(loss=loss, \n",
    "                      optimizer=optimizer, \n",
    "                      metrics=metrics)\n",
    "    client_set[client_name][\"model\"] = local_model"
   ]
  },
  {
   "cell_type": "code",
   "execution_count": 68,
   "id": "80617c7d",
   "metadata": {
    "execution": {
     "iopub.execute_input": "2023-04-01T20:19:00.584726Z",
     "iopub.status.busy": "2023-04-01T20:19:00.582855Z",
     "iopub.status.idle": "2023-04-01T20:19:00.691917Z",
     "shell.execute_reply": "2023-04-01T20:19:00.690871Z"
    },
    "papermill": {
     "duration": 0.129285,
     "end_time": "2023-04-01T20:19:00.694340",
     "exception": false,
     "start_time": "2023-04-01T20:19:00.565055",
     "status": "completed"
    },
    "tags": []
   },
   "outputs": [],
   "source": [
    "#process and batch the test set \n",
    "\n",
    "y_test = convert_to_categorical(y_test, nb_classes)\n",
    "\n",
    "test_batched = tf.data.Dataset.from_tensor_slices((X_test, y_test)).batch(len(y_test))\n",
    "\n",
    "# del X_test, y_test"
   ]
  },
  {
   "cell_type": "markdown",
   "id": "1c889f26",
   "metadata": {},
   "source": [
    "------------------------------------------------\n",
    "# Matteo test data"
   ]
  },
  {
   "cell_type": "code",
   "execution_count": 71,
   "id": "9a029ba0",
   "metadata": {
    "papermill": {
     "duration": 0.015806,
     "end_time": "2023-04-01T20:19:00.726696",
     "exception": false,
     "start_time": "2023-04-01T20:19:00.710890",
     "status": "completed"
    },
    "tags": []
   },
   "outputs": [
    {
     "name": "stdout",
     "output_type": "stream",
     "text": [
      "X_train (662608, 32, 1)\n",
      "X_test (165652, 32, 1)\n",
      "y_train (662608,)\n",
      "y_test (165652, 11)\n",
      "(x_batch, y_batch) (<tf.Tensor: shape=(165652, 32, 1), dtype=float64, numpy=\n",
      "array([[[2.27585779e-01],\n",
      "        [2.54000648e-01],\n",
      "        [1.71395265e-04],\n",
      "        ...,\n",
      "        [0.00000000e+00],\n",
      "        [9.99996048e-01],\n",
      "        [9.99996048e-01]],\n",
      "\n",
      "       [[4.10697135e-03],\n",
      "        [2.94100825e-03],\n",
      "        [8.15729401e-10],\n",
      "        ...,\n",
      "        [2.27969977e-05],\n",
      "        [1.87264820e-08],\n",
      "        [2.39875342e-08]],\n",
      "\n",
      "       [[0.00000000e+00],\n",
      "        [0.00000000e+00],\n",
      "        [1.38777878e-17],\n",
      "        ...,\n",
      "        [0.00000000e+00],\n",
      "        [9.98841915e-01],\n",
      "        [9.98841915e-01]],\n",
      "\n",
      "       ...,\n",
      "\n",
      "       [[4.84603677e-01],\n",
      "        [8.27829600e-01],\n",
      "        [2.16088936e-02],\n",
      "        ...,\n",
      "        [9.16251323e-01],\n",
      "        [8.13175504e-06],\n",
      "        [4.08021092e-05]],\n",
      "\n",
      "       [[3.24073173e-01],\n",
      "        [4.29952449e-01],\n",
      "        [5.64643141e-03],\n",
      "        ...,\n",
      "        [0.00000000e+00],\n",
      "        [9.99998414e-01],\n",
      "        [9.99998414e-01]],\n",
      "\n",
      "       [[0.00000000e+00],\n",
      "        [0.00000000e+00],\n",
      "        [1.38777878e-17],\n",
      "        ...,\n",
      "        [0.00000000e+00],\n",
      "        [9.98841835e-01],\n",
      "        [9.98841835e-01]]])>, <tf.Tensor: shape=(165652, 11), dtype=float32, numpy=\n",
      "array([[0., 0., 0., ..., 0., 0., 0.],\n",
      "       [1., 0., 0., ..., 0., 0., 0.],\n",
      "       [0., 0., 0., ..., 0., 0., 0.],\n",
      "       ...,\n",
      "       [0., 1., 0., ..., 0., 0., 0.],\n",
      "       [0., 0., 0., ..., 1., 0., 0.],\n",
      "       [0., 0., 0., ..., 0., 0., 0.]], dtype=float32)>)\n",
      "1\n"
     ]
    }
   ],
   "source": [
    "print(\"X_train\", X_train.shape)\n",
    "print(\"X_test\", X_test.shape)\n",
    "\n",
    "print(\"y_train\", y_train.shape)\n",
    "print(\"y_test\", y_test.shape)\n",
    "\n",
    "i = 0\n",
    "for (x_batch, y_batch) in test_batched:\n",
    "    i += 1\n",
    "    print(\"(x_batch, y_batch)\", (x_batch, y_batch))\n",
    "print(i)"
   ]
  },
  {
   "cell_type": "code",
   "execution_count": 80,
   "id": "cef8f87b",
   "metadata": {},
   "outputs": [
    {
     "data": {
      "text/plain": [
       "(array([ 0,  1,  2,  3,  4,  5,  6,  7,  8,  9, 10]),\n",
       " array([ 49723,  49104,  24718,  23438,  83608,  83209,  48443,  77425,\n",
       "         52597, 124998,  45345]))"
      ]
     },
     "execution_count": 80,
     "metadata": {},
     "output_type": "execute_result"
    }
   ],
   "source": [
    "(unique, counts) = np.unique(y_train, return_counts=True)\n",
    "(unique, counts)"
   ]
  },
  {
   "cell_type": "code",
   "execution_count": 81,
   "id": "c6154ccb",
   "metadata": {},
   "outputs": [
    {
     "data": {
      "text/plain": [
       "(array([ 0,  1,  2,  3,  4,  5,  6,  7,  8,  9, 10]),\n",
       " array([12431, 12276,  6180,  5859, 20902, 20802, 12111, 19356, 13149,\n",
       "        31250, 11336]))"
      ]
     },
     "execution_count": 81,
     "metadata": {},
     "output_type": "execute_result"
    }
   ],
   "source": [
    "(unique, counts) = np.unique(y_test, return_counts=True)\n",
    "(unique, counts)"
   ]
  },
  {
   "cell_type": "code",
   "execution_count": 151,
   "id": "fa16d9c4",
   "metadata": {},
   "outputs": [],
   "source": [
    "BATCH_SIZE = 64\n",
    "sampling_technique = \"iid\"\n",
    "\n",
    "# create clients\n",
    "clients_batched = create_clients(X_train, y_train, nb_classes, sampling_technique, num_clients=10, initial='client')\n",
    "\n",
    "def create_small_batches(clients_batched_standard, percentage_small=0.5, how_small = 0.1):\n",
    "    new_batches_with_small_clients = {}\n",
    "    for index, client_name in enumerate(clients_batched_standard.keys()):\n",
    "        if index in range(int(len(clients_batched_standard.keys())*percentage_small)):\n",
    "#             small clients\n",
    "            new_batches_with_small_clients[client_name] = clients_batched_standard[client_name][:int(len(clients_batched_standard[client_name])*how_small)]\n",
    "#             normal clients\n",
    "        else:        \n",
    "            new_batches_with_small_clients[client_name] = clients_batched_standard[client_name]\n",
    "    return new_batches_with_small_clients\n",
    "            \n"
   ]
  },
  {
   "cell_type": "code",
   "execution_count": 152,
   "id": "3b980150",
   "metadata": {},
   "outputs": [
    {
     "name": "stdout",
     "output_type": "stream",
     "text": [
      "client_1 66261\n",
      "client_2 66261\n",
      "client_3 66261\n",
      "client_4 66261\n",
      "client_5 66261\n",
      "client_6 66261\n",
      "client_7 66261\n",
      "client_8 66261\n",
      "client_9 66260\n",
      "client_10 66260\n"
     ]
    }
   ],
   "source": [
    "for client_name in clients_batched.keys():\n",
    "    print(client_name, len(clients_batched[client_name]))"
   ]
  },
  {
   "cell_type": "code",
   "execution_count": 153,
   "id": "e509f307",
   "metadata": {
    "papermill": {
     "duration": 0.015641,
     "end_time": "2023-04-01T20:19:00.790471",
     "exception": false,
     "start_time": "2023-04-01T20:19:00.774830",
     "status": "completed"
    },
    "tags": []
   },
   "outputs": [],
   "source": [
    "clients_batched_with_small = create_small_batches(clients_batched)"
   ]
  },
  {
   "cell_type": "code",
   "execution_count": 154,
   "id": "04f860b0",
   "metadata": {},
   "outputs": [
    {
     "name": "stdout",
     "output_type": "stream",
     "text": [
      "client_1 6626\n",
      "client_2 6626\n",
      "client_3 6626\n",
      "client_4 6626\n",
      "client_5 6626\n",
      "client_6 66261\n",
      "client_7 66261\n",
      "client_8 66261\n",
      "client_9 66260\n",
      "client_10 66260\n"
     ]
    }
   ],
   "source": [
    "for client_name in clients_batched_with_small.keys():\n",
    "    print(client_name, len(clients_batched_with_small[client_name]))"
   ]
  },
  {
   "cell_type": "markdown",
   "id": "00358686",
   "metadata": {
    "papermill": {
     "duration": 0.016256,
     "end_time": "2023-04-01T20:19:00.758894",
     "exception": false,
     "start_time": "2023-04-01T20:19:00.742638",
     "status": "completed"
    },
    "tags": []
   },
   "source": [
    "-----------------------------------------"
   ]
  },
  {
   "cell_type": "markdown",
   "id": "b6f6060a",
   "metadata": {
    "papermill": {
     "duration": 0.015763,
     "end_time": "2023-04-01T20:19:00.822163",
     "exception": false,
     "start_time": "2023-04-01T20:19:00.806400",
     "status": "completed"
    },
    "tags": []
   },
   "source": [
    "# Evaluate the model"
   ]
  },
  {
   "cell_type": "code",
   "execution_count": null,
   "id": "985715db",
   "metadata": {},
   "outputs": [],
   "source": []
  },
  {
   "cell_type": "code",
   "execution_count": 70,
   "id": "e00f929d",
   "metadata": {},
   "outputs": [
    {
     "data": {
      "text/plain": [
       "(165652, 33, 1)"
      ]
     },
     "execution_count": 70,
     "metadata": {},
     "output_type": "execute_result"
    }
   ],
   "source": [
    "X_test.shape"
   ]
  },
  {
   "cell_type": "code",
   "execution_count": null,
   "id": "dd34d7cb",
   "metadata": {
    "papermill": {
     "duration": 0.015837,
     "end_time": "2023-04-01T20:19:00.853944",
     "exception": false,
     "start_time": "2023-04-01T20:19:00.838107",
     "status": "completed"
    },
    "tags": []
   },
   "outputs": [],
   "source": []
  },
  {
   "cell_type": "code",
   "execution_count": 35,
   "id": "7f68db29",
   "metadata": {
    "execution": {
     "iopub.execute_input": "2023-04-01T20:19:00.887373Z",
     "iopub.status.busy": "2023-04-01T20:19:00.887070Z",
     "iopub.status.idle": "2023-04-01T20:19:00.893401Z",
     "shell.execute_reply": "2023-04-01T20:19:00.892344Z"
    },
    "papermill": {
     "duration": 0.025637,
     "end_time": "2023-04-01T20:19:00.895497",
     "exception": false,
     "start_time": "2023-04-01T20:19:00.869860",
     "status": "completed"
    },
    "tags": []
   },
   "outputs": [],
   "source": [
    "def weight_scalling_factor(clients, client_name):\n",
    "    client_names = list(clients.keys())\n",
    "    #get the bs\n",
    "    bs = list(clients[client_name][\"dataset\"])[0][0].shape[0]\n",
    "    #first calculate the total training data points across clinets\n",
    "    global_count = sum([tf.data.experimental.cardinality(clients[client_name][\"dataset\"]).numpy() for client_name in client_names])*bs\n",
    "    # get the total number of data points held by a client\n",
    "    local_count = tf.data.experimental.cardinality(clients[client_name][\"dataset\"]).numpy()*bs\n",
    "    return local_count/global_count"
   ]
  },
  {
   "cell_type": "code",
   "execution_count": 36,
   "id": "22611362",
   "metadata": {
    "execution": {
     "iopub.execute_input": "2023-04-01T20:19:00.928794Z",
     "iopub.status.busy": "2023-04-01T20:19:00.928304Z",
     "iopub.status.idle": "2023-04-01T20:19:00.934321Z",
     "shell.execute_reply": "2023-04-01T20:19:00.933405Z"
    },
    "papermill": {
     "duration": 0.025284,
     "end_time": "2023-04-01T20:19:00.936678",
     "exception": false,
     "start_time": "2023-04-01T20:19:00.911394",
     "status": "completed"
    },
    "tags": []
   },
   "outputs": [],
   "source": [
    "def scale_model_weights(weight, scalar):\n",
    "    '''function for scaling a models weights'''\n",
    "    weight_final = []\n",
    "    steps = len(weight)\n",
    "    for i in range(steps):\n",
    "        weight_final.append(scalar * weight[i])\n",
    "    return weight_final"
   ]
  },
  {
   "cell_type": "code",
   "execution_count": 37,
   "id": "12069031",
   "metadata": {
    "execution": {
     "iopub.execute_input": "2023-04-01T20:19:00.969960Z",
     "iopub.status.busy": "2023-04-01T20:19:00.969690Z",
     "iopub.status.idle": "2023-04-01T20:19:00.975014Z",
     "shell.execute_reply": "2023-04-01T20:19:00.973954Z"
    },
    "papermill": {
     "duration": 0.024487,
     "end_time": "2023-04-01T20:19:00.977076",
     "exception": false,
     "start_time": "2023-04-01T20:19:00.952589",
     "status": "completed"
    },
    "tags": []
   },
   "outputs": [],
   "source": [
    "def sum_scaled_weights(scaled_weight_list):\n",
    "    '''Return the sum of the listed scaled weights. The is equivalent to scaled avg of the weights'''\n",
    "    avg_grad = list()\n",
    "    #get the average grad accross all client gradients\n",
    "    for grad_list_tuple in zip(*scaled_weight_list):\n",
    "        layer_mean = tf.math.reduce_sum(grad_list_tuple, axis=0)\n",
    "        avg_grad.append(layer_mean)\n",
    "        \n",
    "    return avg_grad"
   ]
  },
  {
   "cell_type": "code",
   "execution_count": 38,
   "id": "2306abd0",
   "metadata": {
    "execution": {
     "iopub.execute_input": "2023-04-01T20:19:01.010739Z",
     "iopub.status.busy": "2023-04-01T20:19:01.009958Z",
     "iopub.status.idle": "2023-04-01T20:19:01.018560Z",
     "shell.execute_reply": "2023-04-01T20:19:01.017673Z"
    },
    "papermill": {
     "duration": 0.027652,
     "end_time": "2023-04-01T20:19:01.020659",
     "exception": false,
     "start_time": "2023-04-01T20:19:00.993007",
     "status": "completed"
    },
    "tags": []
   },
   "outputs": [],
   "source": [
    "from sklearn.metrics import accuracy_score\n",
    "\n",
    "def test_model(X_test, y_test,  model, comm_round):\n",
    "    cce = tf.keras.losses.CategoricalCrossentropy(from_logits=True)\n",
    "    #logits = model.predict(X_test, batch_size=100)\n",
    "    logits = model.predict(X_test)\n",
    "    loss = cce(y_test, logits)\n",
    "    y_hat = np.argmax(logits, axis=1)\n",
    "    y_true = np.argmax(y_test, axis=1)\n",
    "\n",
    "    accuracy = accuracy_score(np.argmax(y_test, axis=1), np.argmax(logits, axis=1))\n",
    "    \n",
    "    r = Recall()\n",
    "    r.update_state(y_test, logits)\n",
    "    recall = r.result().numpy()\n",
    "    \n",
    "    p = Precision()\n",
    "    p.update_state(y_test, logits)\n",
    "    precision = p.result().numpy()\n",
    "    \n",
    "    f = f1_score(y_test, logits)\n",
    "    f1 = f.numpy()\n",
    "    \n",
    "    print('comm_round: {} | global_loss: {} | global_accuracy: {:.4} | global_recall: {:.4} | global_precision: {:.4} | global_f1_score: {:.4} \\n'.format(comm_round, loss, accuracy, recall, precision, f1))\n",
    "    return loss, accuracy, precision, recall, f1"
   ]
  },
  {
   "cell_type": "code",
   "execution_count": 39,
   "id": "4373e8c3",
   "metadata": {
    "execution": {
     "iopub.execute_input": "2023-04-01T20:19:01.054001Z",
     "iopub.status.busy": "2023-04-01T20:19:01.053214Z",
     "iopub.status.idle": "2023-04-01T20:19:01.059717Z",
     "shell.execute_reply": "2023-04-01T20:19:01.058826Z"
    },
    "papermill": {
     "duration": 0.025438,
     "end_time": "2023-04-01T20:19:01.061763",
     "exception": false,
     "start_time": "2023-04-01T20:19:01.036325",
     "status": "completed"
    },
    "tags": []
   },
   "outputs": [],
   "source": [
    "def train_client(client, global_weights, class_weights):\n",
    "    client_set[client][\"model\"] = client_set[client][\"model\"]\n",
    "\n",
    "    #set local model weight to the weight of the global model\n",
    "    client_set[client][\"model\"].set_weights(global_weights)\n",
    "\n",
    "    #fit local model with client's data\n",
    "    print(f\"Round: {comm_round} | Client: {client} training\")\n",
    "    client_set[client][\"model\"].fit(client_set[client][\"dataset\"], epochs=1, verbose=1, class_weight=class_weights)\n",
    "\n",
    "    #scale the model weights and add to list\n",
    "    scaling_factor = weight_scalling_factor(client_set, client)\n",
    "    scaled_weights = scale_model_weights(local_model.get_weights(), scaling_factor)\n",
    "    return scaled_weights"
   ]
  },
  {
   "cell_type": "code",
   "execution_count": 40,
   "id": "d4913057",
   "metadata": {
    "execution": {
     "iopub.execute_input": "2023-04-01T20:19:01.095083Z",
     "iopub.status.busy": "2023-04-01T20:19:01.094817Z",
     "iopub.status.idle": "2023-04-01T21:00:16.149288Z",
     "shell.execute_reply": "2023-04-01T21:00:16.148167Z"
    },
    "papermill": {
     "duration": 2475.073834,
     "end_time": "2023-04-01T21:00:16.151523",
     "exception": false,
     "start_time": "2023-04-01T20:19:01.077689",
     "status": "completed"
    },
    "tags": []
   },
   "outputs": [
    {
     "name": "stdout",
     "output_type": "stream",
     "text": [
      "Round: 0 | Client: client_3 training\n"
     ]
    },
    {
     "name": "stderr",
     "output_type": "stream",
     "text": [
      "2023-04-05 11:18:17.787756: I tensorflow/core/common_runtime/executor.cc:1197] [/device:CPU:0] (DEBUG INFO) Executor start aborting (this does not indicate an error and you can ignore this message): INVALID_ARGUMENT: You must feed a value for placeholder tensor 'Placeholder/_0' with dtype double and shape [66261,34,1]\n",
      "\t [[{{node Placeholder/_0}}]]\n",
      "2023-04-05 11:18:17.787916: I tensorflow/core/common_runtime/executor.cc:1197] [/device:CPU:0] (DEBUG INFO) Executor start aborting (this does not indicate an error and you can ignore this message): INVALID_ARGUMENT: You must feed a value for placeholder tensor 'Placeholder/_11' with dtype double and shape [11]\n",
      "\t [[{{node Placeholder/_11}}]]\n",
      "2023-04-05 11:18:20.533951: I tensorflow/compiler/xla/stream_executor/cuda/cuda_blas.cc:637] TensorFloat-32 will be used for the matrix multiplication. This will only be logged once.\n",
      "2023-04-05 11:18:20.623475: I tensorflow/compiler/xla/stream_executor/cuda/cuda_dnn.cc:424] Loaded cuDNN version 8801\n"
     ]
    },
    {
     "name": "stdout",
     "output_type": "stream",
     "text": [
      "1036/1036 [==============================] - 11s 7ms/step - loss: 0.4213 - accuracy: 0.7683 - recall: 0.7335 - precision: 0.7904 - f1_score: 0.7537\n"
     ]
    },
    {
     "name": "stderr",
     "output_type": "stream",
     "text": [
      "2023-04-05 11:18:28.848747: I tensorflow/core/common_runtime/executor.cc:1197] [/device:CPU:0] (DEBUG INFO) Executor start aborting (this does not indicate an error and you can ignore this message): INVALID_ARGUMENT: You must feed a value for placeholder tensor 'Placeholder/_1' with dtype float and shape [66261,11]\n",
      "\t [[{{node Placeholder/_1}}]]\n",
      "2023-04-05 11:18:28.848911: I tensorflow/core/common_runtime/executor.cc:1197] [/device:CPU:0] (DEBUG INFO) Executor start aborting (this does not indicate an error and you can ignore this message): INVALID_ARGUMENT: You must feed a value for placeholder tensor 'Placeholder/_1' with dtype float and shape [66261,11]\n",
      "\t [[{{node Placeholder/_1}}]]\n"
     ]
    },
    {
     "name": "stdout",
     "output_type": "stream",
     "text": [
      "Round: 0 | Client: client_8 training\n"
     ]
    },
    {
     "name": "stderr",
     "output_type": "stream",
     "text": [
      "2023-04-05 11:18:29.078754: I tensorflow/core/common_runtime/executor.cc:1197] [/device:CPU:0] (DEBUG INFO) Executor start aborting (this does not indicate an error and you can ignore this message): INVALID_ARGUMENT: You must feed a value for placeholder tensor 'Placeholder/_1' with dtype float and shape [66261,11]\n",
      "\t [[{{node Placeholder/_1}}]]\n",
      "2023-04-05 11:18:29.078919: I tensorflow/core/common_runtime/executor.cc:1197] [/device:CPU:0] (DEBUG INFO) Executor start aborting (this does not indicate an error and you can ignore this message): INVALID_ARGUMENT: You must feed a value for placeholder tensor 'Placeholder/_1' with dtype float and shape [66261,11]\n",
      "\t [[{{node Placeholder/_1}}]]\n"
     ]
    },
    {
     "name": "stdout",
     "output_type": "stream",
     "text": [
      "1036/1036 [==============================] - 9s 6ms/step - loss: 0.4268 - accuracy: 0.7658 - recall: 0.7321 - precision: 0.7889 - f1_score: 0.7510\n",
      "Round: 0 | Client: client_9 training\n"
     ]
    },
    {
     "name": "stderr",
     "output_type": "stream",
     "text": [
      "2023-04-05 11:18:37.668077: I tensorflow/core/common_runtime/executor.cc:1197] [/device:CPU:0] (DEBUG INFO) Executor start aborting (this does not indicate an error and you can ignore this message): INVALID_ARGUMENT: You must feed a value for placeholder tensor 'Placeholder/_1' with dtype float and shape [66261,11]\n",
      "\t [[{{node Placeholder/_1}}]]\n",
      "2023-04-05 11:18:37.668266: I tensorflow/core/common_runtime/executor.cc:1197] [/device:CPU:0] (DEBUG INFO) Executor start aborting (this does not indicate an error and you can ignore this message): INVALID_ARGUMENT: You must feed a value for placeholder tensor 'Placeholder/_1' with dtype float and shape [66261,11]\n",
      "\t [[{{node Placeholder/_1}}]]\n",
      "2023-04-05 11:18:37.823978: I tensorflow/core/common_runtime/executor.cc:1197] [/device:CPU:0] (DEBUG INFO) Executor start aborting (this does not indicate an error and you can ignore this message): INVALID_ARGUMENT: You must feed a value for placeholder tensor 'Placeholder/_11' with dtype double and shape [11]\n",
      "\t [[{{node Placeholder/_11}}]]\n",
      "2023-04-05 11:18:37.824141: I tensorflow/core/common_runtime/executor.cc:1197] [/device:CPU:0] (DEBUG INFO) Executor start aborting (this does not indicate an error and you can ignore this message): INVALID_ARGUMENT: You must feed a value for placeholder tensor 'Placeholder/_11' with dtype double and shape [11]\n",
      "\t [[{{node Placeholder/_11}}]]\n"
     ]
    },
    {
     "name": "stdout",
     "output_type": "stream",
     "text": [
      "1036/1036 [==============================] - 9s 7ms/step - loss: 0.4236 - accuracy: 0.7676 - recall: 0.7317 - precision: 0.7895 - f1_score: 0.7513\n",
      "Round: 0 | Client: client_1 training\n"
     ]
    },
    {
     "name": "stderr",
     "output_type": "stream",
     "text": [
      "2023-04-05 11:18:47.158636: I tensorflow/core/common_runtime/executor.cc:1197] [/device:CPU:0] (DEBUG INFO) Executor start aborting (this does not indicate an error and you can ignore this message): INVALID_ARGUMENT: You must feed a value for placeholder tensor 'Placeholder/_1' with dtype float and shape [66260,11]\n",
      "\t [[{{node Placeholder/_1}}]]\n",
      "2023-04-05 11:18:47.158822: I tensorflow/core/common_runtime/executor.cc:1197] [/device:CPU:0] (DEBUG INFO) Executor start aborting (this does not indicate an error and you can ignore this message): INVALID_ARGUMENT: You must feed a value for placeholder tensor 'Placeholder/_1' with dtype float and shape [66260,11]\n",
      "\t [[{{node Placeholder/_1}}]]\n",
      "2023-04-05 11:18:47.315846: I tensorflow/core/common_runtime/executor.cc:1197] [/device:CPU:0] (DEBUG INFO) Executor start aborting (this does not indicate an error and you can ignore this message): INVALID_ARGUMENT: You must feed a value for placeholder tensor 'Placeholder/_0' with dtype double and shape [66261,34,1]\n",
      "\t [[{{node Placeholder/_0}}]]\n",
      "2023-04-05 11:18:47.316015: I tensorflow/core/common_runtime/executor.cc:1197] [/device:CPU:0] (DEBUG INFO) Executor start aborting (this does not indicate an error and you can ignore this message): INVALID_ARGUMENT: You must feed a value for placeholder tensor 'Placeholder/_11' with dtype double and shape [11]\n",
      "\t [[{{node Placeholder/_11}}]]\n"
     ]
    },
    {
     "name": "stdout",
     "output_type": "stream",
     "text": [
      "1036/1036 [==============================] - 9s 6ms/step - loss: 0.4307 - accuracy: 0.7649 - recall: 0.7307 - precision: 0.7892 - f1_score: 0.7489\n",
      "Round: 0 | Client: client_4 training\n"
     ]
    },
    {
     "name": "stderr",
     "output_type": "stream",
     "text": [
      "2023-04-05 11:18:55.927969: I tensorflow/core/common_runtime/executor.cc:1197] [/device:CPU:0] (DEBUG INFO) Executor start aborting (this does not indicate an error and you can ignore this message): INVALID_ARGUMENT: You must feed a value for placeholder tensor 'Placeholder/_0' with dtype double and shape [66261,34,1]\n",
      "\t [[{{node Placeholder/_0}}]]\n",
      "2023-04-05 11:18:55.928156: I tensorflow/core/common_runtime/executor.cc:1197] [/device:CPU:0] (DEBUG INFO) Executor start aborting (this does not indicate an error and you can ignore this message): INVALID_ARGUMENT: You must feed a value for placeholder tensor 'Placeholder/_1' with dtype float and shape [66261,11]\n",
      "\t [[{{node Placeholder/_1}}]]\n",
      "2023-04-05 11:18:56.091909: I tensorflow/core/common_runtime/executor.cc:1197] [/device:CPU:0] (DEBUG INFO) Executor start aborting (this does not indicate an error and you can ignore this message): INVALID_ARGUMENT: You must feed a value for placeholder tensor 'Placeholder/_11' with dtype double and shape [11]\n",
      "\t [[{{node Placeholder/_11}}]]\n",
      "2023-04-05 11:18:56.092066: I tensorflow/core/common_runtime/executor.cc:1197] [/device:CPU:0] (DEBUG INFO) Executor start aborting (this does not indicate an error and you can ignore this message): INVALID_ARGUMENT: You must feed a value for placeholder tensor 'Placeholder/_11' with dtype double and shape [11]\n",
      "\t [[{{node Placeholder/_11}}]]\n"
     ]
    },
    {
     "name": "stdout",
     "output_type": "stream",
     "text": [
      "1036/1036 [==============================] - 9s 6ms/step - loss: 0.4254 - accuracy: 0.7647 - recall: 0.7304 - precision: 0.7888 - f1_score: 0.7497\n",
      "Round: 0 | Client: client_7 training\n"
     ]
    },
    {
     "name": "stderr",
     "output_type": "stream",
     "text": [
      "2023-04-05 11:19:04.782409: I tensorflow/core/common_runtime/executor.cc:1197] [/device:CPU:0] (DEBUG INFO) Executor start aborting (this does not indicate an error and you can ignore this message): INVALID_ARGUMENT: You must feed a value for placeholder tensor 'Placeholder/_1' with dtype float and shape [66261,11]\n",
      "\t [[{{node Placeholder/_1}}]]\n",
      "2023-04-05 11:19:04.782581: I tensorflow/core/common_runtime/executor.cc:1197] [/device:CPU:0] (DEBUG INFO) Executor start aborting (this does not indicate an error and you can ignore this message): INVALID_ARGUMENT: You must feed a value for placeholder tensor 'Placeholder/_1' with dtype float and shape [66261,11]\n",
      "\t [[{{node Placeholder/_1}}]]\n",
      "2023-04-05 11:19:04.940716: I tensorflow/core/common_runtime/executor.cc:1197] [/device:CPU:0] (DEBUG INFO) Executor start aborting (this does not indicate an error and you can ignore this message): INVALID_ARGUMENT: You must feed a value for placeholder tensor 'Placeholder/_11' with dtype double and shape [11]\n",
      "\t [[{{node Placeholder/_11}}]]\n",
      "2023-04-05 11:19:04.940874: I tensorflow/core/common_runtime/executor.cc:1197] [/device:CPU:0] (DEBUG INFO) Executor start aborting (this does not indicate an error and you can ignore this message): INVALID_ARGUMENT: You must feed a value for placeholder tensor 'Placeholder/_1' with dtype float and shape [66261,11]\n",
      "\t [[{{node Placeholder/_1}}]]\n"
     ]
    },
    {
     "name": "stdout",
     "output_type": "stream",
     "text": [
      "1036/1036 [==============================] - 9s 6ms/step - loss: 0.4232 - accuracy: 0.7675 - recall: 0.7303 - precision: 0.7893 - f1_score: 0.7517\n",
      "Round: 0 | Client: client_10 training\n"
     ]
    },
    {
     "name": "stderr",
     "output_type": "stream",
     "text": [
      "2023-04-05 11:19:13.798712: I tensorflow/core/common_runtime/executor.cc:1197] [/device:CPU:0] (DEBUG INFO) Executor start aborting (this does not indicate an error and you can ignore this message): INVALID_ARGUMENT: You must feed a value for placeholder tensor 'Placeholder/_1' with dtype float and shape [66261,11]\n",
      "\t [[{{node Placeholder/_1}}]]\n",
      "2023-04-05 11:19:13.798893: I tensorflow/core/common_runtime/executor.cc:1197] [/device:CPU:0] (DEBUG INFO) Executor start aborting (this does not indicate an error and you can ignore this message): INVALID_ARGUMENT: You must feed a value for placeholder tensor 'Placeholder/_1' with dtype float and shape [66261,11]\n",
      "\t [[{{node Placeholder/_1}}]]\n",
      "2023-04-05 11:19:13.957562: I tensorflow/core/common_runtime/executor.cc:1197] [/device:CPU:0] (DEBUG INFO) Executor start aborting (this does not indicate an error and you can ignore this message): INVALID_ARGUMENT: You must feed a value for placeholder tensor 'Placeholder/_0' with dtype double and shape [66260,34,1]\n",
      "\t [[{{node Placeholder/_0}}]]\n",
      "2023-04-05 11:19:13.957744: I tensorflow/core/common_runtime/executor.cc:1197] [/device:CPU:0] (DEBUG INFO) Executor start aborting (this does not indicate an error and you can ignore this message): INVALID_ARGUMENT: You must feed a value for placeholder tensor 'Placeholder/_0' with dtype double and shape [66260,34,1]\n",
      "\t [[{{node Placeholder/_0}}]]\n"
     ]
    },
    {
     "name": "stdout",
     "output_type": "stream",
     "text": [
      "1036/1036 [==============================] - 9s 6ms/step - loss: 0.4237 - accuracy: 0.7666 - recall: 0.7302 - precision: 0.7894 - f1_score: 0.7517\n",
      "Round: 0 | Client: client_5 training\n"
     ]
    },
    {
     "name": "stderr",
     "output_type": "stream",
     "text": [
      "2023-04-05 11:19:22.577389: I tensorflow/core/common_runtime/executor.cc:1197] [/device:CPU:0] (DEBUG INFO) Executor start aborting (this does not indicate an error and you can ignore this message): INVALID_ARGUMENT: You must feed a value for placeholder tensor 'Placeholder/_1' with dtype float and shape [66260,11]\n",
      "\t [[{{node Placeholder/_1}}]]\n",
      "2023-04-05 11:19:22.577558: I tensorflow/core/common_runtime/executor.cc:1197] [/device:CPU:0] (DEBUG INFO) Executor start aborting (this does not indicate an error and you can ignore this message): INVALID_ARGUMENT: You must feed a value for placeholder tensor 'Placeholder/_1' with dtype float and shape [66260,11]\n",
      "\t [[{{node Placeholder/_1}}]]\n",
      "2023-04-05 11:19:22.756987: I tensorflow/core/common_runtime/executor.cc:1197] [/device:CPU:0] (DEBUG INFO) Executor start aborting (this does not indicate an error and you can ignore this message): INVALID_ARGUMENT: You must feed a value for placeholder tensor 'Placeholder/_0' with dtype double and shape [66261,34,1]\n",
      "\t [[{{node Placeholder/_0}}]]\n",
      "2023-04-05 11:19:22.757152: I tensorflow/core/common_runtime/executor.cc:1197] [/device:CPU:0] (DEBUG INFO) Executor start aborting (this does not indicate an error and you can ignore this message): INVALID_ARGUMENT: You must feed a value for placeholder tensor 'Placeholder/_11' with dtype double and shape [11]\n",
      "\t [[{{node Placeholder/_11}}]]\n"
     ]
    },
    {
     "name": "stdout",
     "output_type": "stream",
     "text": [
      "1036/1036 [==============================] - 9s 6ms/step - loss: 0.4237 - accuracy: 0.7675 - recall: 0.7301 - precision: 0.7897 - f1_score: 0.7509\n",
      "Round: 0 | Client: client_2 training\n"
     ]
    },
    {
     "name": "stderr",
     "output_type": "stream",
     "text": [
      "2023-04-05 11:19:31.300126: I tensorflow/core/common_runtime/executor.cc:1197] [/device:CPU:0] (DEBUG INFO) Executor start aborting (this does not indicate an error and you can ignore this message): INVALID_ARGUMENT: You must feed a value for placeholder tensor 'Placeholder/_1' with dtype float and shape [66261,11]\n",
      "\t [[{{node Placeholder/_1}}]]\n",
      "2023-04-05 11:19:31.300296: I tensorflow/core/common_runtime/executor.cc:1197] [/device:CPU:0] (DEBUG INFO) Executor start aborting (this does not indicate an error and you can ignore this message): INVALID_ARGUMENT: You must feed a value for placeholder tensor 'Placeholder/_1' with dtype float and shape [66261,11]\n",
      "\t [[{{node Placeholder/_1}}]]\n",
      "2023-04-05 11:19:31.455083: I tensorflow/core/common_runtime/executor.cc:1197] [/device:CPU:0] (DEBUG INFO) Executor start aborting (this does not indicate an error and you can ignore this message): INVALID_ARGUMENT: You must feed a value for placeholder tensor 'Placeholder/_0' with dtype double and shape [66261,34,1]\n",
      "\t [[{{node Placeholder/_0}}]]\n",
      "2023-04-05 11:19:31.455280: I tensorflow/core/common_runtime/executor.cc:1197] [/device:CPU:0] (DEBUG INFO) Executor start aborting (this does not indicate an error and you can ignore this message): INVALID_ARGUMENT: You must feed a value for placeholder tensor 'Placeholder/_0' with dtype double and shape [66261,34,1]\n",
      "\t [[{{node Placeholder/_0}}]]\n"
     ]
    },
    {
     "name": "stdout",
     "output_type": "stream",
     "text": [
      "1036/1036 [==============================] - 9s 6ms/step - loss: 0.4211 - accuracy: 0.7688 - recall: 0.7303 - precision: 0.7899 - f1_score: 0.7529\n",
      "Round: 0 | Client: client_6 training\n"
     ]
    },
    {
     "name": "stderr",
     "output_type": "stream",
     "text": [
      "2023-04-05 11:19:40.219994: I tensorflow/core/common_runtime/executor.cc:1197] [/device:CPU:0] (DEBUG INFO) Executor start aborting (this does not indicate an error and you can ignore this message): INVALID_ARGUMENT: You must feed a value for placeholder tensor 'Placeholder/_1' with dtype float and shape [66261,11]\n",
      "\t [[{{node Placeholder/_1}}]]\n",
      "2023-04-05 11:19:40.220163: I tensorflow/core/common_runtime/executor.cc:1197] [/device:CPU:0] (DEBUG INFO) Executor start aborting (this does not indicate an error and you can ignore this message): INVALID_ARGUMENT: You must feed a value for placeholder tensor 'Placeholder/_1' with dtype float and shape [66261,11]\n",
      "\t [[{{node Placeholder/_1}}]]\n",
      "2023-04-05 11:19:40.399349: I tensorflow/core/common_runtime/executor.cc:1197] [/device:CPU:0] (DEBUG INFO) Executor start aborting (this does not indicate an error and you can ignore this message): INVALID_ARGUMENT: You must feed a value for placeholder tensor 'Placeholder/_1' with dtype float and shape [66261,11]\n",
      "\t [[{{node Placeholder/_1}}]]\n",
      "2023-04-05 11:19:40.399513: I tensorflow/core/common_runtime/executor.cc:1197] [/device:CPU:0] (DEBUG INFO) Executor start aborting (this does not indicate an error and you can ignore this message): INVALID_ARGUMENT: You must feed a value for placeholder tensor 'Placeholder/_1' with dtype float and shape [66261,11]\n",
      "\t [[{{node Placeholder/_1}}]]\n"
     ]
    },
    {
     "name": "stdout",
     "output_type": "stream",
     "text": [
      "1036/1036 [==============================] - 9s 6ms/step - loss: 0.4267 - accuracy: 0.7632 - recall: 0.7300 - precision: 0.7896 - f1_score: 0.7476\n"
     ]
    },
    {
     "name": "stderr",
     "output_type": "stream",
     "text": [
      "2023-04-05 11:19:48.942250: I tensorflow/core/common_runtime/executor.cc:1197] [/device:CPU:0] (DEBUG INFO) Executor start aborting (this does not indicate an error and you can ignore this message): INVALID_ARGUMENT: You must feed a value for placeholder tensor 'Placeholder/_1' with dtype float and shape [66261,11]\n",
      "\t [[{{node Placeholder/_1}}]]\n",
      "2023-04-05 11:19:48.942415: I tensorflow/core/common_runtime/executor.cc:1197] [/device:CPU:0] (DEBUG INFO) Executor start aborting (this does not indicate an error and you can ignore this message): INVALID_ARGUMENT: You must feed a value for placeholder tensor 'Placeholder/_1' with dtype float and shape [66261,11]\n",
      "\t [[{{node Placeholder/_1}}]]\n",
      "2023-04-05 11:19:49.231226: I tensorflow/core/common_runtime/executor.cc:1197] [/device:CPU:0] (DEBUG INFO) Executor start aborting (this does not indicate an error and you can ignore this message): INVALID_ARGUMENT: You must feed a value for placeholder tensor 'Placeholder/_1' with dtype float and shape [165652,11]\n",
      "\t [[{{node Placeholder/_1}}]]\n"
     ]
    },
    {
     "name": "stdout",
     "output_type": "stream",
     "text": [
      "5177/5177 [==============================] - 7s 1ms/step\n",
      "comm_round: 0 | global_loss: 2.126438617706299 | global_accuracy: 0.4396 | global_recall: 0.3159 | global_precision: 0.743 | global_f1_score: 0.4433 \n",
      "\n",
      "New Weights Saved\n",
      "Round: 1 | Client: client_5 training\n",
      "   9/1036 [..............................] - ETA: 7s - loss: 0.6987 - accuracy: 0.7361 - recall: 0.5330 - precision: 0.8504 - f1_score: 0.6453  "
     ]
    },
    {
     "name": "stderr",
     "output_type": "stream",
     "text": [
      "2023-04-05 11:19:58.381892: I tensorflow/core/common_runtime/executor.cc:1197] [/device:CPU:0] (DEBUG INFO) Executor start aborting (this does not indicate an error and you can ignore this message): INVALID_ARGUMENT: You must feed a value for placeholder tensor 'Placeholder/_0' with dtype double and shape [66261,34,1]\n",
      "\t [[{{node Placeholder/_0}}]]\n",
      "2023-04-05 11:19:58.382073: I tensorflow/core/common_runtime/executor.cc:1197] [/device:CPU:0] (DEBUG INFO) Executor start aborting (this does not indicate an error and you can ignore this message): INVALID_ARGUMENT: You must feed a value for placeholder tensor 'Placeholder/_11' with dtype double and shape [11]\n",
      "\t [[{{node Placeholder/_11}}]]\n"
     ]
    },
    {
     "name": "stdout",
     "output_type": "stream",
     "text": [
      "1036/1036 [==============================] - 7s 6ms/step - loss: 0.3463 - accuracy: 0.7940 - recall: 0.7768 - precision: 0.8051 - f1_score: 0.7899\n",
      "Round: 1 | Client: client_3 training\n",
      "  17/1036 [..............................] - ETA: 6s - loss: 0.6491 - accuracy: 0.7206 - recall: 0.5542 - precision: 0.8040 - f1_score: 0.6483"
     ]
    },
    {
     "name": "stderr",
     "output_type": "stream",
     "text": [
      "2023-04-05 11:20:05.256096: I tensorflow/core/common_runtime/executor.cc:1197] [/device:CPU:0] (DEBUG INFO) Executor start aborting (this does not indicate an error and you can ignore this message): INVALID_ARGUMENT: You must feed a value for placeholder tensor 'Placeholder/_0' with dtype double and shape [66261,34,1]\n",
      "\t [[{{node Placeholder/_0}}]]\n",
      "2023-04-05 11:20:05.256271: I tensorflow/core/common_runtime/executor.cc:1197] [/device:CPU:0] (DEBUG INFO) Executor start aborting (this does not indicate an error and you can ignore this message): INVALID_ARGUMENT: You must feed a value for placeholder tensor 'Placeholder/_11' with dtype double and shape [11]\n",
      "\t [[{{node Placeholder/_11}}]]\n"
     ]
    },
    {
     "name": "stdout",
     "output_type": "stream",
     "text": [
      "1036/1036 [==============================] - 7s 6ms/step - loss: 0.3514 - accuracy: 0.7934 - recall: 0.7737 - precision: 0.8059 - f1_score: 0.7886\n",
      "Round: 1 | Client: client_1 training\n",
      "  17/1036 [..............................] - ETA: 6s - loss: 0.6551 - accuracy: 0.7022 - recall: 0.5404 - precision: 0.8293 - f1_score: 0.6474"
     ]
    },
    {
     "name": "stderr",
     "output_type": "stream",
     "text": [
      "2023-04-05 11:20:12.129374: I tensorflow/core/common_runtime/executor.cc:1197] [/device:CPU:0] (DEBUG INFO) Executor start aborting (this does not indicate an error and you can ignore this message): INVALID_ARGUMENT: You must feed a value for placeholder tensor 'Placeholder/_11' with dtype double and shape [11]\n",
      "\t [[{{node Placeholder/_11}}]]\n",
      "2023-04-05 11:20:12.129559: I tensorflow/core/common_runtime/executor.cc:1197] [/device:CPU:0] (DEBUG INFO) Executor start aborting (this does not indicate an error and you can ignore this message): INVALID_ARGUMENT: You must feed a value for placeholder tensor 'Placeholder/_11' with dtype double and shape [11]\n",
      "\t [[{{node Placeholder/_11}}]]\n"
     ]
    },
    {
     "name": "stdout",
     "output_type": "stream",
     "text": [
      "1036/1036 [==============================] - 7s 6ms/step - loss: 0.3479 - accuracy: 0.7939 - recall: 0.7754 - precision: 0.8058 - f1_score: 0.7895\n",
      "Round: 1 | Client: client_8 training\n",
      "  18/1036 [..............................] - ETA: 6s - loss: 0.6408 - accuracy: 0.7188 - recall: 0.5434 - precision: 0.8358 - f1_score: 0.6479"
     ]
    },
    {
     "name": "stderr",
     "output_type": "stream",
     "text": [
      "2023-04-05 11:20:18.929653: I tensorflow/core/common_runtime/executor.cc:1197] [/device:CPU:0] (DEBUG INFO) Executor start aborting (this does not indicate an error and you can ignore this message): INVALID_ARGUMENT: You must feed a value for placeholder tensor 'Placeholder/_11' with dtype double and shape [11]\n",
      "\t [[{{node Placeholder/_11}}]]\n",
      "2023-04-05 11:20:18.929842: I tensorflow/core/common_runtime/executor.cc:1197] [/device:CPU:0] (DEBUG INFO) Executor start aborting (this does not indicate an error and you can ignore this message): INVALID_ARGUMENT: You must feed a value for placeholder tensor 'Placeholder/_11' with dtype double and shape [11]\n",
      "\t [[{{node Placeholder/_11}}]]\n"
     ]
    },
    {
     "name": "stdout",
     "output_type": "stream",
     "text": [
      "1036/1036 [==============================] - 7s 6ms/step - loss: 0.3515 - accuracy: 0.7959 - recall: 0.7763 - precision: 0.8081 - f1_score: 0.7908\n",
      "Round: 1 | Client: client_4 training\n",
      "   9/1036 [..............................] - ETA: 6s - loss: 0.8043 - accuracy: 0.7118 - recall: 0.4983 - precision: 0.7820 - f1_score: 0.5967  "
     ]
    },
    {
     "name": "stderr",
     "output_type": "stream",
     "text": [
      "2023-04-05 11:20:25.680525: I tensorflow/core/common_runtime/executor.cc:1197] [/device:CPU:0] (DEBUG INFO) Executor start aborting (this does not indicate an error and you can ignore this message): INVALID_ARGUMENT: You must feed a value for placeholder tensor 'Placeholder/_0' with dtype double and shape [66261,34,1]\n",
      "\t [[{{node Placeholder/_0}}]]\n",
      "2023-04-05 11:20:25.680700: I tensorflow/core/common_runtime/executor.cc:1197] [/device:CPU:0] (DEBUG INFO) Executor start aborting (this does not indicate an error and you can ignore this message): INVALID_ARGUMENT: You must feed a value for placeholder tensor 'Placeholder/_11' with dtype double and shape [11]\n",
      "\t [[{{node Placeholder/_11}}]]\n"
     ]
    },
    {
     "name": "stdout",
     "output_type": "stream",
     "text": [
      "1036/1036 [==============================] - 7s 6ms/step - loss: 0.3475 - accuracy: 0.7961 - recall: 0.7774 - precision: 0.8080 - f1_score: 0.7914\n",
      "Round: 1 | Client: client_6 training\n",
      "   9/1036 [..............................] - ETA: 6s - loss: 0.7874 - accuracy: 0.6649 - recall: 0.4514 - precision: 0.7784 - f1_score: 0.5637  "
     ]
    },
    {
     "name": "stderr",
     "output_type": "stream",
     "text": [
      "2023-04-05 11:20:32.525357: I tensorflow/core/common_runtime/executor.cc:1197] [/device:CPU:0] (DEBUG INFO) Executor start aborting (this does not indicate an error and you can ignore this message): INVALID_ARGUMENT: You must feed a value for placeholder tensor 'Placeholder/_0' with dtype double and shape [66261,34,1]\n",
      "\t [[{{node Placeholder/_0}}]]\n",
      "2023-04-05 11:20:32.525536: I tensorflow/core/common_runtime/executor.cc:1197] [/device:CPU:0] (DEBUG INFO) Executor start aborting (this does not indicate an error and you can ignore this message): INVALID_ARGUMENT: You must feed a value for placeholder tensor 'Placeholder/_11' with dtype double and shape [11]\n",
      "\t [[{{node Placeholder/_11}}]]\n"
     ]
    },
    {
     "name": "stdout",
     "output_type": "stream",
     "text": [
      "1036/1036 [==============================] - 7s 6ms/step - loss: 0.3548 - accuracy: 0.7914 - recall: 0.7731 - precision: 0.8044 - f1_score: 0.7877\n",
      "Round: 1 | Client: client_10 training\n",
      "  17/1036 [..............................] - ETA: 6s - loss: 0.6439 - accuracy: 0.7390 - recall: 0.5864 - precision: 0.8439 - f1_score: 0.6856"
     ]
    },
    {
     "name": "stderr",
     "output_type": "stream",
     "text": [
      "2023-04-05 11:20:39.356956: I tensorflow/core/common_runtime/executor.cc:1197] [/device:CPU:0] (DEBUG INFO) Executor start aborting (this does not indicate an error and you can ignore this message): INVALID_ARGUMENT: You must feed a value for placeholder tensor 'Placeholder/_11' with dtype double and shape [11]\n",
      "\t [[{{node Placeholder/_11}}]]\n",
      "2023-04-05 11:20:39.357140: I tensorflow/core/common_runtime/executor.cc:1197] [/device:CPU:0] (DEBUG INFO) Executor start aborting (this does not indicate an error and you can ignore this message): INVALID_ARGUMENT: You must feed a value for placeholder tensor 'Placeholder/_0' with dtype double and shape [66260,34,1]\n",
      "\t [[{{node Placeholder/_0}}]]\n"
     ]
    },
    {
     "name": "stdout",
     "output_type": "stream",
     "text": [
      "1036/1036 [==============================] - 7s 6ms/step - loss: 0.3456 - accuracy: 0.7957 - recall: 0.7771 - precision: 0.8087 - f1_score: 0.7917\n",
      "Round: 1 | Client: client_7 training\n",
      "  18/1036 [..............................] - ETA: 6s - loss: 0.6402 - accuracy: 0.7352 - recall: 0.5556 - precision: 0.8466 - f1_score: 0.6620"
     ]
    },
    {
     "name": "stderr",
     "output_type": "stream",
     "text": [
      "2023-04-05 11:20:46.185870: I tensorflow/core/common_runtime/executor.cc:1197] [/device:CPU:0] (DEBUG INFO) Executor start aborting (this does not indicate an error and you can ignore this message): INVALID_ARGUMENT: You must feed a value for placeholder tensor 'Placeholder/_0' with dtype double and shape [66261,34,1]\n",
      "\t [[{{node Placeholder/_0}}]]\n",
      "2023-04-05 11:20:46.186071: I tensorflow/core/common_runtime/executor.cc:1197] [/device:CPU:0] (DEBUG INFO) Executor start aborting (this does not indicate an error and you can ignore this message): INVALID_ARGUMENT: You must feed a value for placeholder tensor 'Placeholder/_1' with dtype float and shape [66261,11]\n",
      "\t [[{{node Placeholder/_1}}]]\n"
     ]
    },
    {
     "name": "stdout",
     "output_type": "stream",
     "text": [
      "1036/1036 [==============================] - 7s 6ms/step - loss: 0.3435 - accuracy: 0.7957 - recall: 0.7781 - precision: 0.8068 - f1_score: 0.7914\n",
      "Round: 1 | Client: client_2 training\n",
      "  17/1036 [..............................] - ETA: 6s - loss: 0.6548 - accuracy: 0.7169 - recall: 0.5708 - precision: 0.8054 - f1_score: 0.6601"
     ]
    },
    {
     "name": "stderr",
     "output_type": "stream",
     "text": [
      "2023-04-05 11:20:53.015857: I tensorflow/core/common_runtime/executor.cc:1197] [/device:CPU:0] (DEBUG INFO) Executor start aborting (this does not indicate an error and you can ignore this message): INVALID_ARGUMENT: You must feed a value for placeholder tensor 'Placeholder/_11' with dtype double and shape [11]\n",
      "\t [[{{node Placeholder/_11}}]]\n",
      "2023-04-05 11:20:53.016044: I tensorflow/core/common_runtime/executor.cc:1197] [/device:CPU:0] (DEBUG INFO) Executor start aborting (this does not indicate an error and you can ignore this message): INVALID_ARGUMENT: You must feed a value for placeholder tensor 'Placeholder/_1' with dtype float and shape [66261,11]\n",
      "\t [[{{node Placeholder/_1}}]]\n"
     ]
    },
    {
     "name": "stdout",
     "output_type": "stream",
     "text": [
      "1036/1036 [==============================] - 7s 6ms/step - loss: 0.3491 - accuracy: 0.7934 - recall: 0.7745 - precision: 0.8061 - f1_score: 0.7891\n",
      "Round: 1 | Client: client_9 training\n",
      "  17/1036 [..............................] - ETA: 6s - loss: 0.6109 - accuracy: 0.7344 - recall: 0.5533 - precision: 0.8563 - f1_score: 0.6625"
     ]
    },
    {
     "name": "stderr",
     "output_type": "stream",
     "text": [
      "2023-04-05 11:20:59.836993: I tensorflow/core/common_runtime/executor.cc:1197] [/device:CPU:0] (DEBUG INFO) Executor start aborting (this does not indicate an error and you can ignore this message): INVALID_ARGUMENT: You must feed a value for placeholder tensor 'Placeholder/_0' with dtype double and shape [66260,34,1]\n",
      "\t [[{{node Placeholder/_0}}]]\n",
      "2023-04-05 11:20:59.837182: I tensorflow/core/common_runtime/executor.cc:1197] [/device:CPU:0] (DEBUG INFO) Executor start aborting (this does not indicate an error and you can ignore this message): INVALID_ARGUMENT: You must feed a value for placeholder tensor 'Placeholder/_0' with dtype double and shape [66260,34,1]\n",
      "\t [[{{node Placeholder/_0}}]]\n"
     ]
    },
    {
     "name": "stdout",
     "output_type": "stream",
     "text": [
      "1036/1036 [==============================] - 7s 6ms/step - loss: 0.3495 - accuracy: 0.7952 - recall: 0.7757 - precision: 0.8086 - f1_score: 0.7908\n",
      "5177/5177 [==============================] - 8s 2ms/step\n",
      "comm_round: 1 | global_loss: 1.7492817640304565 | global_accuracy: 0.794 | global_recall: 0.7915 | global_precision: 0.7957 | global_f1_score: 0.7936 \n",
      "\n",
      "New Weights Saved\n",
      "Round: 2 | Client: client_6 training\n",
      "  17/1036 [..............................] - ETA: 6s - loss: 0.3160 - accuracy: 0.8051 - recall: 0.8024 - precision: 0.8083 - f1_score: 0.8053"
     ]
    },
    {
     "name": "stderr",
     "output_type": "stream",
     "text": [
      "2023-04-05 11:21:15.750110: I tensorflow/core/common_runtime/executor.cc:1197] [/device:CPU:0] (DEBUG INFO) Executor start aborting (this does not indicate an error and you can ignore this message): INVALID_ARGUMENT: You must feed a value for placeholder tensor 'Placeholder/_0' with dtype double and shape [66261,34,1]\n",
      "\t [[{{node Placeholder/_0}}]]\n",
      "2023-04-05 11:21:15.750291: I tensorflow/core/common_runtime/executor.cc:1197] [/device:CPU:0] (DEBUG INFO) Executor start aborting (this does not indicate an error and you can ignore this message): INVALID_ARGUMENT: You must feed a value for placeholder tensor 'Placeholder/_1' with dtype float and shape [66261,11]\n",
      "\t [[{{node Placeholder/_1}}]]\n"
     ]
    },
    {
     "name": "stdout",
     "output_type": "stream",
     "text": [
      "1036/1036 [==============================] - 7s 6ms/step - loss: 0.2987 - accuracy: 0.8136 - recall: 0.8079 - precision: 0.8174 - f1_score: 0.8125\n",
      "Round: 2 | Client: client_2 training\n",
      "  17/1036 [..............................] - ETA: 6s - loss: 0.3502 - accuracy: 0.7941 - recall: 0.7858 - precision: 0.7998 - f1_score: 0.7926"
     ]
    },
    {
     "name": "stderr",
     "output_type": "stream",
     "text": [
      "2023-04-05 11:21:22.619178: I tensorflow/core/common_runtime/executor.cc:1197] [/device:CPU:0] (DEBUG INFO) Executor start aborting (this does not indicate an error and you can ignore this message): INVALID_ARGUMENT: You must feed a value for placeholder tensor 'Placeholder/_11' with dtype double and shape [11]\n",
      "\t [[{{node Placeholder/_11}}]]\n",
      "2023-04-05 11:21:22.619422: I tensorflow/core/common_runtime/executor.cc:1197] [/device:CPU:0] (DEBUG INFO) Executor start aborting (this does not indicate an error and you can ignore this message): INVALID_ARGUMENT: You must feed a value for placeholder tensor 'Placeholder/_0' with dtype double and shape [66261,34,1]\n",
      "\t [[{{node Placeholder/_0}}]]\n"
     ]
    },
    {
     "name": "stdout",
     "output_type": "stream",
     "text": [
      "1036/1036 [==============================] - 7s 6ms/step - loss: 0.2956 - accuracy: 0.8137 - recall: 0.8091 - precision: 0.8180 - f1_score: 0.8133\n",
      "Round: 2 | Client: client_7 training\n",
      "  17/1036 [..............................] - ETA: 6s - loss: 0.3368 - accuracy: 0.7757 - recall: 0.7721 - precision: 0.7792 - f1_score: 0.7756"
     ]
    },
    {
     "name": "stderr",
     "output_type": "stream",
     "text": [
      "2023-04-05 11:21:29.431394: I tensorflow/core/common_runtime/executor.cc:1197] [/device:CPU:0] (DEBUG INFO) Executor start aborting (this does not indicate an error and you can ignore this message): INVALID_ARGUMENT: You must feed a value for placeholder tensor 'Placeholder/_1' with dtype float and shape [66261,11]\n",
      "\t [[{{node Placeholder/_1}}]]\n",
      "2023-04-05 11:21:29.431608: I tensorflow/core/common_runtime/executor.cc:1197] [/device:CPU:0] (DEBUG INFO) Executor start aborting (this does not indicate an error and you can ignore this message): INVALID_ARGUMENT: You must feed a value for placeholder tensor 'Placeholder/_1' with dtype float and shape [66261,11]\n",
      "\t [[{{node Placeholder/_1}}]]\n"
     ]
    },
    {
     "name": "stdout",
     "output_type": "stream",
     "text": [
      "1036/1036 [==============================] - 7s 6ms/step - loss: 0.2899 - accuracy: 0.8152 - recall: 0.8108 - precision: 0.8184 - f1_score: 0.8145\n",
      "Round: 2 | Client: client_5 training\n",
      "  17/1036 [..............................] - ETA: 6s - loss: 0.3223 - accuracy: 0.7950 - recall: 0.7812 - precision: 0.7996 - f1_score: 0.7903"
     ]
    },
    {
     "name": "stderr",
     "output_type": "stream",
     "text": [
      "2023-04-05 11:21:36.238233: I tensorflow/core/common_runtime/executor.cc:1197] [/device:CPU:0] (DEBUG INFO) Executor start aborting (this does not indicate an error and you can ignore this message): INVALID_ARGUMENT: You must feed a value for placeholder tensor 'Placeholder/_0' with dtype double and shape [66261,34,1]\n",
      "\t [[{{node Placeholder/_0}}]]\n",
      "2023-04-05 11:21:36.238471: I tensorflow/core/common_runtime/executor.cc:1197] [/device:CPU:0] (DEBUG INFO) Executor start aborting (this does not indicate an error and you can ignore this message): INVALID_ARGUMENT: You must feed a value for placeholder tensor 'Placeholder/_1' with dtype float and shape [66261,11]\n",
      "\t [[{{node Placeholder/_1}}]]\n"
     ]
    },
    {
     "name": "stdout",
     "output_type": "stream",
     "text": [
      "1036/1036 [==============================] - 7s 6ms/step - loss: 0.2938 - accuracy: 0.8155 - recall: 0.8111 - precision: 0.8184 - f1_score: 0.8147\n",
      "Round: 2 | Client: client_10 training\n",
      "  17/1036 [..............................] - ETA: 6s - loss: 0.2790 - accuracy: 0.8162 - recall: 0.8097 - precision: 0.8188 - f1_score: 0.8143"
     ]
    },
    {
     "name": "stderr",
     "output_type": "stream",
     "text": [
      "2023-04-05 11:21:43.142243: I tensorflow/core/common_runtime/executor.cc:1197] [/device:CPU:0] (DEBUG INFO) Executor start aborting (this does not indicate an error and you can ignore this message): INVALID_ARGUMENT: You must feed a value for placeholder tensor 'Placeholder/_11' with dtype double and shape [11]\n",
      "\t [[{{node Placeholder/_11}}]]\n",
      "2023-04-05 11:21:43.142427: I tensorflow/core/common_runtime/executor.cc:1197] [/device:CPU:0] (DEBUG INFO) Executor start aborting (this does not indicate an error and you can ignore this message): INVALID_ARGUMENT: You must feed a value for placeholder tensor 'Placeholder/_0' with dtype double and shape [66260,34,1]\n",
      "\t [[{{node Placeholder/_0}}]]\n"
     ]
    },
    {
     "name": "stdout",
     "output_type": "stream",
     "text": [
      "1036/1036 [==============================] - 7s 6ms/step - loss: 0.2908 - accuracy: 0.8156 - recall: 0.8107 - precision: 0.8191 - f1_score: 0.8148\n",
      "Round: 2 | Client: client_4 training\n",
      "   9/1036 [..............................] - ETA: 7s - loss: 0.2921 - accuracy: 0.8125 - recall: 0.8073 - precision: 0.8144 - f1_score: 0.8107  "
     ]
    },
    {
     "name": "stderr",
     "output_type": "stream",
     "text": [
      "2023-04-05 11:21:49.980355: I tensorflow/core/common_runtime/executor.cc:1197] [/device:CPU:0] (DEBUG INFO) Executor start aborting (this does not indicate an error and you can ignore this message): INVALID_ARGUMENT: You must feed a value for placeholder tensor 'Placeholder/_0' with dtype double and shape [66261,34,1]\n",
      "\t [[{{node Placeholder/_0}}]]\n",
      "2023-04-05 11:21:49.980569: I tensorflow/core/common_runtime/executor.cc:1197] [/device:CPU:0] (DEBUG INFO) Executor start aborting (this does not indicate an error and you can ignore this message): INVALID_ARGUMENT: You must feed a value for placeholder tensor 'Placeholder/_1' with dtype float and shape [66261,11]\n",
      "\t [[{{node Placeholder/_1}}]]\n"
     ]
    },
    {
     "name": "stdout",
     "output_type": "stream",
     "text": [
      "1036/1036 [==============================] - 7s 6ms/step - loss: 0.2927 - accuracy: 0.8179 - recall: 0.8141 - precision: 0.8210 - f1_score: 0.8174\n",
      "Round: 2 | Client: client_1 training\n",
      "  16/1036 [..............................] - ETA: 7s - loss: 0.2840 - accuracy: 0.8213 - recall: 0.8174 - precision: 0.8222 - f1_score: 0.8197"
     ]
    },
    {
     "name": "stderr",
     "output_type": "stream",
     "text": [
      "2023-04-05 11:21:56.848510: I tensorflow/core/common_runtime/executor.cc:1197] [/device:CPU:0] (DEBUG INFO) Executor start aborting (this does not indicate an error and you can ignore this message): INVALID_ARGUMENT: You must feed a value for placeholder tensor 'Placeholder/_0' with dtype double and shape [66261,34,1]\n",
      "\t [[{{node Placeholder/_0}}]]\n",
      "2023-04-05 11:21:56.848694: I tensorflow/core/common_runtime/executor.cc:1197] [/device:CPU:0] (DEBUG INFO) Executor start aborting (this does not indicate an error and you can ignore this message): INVALID_ARGUMENT: You must feed a value for placeholder tensor 'Placeholder/_11' with dtype double and shape [11]\n",
      "\t [[{{node Placeholder/_11}}]]\n"
     ]
    },
    {
     "name": "stdout",
     "output_type": "stream",
     "text": [
      "1036/1036 [==============================] - 7s 6ms/step - loss: 0.2953 - accuracy: 0.8153 - recall: 0.8107 - precision: 0.8196 - f1_score: 0.8151\n",
      "Round: 2 | Client: client_3 training\n",
      "   9/1036 [..............................] - ETA: 6s - loss: 0.3051 - accuracy: 0.7986 - recall: 0.7743 - precision: 0.8051 - f1_score: 0.7892  "
     ]
    },
    {
     "name": "stderr",
     "output_type": "stream",
     "text": [
      "2023-04-05 11:22:03.677958: I tensorflow/core/common_runtime/executor.cc:1197] [/device:CPU:0] (DEBUG INFO) Executor start aborting (this does not indicate an error and you can ignore this message): INVALID_ARGUMENT: You must feed a value for placeholder tensor 'Placeholder/_11' with dtype double and shape [11]\n",
      "\t [[{{node Placeholder/_11}}]]\n",
      "2023-04-05 11:22:03.678140: I tensorflow/core/common_runtime/executor.cc:1197] [/device:CPU:0] (DEBUG INFO) Executor start aborting (this does not indicate an error and you can ignore this message): INVALID_ARGUMENT: You must feed a value for placeholder tensor 'Placeholder/_0' with dtype double and shape [66261,34,1]\n",
      "\t [[{{node Placeholder/_0}}]]\n"
     ]
    },
    {
     "name": "stdout",
     "output_type": "stream",
     "text": [
      "1036/1036 [==============================] - 7s 6ms/step - loss: 0.2951 - accuracy: 0.8165 - recall: 0.8111 - precision: 0.8199 - f1_score: 0.8155\n",
      "Round: 2 | Client: client_8 training\n",
      "  17/1036 [..............................] - ETA: 6s - loss: 0.2926 - accuracy: 0.8125 - recall: 0.8070 - precision: 0.8130 - f1_score: 0.8099"
     ]
    },
    {
     "name": "stderr",
     "output_type": "stream",
     "text": [
      "2023-04-05 11:22:10.570153: I tensorflow/core/common_runtime/executor.cc:1197] [/device:CPU:0] (DEBUG INFO) Executor start aborting (this does not indicate an error and you can ignore this message): INVALID_ARGUMENT: You must feed a value for placeholder tensor 'Placeholder/_0' with dtype double and shape [66261,34,1]\n",
      "\t [[{{node Placeholder/_0}}]]\n",
      "2023-04-05 11:22:10.570333: I tensorflow/core/common_runtime/executor.cc:1197] [/device:CPU:0] (DEBUG INFO) Executor start aborting (this does not indicate an error and you can ignore this message): INVALID_ARGUMENT: You must feed a value for placeholder tensor 'Placeholder/_11' with dtype double and shape [11]\n",
      "\t [[{{node Placeholder/_11}}]]\n"
     ]
    },
    {
     "name": "stdout",
     "output_type": "stream",
     "text": [
      "1036/1036 [==============================] - 7s 6ms/step - loss: 0.2983 - accuracy: 0.8147 - recall: 0.8095 - precision: 0.8183 - f1_score: 0.8139\n",
      "Round: 2 | Client: client_9 training\n",
      "  17/1036 [..............................] - ETA: 6s - loss: 0.2945 - accuracy: 0.8171 - recall: 0.8088 - precision: 0.8209 - f1_score: 0.8148"
     ]
    },
    {
     "name": "stderr",
     "output_type": "stream",
     "text": [
      "2023-04-05 11:22:17.439031: I tensorflow/core/common_runtime/executor.cc:1197] [/device:CPU:0] (DEBUG INFO) Executor start aborting (this does not indicate an error and you can ignore this message): INVALID_ARGUMENT: You must feed a value for placeholder tensor 'Placeholder/_0' with dtype double and shape [66260,34,1]\n",
      "\t [[{{node Placeholder/_0}}]]\n",
      "2023-04-05 11:22:17.439240: I tensorflow/core/common_runtime/executor.cc:1197] [/device:CPU:0] (DEBUG INFO) Executor start aborting (this does not indicate an error and you can ignore this message): INVALID_ARGUMENT: You must feed a value for placeholder tensor 'Placeholder/_11' with dtype double and shape [11]\n",
      "\t [[{{node Placeholder/_11}}]]\n"
     ]
    },
    {
     "name": "stdout",
     "output_type": "stream",
     "text": [
      "1036/1036 [==============================] - 7s 6ms/step - loss: 0.2932 - accuracy: 0.8169 - recall: 0.8118 - precision: 0.8211 - f1_score: 0.8163\n",
      "5177/5177 [==============================] - 9s 2ms/step\n",
      "comm_round: 2 | global_loss: 1.713060975074768 | global_accuracy: 0.8325 | global_recall: 0.8323 | global_precision: 0.8327 | global_f1_score: 0.8325 \n",
      "\n",
      "New Weights Saved\n",
      "Round: 3 | Client: client_1 training\n",
      "  18/1036 [..............................] - ETA: 6s - loss: 0.2692 - accuracy: 0.8238 - recall: 0.8160 - precision: 0.8370 - f1_score: 0.8257"
     ]
    },
    {
     "name": "stderr",
     "output_type": "stream",
     "text": [
      "2023-04-05 11:22:34.156520: I tensorflow/core/common_runtime/executor.cc:1197] [/device:CPU:0] (DEBUG INFO) Executor start aborting (this does not indicate an error and you can ignore this message): INVALID_ARGUMENT: You must feed a value for placeholder tensor 'Placeholder/_11' with dtype double and shape [11]\n",
      "\t [[{{node Placeholder/_11}}]]\n",
      "2023-04-05 11:22:34.156697: I tensorflow/core/common_runtime/executor.cc:1197] [/device:CPU:0] (DEBUG INFO) Executor start aborting (this does not indicate an error and you can ignore this message): INVALID_ARGUMENT: You must feed a value for placeholder tensor 'Placeholder/_11' with dtype double and shape [11]\n",
      "\t [[{{node Placeholder/_11}}]]\n"
     ]
    },
    {
     "name": "stdout",
     "output_type": "stream",
     "text": [
      "1036/1036 [==============================] - 7s 6ms/step - loss: 0.2806 - accuracy: 0.8225 - recall: 0.8179 - precision: 0.8261 - f1_score: 0.8218\n",
      "Round: 3 | Client: client_2 training\n",
      "  18/1036 [..............................] - ETA: 6s - loss: 0.2654 - accuracy: 0.8203 - recall: 0.8177 - precision: 0.8220 - f1_score: 0.8198"
     ]
    },
    {
     "name": "stderr",
     "output_type": "stream",
     "text": [
      "2023-04-05 11:22:40.997333: I tensorflow/core/common_runtime/executor.cc:1197] [/device:CPU:0] (DEBUG INFO) Executor start aborting (this does not indicate an error and you can ignore this message): INVALID_ARGUMENT: You must feed a value for placeholder tensor 'Placeholder/_11' with dtype double and shape [11]\n",
      "\t [[{{node Placeholder/_11}}]]\n",
      "2023-04-05 11:22:40.997511: I tensorflow/core/common_runtime/executor.cc:1197] [/device:CPU:0] (DEBUG INFO) Executor start aborting (this does not indicate an error and you can ignore this message): INVALID_ARGUMENT: You must feed a value for placeholder tensor 'Placeholder/_0' with dtype double and shape [66261,34,1]\n",
      "\t [[{{node Placeholder/_0}}]]\n"
     ]
    },
    {
     "name": "stdout",
     "output_type": "stream",
     "text": [
      "1036/1036 [==============================] - 7s 6ms/step - loss: 0.2783 - accuracy: 0.8221 - recall: 0.8195 - precision: 0.8245 - f1_score: 0.8220\n",
      "Round: 3 | Client: client_10 training\n",
      "  18/1036 [..............................] - ETA: 6s - loss: 0.2844 - accuracy: 0.8316 - recall: 0.8255 - precision: 0.8335 - f1_score: 0.8295"
     ]
    },
    {
     "name": "stderr",
     "output_type": "stream",
     "text": [
      "2023-04-05 11:22:47.924113: I tensorflow/core/common_runtime/executor.cc:1197] [/device:CPU:0] (DEBUG INFO) Executor start aborting (this does not indicate an error and you can ignore this message): INVALID_ARGUMENT: You must feed a value for placeholder tensor 'Placeholder/_0' with dtype double and shape [66260,34,1]\n",
      "\t [[{{node Placeholder/_0}}]]\n",
      "2023-04-05 11:22:47.924287: I tensorflow/core/common_runtime/executor.cc:1197] [/device:CPU:0] (DEBUG INFO) Executor start aborting (this does not indicate an error and you can ignore this message): INVALID_ARGUMENT: You must feed a value for placeholder tensor 'Placeholder/_0' with dtype double and shape [66260,34,1]\n",
      "\t [[{{node Placeholder/_0}}]]\n"
     ]
    },
    {
     "name": "stdout",
     "output_type": "stream",
     "text": [
      "1036/1036 [==============================] - 7s 7ms/step - loss: 0.2757 - accuracy: 0.8259 - recall: 0.8219 - precision: 0.8289 - f1_score: 0.8254\n",
      "Round: 3 | Client: client_8 training\n",
      "  15/1036 [..............................] - ETA: 7s - loss: 0.3238 - accuracy: 0.8125 - recall: 0.8083 - precision: 0.8151 - f1_score: 0.8117"
     ]
    },
    {
     "name": "stderr",
     "output_type": "stream",
     "text": [
      "2023-04-05 11:22:54.916421: I tensorflow/core/common_runtime/executor.cc:1197] [/device:CPU:0] (DEBUG INFO) Executor start aborting (this does not indicate an error and you can ignore this message): INVALID_ARGUMENT: You must feed a value for placeholder tensor 'Placeholder/_11' with dtype double and shape [11]\n",
      "\t [[{{node Placeholder/_11}}]]\n",
      "2023-04-05 11:22:54.916629: I tensorflow/core/common_runtime/executor.cc:1197] [/device:CPU:0] (DEBUG INFO) Executor start aborting (this does not indicate an error and you can ignore this message): INVALID_ARGUMENT: You must feed a value for placeholder tensor 'Placeholder/_0' with dtype double and shape [66261,34,1]\n",
      "\t [[{{node Placeholder/_0}}]]\n"
     ]
    },
    {
     "name": "stdout",
     "output_type": "stream",
     "text": [
      "1036/1036 [==============================] - 7s 6ms/step - loss: 0.2848 - accuracy: 0.8234 - recall: 0.8195 - precision: 0.8262 - f1_score: 0.8228\n",
      "Round: 3 | Client: client_5 training\n",
      "  18/1036 [..............................] - ETA: 6s - loss: 0.2717 - accuracy: 0.8229 - recall: 0.8186 - precision: 0.8250 - f1_score: 0.8218"
     ]
    },
    {
     "name": "stderr",
     "output_type": "stream",
     "text": [
      "2023-04-05 11:23:01.833232: I tensorflow/core/common_runtime/executor.cc:1197] [/device:CPU:0] (DEBUG INFO) Executor start aborting (this does not indicate an error and you can ignore this message): INVALID_ARGUMENT: You must feed a value for placeholder tensor 'Placeholder/_11' with dtype double and shape [11]\n",
      "\t [[{{node Placeholder/_11}}]]\n",
      "2023-04-05 11:23:01.833405: I tensorflow/core/common_runtime/executor.cc:1197] [/device:CPU:0] (DEBUG INFO) Executor start aborting (this does not indicate an error and you can ignore this message): INVALID_ARGUMENT: You must feed a value for placeholder tensor 'Placeholder/_0' with dtype double and shape [66261,34,1]\n",
      "\t [[{{node Placeholder/_0}}]]\n"
     ]
    },
    {
     "name": "stdout",
     "output_type": "stream",
     "text": [
      "1036/1036 [==============================] - 7s 6ms/step - loss: 0.2808 - accuracy: 0.8232 - recall: 0.8194 - precision: 0.8261 - f1_score: 0.8227\n",
      "Round: 3 | Client: client_4 training\n",
      "  17/1036 [..............................] - ETA: 7s - loss: 0.3348 - accuracy: 0.8162 - recall: 0.8107 - precision: 0.8174 - f1_score: 0.8140"
     ]
    },
    {
     "name": "stderr",
     "output_type": "stream",
     "text": [
      "2023-04-05 11:23:08.749687: I tensorflow/core/common_runtime/executor.cc:1197] [/device:CPU:0] (DEBUG INFO) Executor start aborting (this does not indicate an error and you can ignore this message): INVALID_ARGUMENT: You must feed a value for placeholder tensor 'Placeholder/_11' with dtype double and shape [11]\n",
      "\t [[{{node Placeholder/_11}}]]\n",
      "2023-04-05 11:23:08.749856: I tensorflow/core/common_runtime/executor.cc:1197] [/device:CPU:0] (DEBUG INFO) Executor start aborting (this does not indicate an error and you can ignore this message): INVALID_ARGUMENT: You must feed a value for placeholder tensor 'Placeholder/_0' with dtype double and shape [66261,34,1]\n",
      "\t [[{{node Placeholder/_0}}]]\n"
     ]
    },
    {
     "name": "stdout",
     "output_type": "stream",
     "text": [
      "1036/1036 [==============================] - 7s 6ms/step - loss: 0.2786 - accuracy: 0.8213 - recall: 0.8177 - precision: 0.8241 - f1_score: 0.8208\n",
      "Round: 3 | Client: client_7 training\n",
      "  17/1036 [..............................] - ETA: 6s - loss: 0.2736 - accuracy: 0.8382 - recall: 0.8346 - precision: 0.8384 - f1_score: 0.8365"
     ]
    },
    {
     "name": "stderr",
     "output_type": "stream",
     "text": [
      "2023-04-05 11:23:15.698541: I tensorflow/core/common_runtime/executor.cc:1197] [/device:CPU:0] (DEBUG INFO) Executor start aborting (this does not indicate an error and you can ignore this message): INVALID_ARGUMENT: You must feed a value for placeholder tensor 'Placeholder/_0' with dtype double and shape [66261,34,1]\n",
      "\t [[{{node Placeholder/_0}}]]\n",
      "2023-04-05 11:23:15.698757: I tensorflow/core/common_runtime/executor.cc:1197] [/device:CPU:0] (DEBUG INFO) Executor start aborting (this does not indicate an error and you can ignore this message): INVALID_ARGUMENT: You must feed a value for placeholder tensor 'Placeholder/_11' with dtype double and shape [11]\n",
      "\t [[{{node Placeholder/_11}}]]\n"
     ]
    },
    {
     "name": "stdout",
     "output_type": "stream",
     "text": [
      "1036/1036 [==============================] - 7s 7ms/step - loss: 0.2761 - accuracy: 0.8246 - recall: 0.8218 - precision: 0.8268 - f1_score: 0.8241\n",
      "Round: 3 | Client: client_3 training\n",
      "   8/1036 [..............................] - ETA: 7s - loss: 0.2420 - accuracy: 0.8164 - recall: 0.8164 - precision: 0.8180 - f1_score: 0.8172  "
     ]
    },
    {
     "name": "stderr",
     "output_type": "stream",
     "text": [
      "2023-04-05 11:23:22.699578: I tensorflow/core/common_runtime/executor.cc:1197] [/device:CPU:0] (DEBUG INFO) Executor start aborting (this does not indicate an error and you can ignore this message): INVALID_ARGUMENT: You must feed a value for placeholder tensor 'Placeholder/_11' with dtype double and shape [11]\n",
      "\t [[{{node Placeholder/_11}}]]\n",
      "2023-04-05 11:23:22.699755: I tensorflow/core/common_runtime/executor.cc:1197] [/device:CPU:0] (DEBUG INFO) Executor start aborting (this does not indicate an error and you can ignore this message): INVALID_ARGUMENT: You must feed a value for placeholder tensor 'Placeholder/_1' with dtype float and shape [66261,11]\n",
      "\t [[{{node Placeholder/_1}}]]\n"
     ]
    },
    {
     "name": "stdout",
     "output_type": "stream",
     "text": [
      "1036/1036 [==============================] - 7s 6ms/step - loss: 0.2786 - accuracy: 0.8225 - recall: 0.8185 - precision: 0.8260 - f1_score: 0.8222\n",
      "Round: 3 | Client: client_9 training\n",
      "  16/1036 [..............................] - ETA: 7s - loss: 0.2585 - accuracy: 0.8398 - recall: 0.8369 - precision: 0.8485 - f1_score: 0.8426"
     ]
    },
    {
     "name": "stderr",
     "output_type": "stream",
     "text": [
      "2023-04-05 11:23:29.719440: I tensorflow/core/common_runtime/executor.cc:1197] [/device:CPU:0] (DEBUG INFO) Executor start aborting (this does not indicate an error and you can ignore this message): INVALID_ARGUMENT: You must feed a value for placeholder tensor 'Placeholder/_11' with dtype double and shape [11]\n",
      "\t [[{{node Placeholder/_11}}]]\n",
      "2023-04-05 11:23:29.719637: I tensorflow/core/common_runtime/executor.cc:1197] [/device:CPU:0] (DEBUG INFO) Executor start aborting (this does not indicate an error and you can ignore this message): INVALID_ARGUMENT: You must feed a value for placeholder tensor 'Placeholder/_11' with dtype double and shape [11]\n",
      "\t [[{{node Placeholder/_11}}]]\n"
     ]
    },
    {
     "name": "stdout",
     "output_type": "stream",
     "text": [
      "1036/1036 [==============================] - 7s 7ms/step - loss: 0.2802 - accuracy: 0.8250 - recall: 0.8214 - precision: 0.8287 - f1_score: 0.8248\n",
      "Round: 3 | Client: client_6 training\n",
      "  17/1036 [..............................] - ETA: 7s - loss: 0.3163 - accuracy: 0.8116 - recall: 0.8015 - precision: 0.8150 - f1_score: 0.8083"
     ]
    },
    {
     "name": "stderr",
     "output_type": "stream",
     "text": [
      "2023-04-05 11:23:37.288103: I tensorflow/core/common_runtime/executor.cc:1197] [/device:CPU:0] (DEBUG INFO) Executor start aborting (this does not indicate an error and you can ignore this message): INVALID_ARGUMENT: You must feed a value for placeholder tensor 'Placeholder/_11' with dtype double and shape [11]\n",
      "\t [[{{node Placeholder/_11}}]]\n",
      "2023-04-05 11:23:37.288283: I tensorflow/core/common_runtime/executor.cc:1197] [/device:CPU:0] (DEBUG INFO) Executor start aborting (this does not indicate an error and you can ignore this message): INVALID_ARGUMENT: You must feed a value for placeholder tensor 'Placeholder/_11' with dtype double and shape [11]\n",
      "\t [[{{node Placeholder/_11}}]]\n"
     ]
    },
    {
     "name": "stdout",
     "output_type": "stream",
     "text": [
      "1036/1036 [==============================] - 7s 6ms/step - loss: 0.2843 - accuracy: 0.8201 - recall: 0.8158 - precision: 0.8233 - f1_score: 0.8195\n",
      "5177/5177 [==============================] - 7s 1ms/step\n",
      "comm_round: 3 | global_loss: 1.7094439268112183 | global_accuracy: 0.8384 | global_recall: 0.8383 | global_precision: 0.8384 | global_f1_score: 0.8384 \n",
      "\n",
      "New Weights Saved\n",
      "Round: 4 | Client: client_8 training\n",
      "   9/1036 [..............................] - ETA: 6s - loss: 0.2708 - accuracy: 0.8177 - recall: 0.8160 - precision: 0.8188 - f1_score: 0.8173  "
     ]
    },
    {
     "name": "stderr",
     "output_type": "stream",
     "text": [
      "2023-04-05 11:23:52.282777: I tensorflow/core/common_runtime/executor.cc:1197] [/device:CPU:0] (DEBUG INFO) Executor start aborting (this does not indicate an error and you can ignore this message): INVALID_ARGUMENT: You must feed a value for placeholder tensor 'Placeholder/_11' with dtype double and shape [11]\n",
      "\t [[{{node Placeholder/_11}}]]\n",
      "2023-04-05 11:23:52.282945: I tensorflow/core/common_runtime/executor.cc:1197] [/device:CPU:0] (DEBUG INFO) Executor start aborting (this does not indicate an error and you can ignore this message): INVALID_ARGUMENT: You must feed a value for placeholder tensor 'Placeholder/_11' with dtype double and shape [11]\n",
      "\t [[{{node Placeholder/_11}}]]\n"
     ]
    },
    {
     "name": "stdout",
     "output_type": "stream",
     "text": [
      "1036/1036 [==============================] - 7s 7ms/step - loss: 0.2739 - accuracy: 0.8280 - recall: 0.8250 - precision: 0.8304 - f1_score: 0.8277\n",
      "Round: 4 | Client: client_10 training\n",
      "  17/1036 [..............................] - ETA: 6s - loss: 0.2376 - accuracy: 0.8373 - recall: 0.8364 - precision: 0.8379 - f1_score: 0.8371"
     ]
    },
    {
     "name": "stderr",
     "output_type": "stream",
     "text": [
      "2023-04-05 11:23:59.307278: I tensorflow/core/common_runtime/executor.cc:1197] [/device:CPU:0] (DEBUG INFO) Executor start aborting (this does not indicate an error and you can ignore this message): INVALID_ARGUMENT: You must feed a value for placeholder tensor 'Placeholder/_0' with dtype double and shape [66260,34,1]\n",
      "\t [[{{node Placeholder/_0}}]]\n",
      "2023-04-05 11:23:59.307451: I tensorflow/core/common_runtime/executor.cc:1197] [/device:CPU:0] (DEBUG INFO) Executor start aborting (this does not indicate an error and you can ignore this message): INVALID_ARGUMENT: You must feed a value for placeholder tensor 'Placeholder/_1' with dtype float and shape [66260,11]\n",
      "\t [[{{node Placeholder/_1}}]]\n"
     ]
    },
    {
     "name": "stdout",
     "output_type": "stream",
     "text": [
      "1036/1036 [==============================] - 7s 7ms/step - loss: 0.2652 - accuracy: 0.8285 - recall: 0.8257 - precision: 0.8312 - f1_score: 0.8283\n",
      "Round: 4 | Client: client_1 training\n",
      "  17/1036 [..............................] - ETA: 6s - loss: 0.2687 - accuracy: 0.8447 - recall: 0.8410 - precision: 0.8480 - f1_score: 0.8444"
     ]
    },
    {
     "name": "stderr",
     "output_type": "stream",
     "text": [
      "2023-04-05 11:24:06.564713: I tensorflow/core/common_runtime/executor.cc:1197] [/device:CPU:0] (DEBUG INFO) Executor start aborting (this does not indicate an error and you can ignore this message): INVALID_ARGUMENT: You must feed a value for placeholder tensor 'Placeholder/_0' with dtype double and shape [66261,34,1]\n",
      "\t [[{{node Placeholder/_0}}]]\n",
      "2023-04-05 11:24:06.564887: I tensorflow/core/common_runtime/executor.cc:1197] [/device:CPU:0] (DEBUG INFO) Executor start aborting (this does not indicate an error and you can ignore this message): INVALID_ARGUMENT: You must feed a value for placeholder tensor 'Placeholder/_11' with dtype double and shape [11]\n",
      "\t [[{{node Placeholder/_11}}]]\n"
     ]
    },
    {
     "name": "stdout",
     "output_type": "stream",
     "text": [
      "1036/1036 [==============================] - 7s 7ms/step - loss: 0.2672 - accuracy: 0.8296 - recall: 0.8268 - precision: 0.8317 - f1_score: 0.8293\n",
      "Round: 4 | Client: client_9 training\n",
      "   9/1036 [..............................] - ETA: 7s - loss: 0.2718 - accuracy: 0.8559 - recall: 0.8559 - precision: 0.8559 - f1_score: 0.8559  "
     ]
    },
    {
     "name": "stderr",
     "output_type": "stream",
     "text": [
      "2023-04-05 11:24:13.677290: I tensorflow/core/common_runtime/executor.cc:1197] [/device:CPU:0] (DEBUG INFO) Executor start aborting (this does not indicate an error and you can ignore this message): INVALID_ARGUMENT: You must feed a value for placeholder tensor 'Placeholder/_0' with dtype double and shape [66260,34,1]\n",
      "\t [[{{node Placeholder/_0}}]]\n",
      "2023-04-05 11:24:13.677456: I tensorflow/core/common_runtime/executor.cc:1197] [/device:CPU:0] (DEBUG INFO) Executor start aborting (this does not indicate an error and you can ignore this message): INVALID_ARGUMENT: You must feed a value for placeholder tensor 'Placeholder/_1' with dtype float and shape [66260,11]\n",
      "\t [[{{node Placeholder/_1}}]]\n"
     ]
    },
    {
     "name": "stdout",
     "output_type": "stream",
     "text": [
      "1036/1036 [==============================] - 7s 7ms/step - loss: 0.2687 - accuracy: 0.8291 - recall: 0.8257 - precision: 0.8320 - f1_score: 0.8288\n",
      "Round: 4 | Client: client_5 training\n",
      "  16/1036 [..............................] - ETA: 7s - loss: 0.2322 - accuracy: 0.8447 - recall: 0.8447 - precision: 0.8464 - f1_score: 0.8455"
     ]
    },
    {
     "name": "stderr",
     "output_type": "stream",
     "text": [
      "2023-04-05 11:24:20.803357: I tensorflow/core/common_runtime/executor.cc:1197] [/device:CPU:0] (DEBUG INFO) Executor start aborting (this does not indicate an error and you can ignore this message): INVALID_ARGUMENT: You must feed a value for placeholder tensor 'Placeholder/_0' with dtype double and shape [66261,34,1]\n",
      "\t [[{{node Placeholder/_0}}]]\n",
      "2023-04-05 11:24:20.803555: I tensorflow/core/common_runtime/executor.cc:1197] [/device:CPU:0] (DEBUG INFO) Executor start aborting (this does not indicate an error and you can ignore this message): INVALID_ARGUMENT: You must feed a value for placeholder tensor 'Placeholder/_1' with dtype float and shape [66261,11]\n",
      "\t [[{{node Placeholder/_1}}]]\n"
     ]
    },
    {
     "name": "stdout",
     "output_type": "stream",
     "text": [
      "1036/1036 [==============================] - 7s 7ms/step - loss: 0.2697 - accuracy: 0.8259 - recall: 0.8229 - precision: 0.8285 - f1_score: 0.8255\n",
      "Round: 4 | Client: client_6 training\n",
      "  17/1036 [..............................] - ETA: 6s - loss: 0.3082 - accuracy: 0.8290 - recall: 0.8290 - precision: 0.8313 - f1_score: 0.8302"
     ]
    },
    {
     "name": "stderr",
     "output_type": "stream",
     "text": [
      "2023-04-05 11:24:27.923157: I tensorflow/core/common_runtime/executor.cc:1197] [/device:CPU:0] (DEBUG INFO) Executor start aborting (this does not indicate an error and you can ignore this message): INVALID_ARGUMENT: You must feed a value for placeholder tensor 'Placeholder/_1' with dtype float and shape [66261,11]\n",
      "\t [[{{node Placeholder/_1}}]]\n",
      "2023-04-05 11:24:27.923319: I tensorflow/core/common_runtime/executor.cc:1197] [/device:CPU:0] (DEBUG INFO) Executor start aborting (this does not indicate an error and you can ignore this message): INVALID_ARGUMENT: You must feed a value for placeholder tensor 'Placeholder/_11' with dtype double and shape [11]\n",
      "\t [[{{node Placeholder/_11}}]]\n"
     ]
    },
    {
     "name": "stdout",
     "output_type": "stream",
     "text": [
      "1036/1036 [==============================] - 7s 7ms/step - loss: 0.2716 - accuracy: 0.8270 - recall: 0.8239 - precision: 0.8295 - f1_score: 0.8267\n",
      "Round: 4 | Client: client_7 training\n",
      "   9/1036 [..............................] - ETA: 6s - loss: 0.2766 - accuracy: 0.8212 - recall: 0.8212 - precision: 0.8269 - f1_score: 0.8240  "
     ]
    },
    {
     "name": "stderr",
     "output_type": "stream",
     "text": [
      "2023-04-05 11:24:35.035684: I tensorflow/core/common_runtime/executor.cc:1197] [/device:CPU:0] (DEBUG INFO) Executor start aborting (this does not indicate an error and you can ignore this message): INVALID_ARGUMENT: You must feed a value for placeholder tensor 'Placeholder/_1' with dtype float and shape [66261,11]\n",
      "\t [[{{node Placeholder/_1}}]]\n",
      "2023-04-05 11:24:35.035867: I tensorflow/core/common_runtime/executor.cc:1197] [/device:CPU:0] (DEBUG INFO) Executor start aborting (this does not indicate an error and you can ignore this message): INVALID_ARGUMENT: You must feed a value for placeholder tensor 'Placeholder/_11' with dtype double and shape [11]\n",
      "\t [[{{node Placeholder/_11}}]]\n"
     ]
    },
    {
     "name": "stdout",
     "output_type": "stream",
     "text": [
      "1036/1036 [==============================] - 7s 7ms/step - loss: 0.2655 - accuracy: 0.8285 - recall: 0.8259 - precision: 0.8311 - f1_score: 0.8285\n",
      "Round: 4 | Client: client_4 training\n",
      "   9/1036 [..............................] - ETA: 6s - loss: 0.2535 - accuracy: 0.8264 - recall: 0.8264 - precision: 0.8293 - f1_score: 0.8278  "
     ]
    },
    {
     "name": "stderr",
     "output_type": "stream",
     "text": [
      "2023-04-05 11:24:42.243862: I tensorflow/core/common_runtime/executor.cc:1197] [/device:CPU:0] (DEBUG INFO) Executor start aborting (this does not indicate an error and you can ignore this message): INVALID_ARGUMENT: You must feed a value for placeholder tensor 'Placeholder/_0' with dtype double and shape [66261,34,1]\n",
      "\t [[{{node Placeholder/_0}}]]\n",
      "2023-04-05 11:24:42.244089: I tensorflow/core/common_runtime/executor.cc:1197] [/device:CPU:0] (DEBUG INFO) Executor start aborting (this does not indicate an error and you can ignore this message): INVALID_ARGUMENT: You must feed a value for placeholder tensor 'Placeholder/_11' with dtype double and shape [11]\n",
      "\t [[{{node Placeholder/_11}}]]\n"
     ]
    },
    {
     "name": "stdout",
     "output_type": "stream",
     "text": [
      "1036/1036 [==============================] - 7s 7ms/step - loss: 0.2670 - accuracy: 0.8287 - recall: 0.8254 - precision: 0.8310 - f1_score: 0.8281\n",
      "Round: 4 | Client: client_2 training\n",
      "   9/1036 [..............................] - ETA: 7s - loss: 0.3243 - accuracy: 0.8108 - recall: 0.8056 - precision: 0.8140 - f1_score: 0.8097  "
     ]
    },
    {
     "name": "stderr",
     "output_type": "stream",
     "text": [
      "2023-04-05 11:24:49.269810: I tensorflow/core/common_runtime/executor.cc:1197] [/device:CPU:0] (DEBUG INFO) Executor start aborting (this does not indicate an error and you can ignore this message): INVALID_ARGUMENT: You must feed a value for placeholder tensor 'Placeholder/_1' with dtype float and shape [66261,11]\n",
      "\t [[{{node Placeholder/_1}}]]\n",
      "2023-04-05 11:24:49.269976: I tensorflow/core/common_runtime/executor.cc:1197] [/device:CPU:0] (DEBUG INFO) Executor start aborting (this does not indicate an error and you can ignore this message): INVALID_ARGUMENT: You must feed a value for placeholder tensor 'Placeholder/_1' with dtype float and shape [66261,11]\n",
      "\t [[{{node Placeholder/_1}}]]\n"
     ]
    },
    {
     "name": "stdout",
     "output_type": "stream",
     "text": [
      "1036/1036 [==============================] - 7s 7ms/step - loss: 0.2679 - accuracy: 0.8256 - recall: 0.8225 - precision: 0.8285 - f1_score: 0.8253\n",
      "Round: 4 | Client: client_3 training\n",
      "   8/1036 [..............................] - ETA: 7s - loss: 0.2531 - accuracy: 0.8359 - recall: 0.8320 - precision: 0.8353 - f1_score: 0.8338  "
     ]
    },
    {
     "name": "stderr",
     "output_type": "stream",
     "text": [
      "2023-04-05 11:24:56.381689: I tensorflow/core/common_runtime/executor.cc:1197] [/device:CPU:0] (DEBUG INFO) Executor start aborting (this does not indicate an error and you can ignore this message): INVALID_ARGUMENT: You must feed a value for placeholder tensor 'Placeholder/_1' with dtype float and shape [66261,11]\n",
      "\t [[{{node Placeholder/_1}}]]\n",
      "2023-04-05 11:24:56.381856: I tensorflow/core/common_runtime/executor.cc:1197] [/device:CPU:0] (DEBUG INFO) Executor start aborting (this does not indicate an error and you can ignore this message): INVALID_ARGUMENT: You must feed a value for placeholder tensor 'Placeholder/_0' with dtype double and shape [66261,34,1]\n",
      "\t [[{{node Placeholder/_0}}]]\n"
     ]
    },
    {
     "name": "stdout",
     "output_type": "stream",
     "text": [
      "1036/1036 [==============================] - 7s 7ms/step - loss: 0.2674 - accuracy: 0.8277 - recall: 0.8236 - precision: 0.8305 - f1_score: 0.8269\n",
      "5177/5177 [==============================] - 7s 1ms/step\n",
      "comm_round: 4 | global_loss: 1.7048382759094238 | global_accuracy: 0.8345 | global_recall: 0.8343 | global_precision: 0.8347 | global_f1_score: 0.8345 \n",
      "\n",
      "Round: 5 | Client: client_4 training\n",
      "  16/1036 [..............................] - ETA: 7s - loss: 0.2732 - accuracy: 0.8320 - recall: 0.8242 - precision: 0.8373 - f1_score: 0.8307"
     ]
    },
    {
     "name": "stderr",
     "output_type": "stream",
     "text": [
      "2023-04-05 11:25:11.759545: I tensorflow/core/common_runtime/executor.cc:1197] [/device:CPU:0] (DEBUG INFO) Executor start aborting (this does not indicate an error and you can ignore this message): INVALID_ARGUMENT: You must feed a value for placeholder tensor 'Placeholder/_0' with dtype double and shape [66261,34,1]\n",
      "\t [[{{node Placeholder/_0}}]]\n",
      "2023-04-05 11:25:11.759704: I tensorflow/core/common_runtime/executor.cc:1197] [/device:CPU:0] (DEBUG INFO) Executor start aborting (this does not indicate an error and you can ignore this message): INVALID_ARGUMENT: You must feed a value for placeholder tensor 'Placeholder/_11' with dtype double and shape [11]\n",
      "\t [[{{node Placeholder/_11}}]]\n"
     ]
    },
    {
     "name": "stdout",
     "output_type": "stream",
     "text": [
      "1036/1036 [==============================] - 7s 7ms/step - loss: 0.2572 - accuracy: 0.8337 - recall: 0.8309 - precision: 0.8364 - f1_score: 0.8336\n",
      "Round: 5 | Client: client_2 training\n",
      "  17/1036 [..............................] - ETA: 6s - loss: 0.2668 - accuracy: 0.8373 - recall: 0.8327 - precision: 0.8412 - f1_score: 0.8370"
     ]
    },
    {
     "name": "stderr",
     "output_type": "stream",
     "text": [
      "2023-04-05 11:25:18.926691: I tensorflow/core/common_runtime/executor.cc:1197] [/device:CPU:0] (DEBUG INFO) Executor start aborting (this does not indicate an error and you can ignore this message): INVALID_ARGUMENT: You must feed a value for placeholder tensor 'Placeholder/_11' with dtype double and shape [11]\n",
      "\t [[{{node Placeholder/_11}}]]\n",
      "2023-04-05 11:25:18.926851: I tensorflow/core/common_runtime/executor.cc:1197] [/device:CPU:0] (DEBUG INFO) Executor start aborting (this does not indicate an error and you can ignore this message): INVALID_ARGUMENT: You must feed a value for placeholder tensor 'Placeholder/_1' with dtype float and shape [66261,11]\n",
      "\t [[{{node Placeholder/_1}}]]\n"
     ]
    },
    {
     "name": "stdout",
     "output_type": "stream",
     "text": [
      "1036/1036 [==============================] - 7s 7ms/step - loss: 0.2567 - accuracy: 0.8334 - recall: 0.8298 - precision: 0.8361 - f1_score: 0.8329\n",
      "Round: 5 | Client: client_8 training\n",
      "   7/1036 [..............................] - ETA: 9s - loss: 0.2899 - accuracy: 0.8415 - recall: 0.8393 - precision: 0.8449 - f1_score: 0.8420  "
     ]
    },
    {
     "name": "stderr",
     "output_type": "stream",
     "text": [
      "2023-04-05 11:25:26.101753: I tensorflow/core/common_runtime/executor.cc:1197] [/device:CPU:0] (DEBUG INFO) Executor start aborting (this does not indicate an error and you can ignore this message): INVALID_ARGUMENT: You must feed a value for placeholder tensor 'Placeholder/_11' with dtype double and shape [11]\n",
      "\t [[{{node Placeholder/_11}}]]\n",
      "2023-04-05 11:25:26.101930: I tensorflow/core/common_runtime/executor.cc:1197] [/device:CPU:0] (DEBUG INFO) Executor start aborting (this does not indicate an error and you can ignore this message): INVALID_ARGUMENT: You must feed a value for placeholder tensor 'Placeholder/_11' with dtype double and shape [11]\n",
      "\t [[{{node Placeholder/_11}}]]\n"
     ]
    },
    {
     "name": "stdout",
     "output_type": "stream",
     "text": [
      "1036/1036 [==============================] - 7s 7ms/step - loss: 0.2611 - accuracy: 0.8365 - recall: 0.8340 - precision: 0.8388 - f1_score: 0.8364\n",
      "Round: 5 | Client: client_9 training\n",
      "  16/1036 [..............................] - ETA: 7s - loss: 0.2685 - accuracy: 0.8105 - recall: 0.8066 - precision: 0.8130 - f1_score: 0.8098"
     ]
    },
    {
     "name": "stderr",
     "output_type": "stream",
     "text": [
      "2023-04-05 11:25:33.392741: I tensorflow/core/common_runtime/executor.cc:1197] [/device:CPU:0] (DEBUG INFO) Executor start aborting (this does not indicate an error and you can ignore this message): INVALID_ARGUMENT: You must feed a value for placeholder tensor 'Placeholder/_1' with dtype float and shape [66260,11]\n",
      "\t [[{{node Placeholder/_1}}]]\n",
      "2023-04-05 11:25:33.392924: I tensorflow/core/common_runtime/executor.cc:1197] [/device:CPU:0] (DEBUG INFO) Executor start aborting (this does not indicate an error and you can ignore this message): INVALID_ARGUMENT: You must feed a value for placeholder tensor 'Placeholder/_11' with dtype double and shape [11]\n",
      "\t [[{{node Placeholder/_11}}]]\n"
     ]
    },
    {
     "name": "stdout",
     "output_type": "stream",
     "text": [
      "1036/1036 [==============================] - 7s 7ms/step - loss: 0.2580 - accuracy: 0.8340 - recall: 0.8310 - precision: 0.8365 - f1_score: 0.8338\n",
      "Round: 5 | Client: client_3 training\n",
      "  15/1036 [..............................] - ETA: 7s - loss: 0.2853 - accuracy: 0.8042 - recall: 0.8021 - precision: 0.8080 - f1_score: 0.8049"
     ]
    },
    {
     "name": "stderr",
     "output_type": "stream",
     "text": [
      "2023-04-05 11:25:40.625653: I tensorflow/core/common_runtime/executor.cc:1197] [/device:CPU:0] (DEBUG INFO) Executor start aborting (this does not indicate an error and you can ignore this message): INVALID_ARGUMENT: You must feed a value for placeholder tensor 'Placeholder/_11' with dtype double and shape [11]\n",
      "\t [[{{node Placeholder/_11}}]]\n",
      "2023-04-05 11:25:40.625816: I tensorflow/core/common_runtime/executor.cc:1197] [/device:CPU:0] (DEBUG INFO) Executor start aborting (this does not indicate an error and you can ignore this message): INVALID_ARGUMENT: You must feed a value for placeholder tensor 'Placeholder/_11' with dtype double and shape [11]\n",
      "\t [[{{node Placeholder/_11}}]]\n"
     ]
    },
    {
     "name": "stdout",
     "output_type": "stream",
     "text": [
      "1036/1036 [==============================] - 7s 7ms/step - loss: 0.2591 - accuracy: 0.8311 - recall: 0.8275 - precision: 0.8342 - f1_score: 0.8307\n",
      "Round: 5 | Client: client_10 training\n",
      "  17/1036 [..............................] - ETA: 6s - loss: 0.2754 - accuracy: 0.8382 - recall: 0.8355 - precision: 0.8393 - f1_score: 0.8373"
     ]
    },
    {
     "name": "stderr",
     "output_type": "stream",
     "text": [
      "2023-04-05 11:25:47.759128: I tensorflow/core/common_runtime/executor.cc:1197] [/device:CPU:0] (DEBUG INFO) Executor start aborting (this does not indicate an error and you can ignore this message): INVALID_ARGUMENT: You must feed a value for placeholder tensor 'Placeholder/_1' with dtype float and shape [66260,11]\n",
      "\t [[{{node Placeholder/_1}}]]\n",
      "2023-04-05 11:25:47.759323: I tensorflow/core/common_runtime/executor.cc:1197] [/device:CPU:0] (DEBUG INFO) Executor start aborting (this does not indicate an error and you can ignore this message): INVALID_ARGUMENT: You must feed a value for placeholder tensor 'Placeholder/_1' with dtype float and shape [66260,11]\n",
      "\t [[{{node Placeholder/_1}}]]\n"
     ]
    },
    {
     "name": "stdout",
     "output_type": "stream",
     "text": [
      "1036/1036 [==============================] - 7s 7ms/step - loss: 0.2551 - accuracy: 0.8346 - recall: 0.8315 - precision: 0.8375 - f1_score: 0.8344\n",
      "Round: 5 | Client: client_6 training\n",
      "  16/1036 [..............................] - ETA: 7s - loss: 0.2903 - accuracy: 0.8174 - recall: 0.8154 - precision: 0.8178 - f1_score: 0.8166"
     ]
    },
    {
     "name": "stderr",
     "output_type": "stream",
     "text": [
      "2023-04-05 11:25:55.092370: I tensorflow/core/common_runtime/executor.cc:1197] [/device:CPU:0] (DEBUG INFO) Executor start aborting (this does not indicate an error and you can ignore this message): INVALID_ARGUMENT: You must feed a value for placeholder tensor 'Placeholder/_1' with dtype float and shape [66261,11]\n",
      "\t [[{{node Placeholder/_1}}]]\n",
      "2023-04-05 11:25:55.092535: I tensorflow/core/common_runtime/executor.cc:1197] [/device:CPU:0] (DEBUG INFO) Executor start aborting (this does not indicate an error and you can ignore this message): INVALID_ARGUMENT: You must feed a value for placeholder tensor 'Placeholder/_11' with dtype double and shape [11]\n",
      "\t [[{{node Placeholder/_11}}]]\n"
     ]
    },
    {
     "name": "stdout",
     "output_type": "stream",
     "text": [
      "1036/1036 [==============================] - 7s 7ms/step - loss: 0.2647 - accuracy: 0.8314 - recall: 0.8288 - precision: 0.8338 - f1_score: 0.8311\n",
      "Round: 5 | Client: client_5 training\n",
      "  17/1036 [..............................] - ETA: 6s - loss: 0.2301 - accuracy: 0.8428 - recall: 0.8419 - precision: 0.8435 - f1_score: 0.8427"
     ]
    },
    {
     "name": "stderr",
     "output_type": "stream",
     "text": [
      "2023-04-05 11:26:02.199042: I tensorflow/core/common_runtime/executor.cc:1197] [/device:CPU:0] (DEBUG INFO) Executor start aborting (this does not indicate an error and you can ignore this message): INVALID_ARGUMENT: You must feed a value for placeholder tensor 'Placeholder/_11' with dtype double and shape [11]\n",
      "\t [[{{node Placeholder/_11}}]]\n",
      "2023-04-05 11:26:02.199246: I tensorflow/core/common_runtime/executor.cc:1197] [/device:CPU:0] (DEBUG INFO) Executor start aborting (this does not indicate an error and you can ignore this message): INVALID_ARGUMENT: You must feed a value for placeholder tensor 'Placeholder/_0' with dtype double and shape [66261,34,1]\n",
      "\t [[{{node Placeholder/_0}}]]\n"
     ]
    },
    {
     "name": "stdout",
     "output_type": "stream",
     "text": [
      "1036/1036 [==============================] - 7s 7ms/step - loss: 0.2573 - accuracy: 0.8349 - recall: 0.8321 - precision: 0.8370 - f1_score: 0.8345\n",
      "Round: 5 | Client: client_1 training\n",
      "   9/1036 [..............................] - ETA: 7s - loss: 0.2360 - accuracy: 0.8333 - recall: 0.8299 - precision: 0.8371 - f1_score: 0.8334  "
     ]
    },
    {
     "name": "stderr",
     "output_type": "stream",
     "text": [
      "2023-04-05 11:26:09.310798: I tensorflow/core/common_runtime/executor.cc:1197] [/device:CPU:0] (DEBUG INFO) Executor start aborting (this does not indicate an error and you can ignore this message): INVALID_ARGUMENT: You must feed a value for placeholder tensor 'Placeholder/_11' with dtype double and shape [11]\n",
      "\t [[{{node Placeholder/_11}}]]\n",
      "2023-04-05 11:26:09.310966: I tensorflow/core/common_runtime/executor.cc:1197] [/device:CPU:0] (DEBUG INFO) Executor start aborting (this does not indicate an error and you can ignore this message): INVALID_ARGUMENT: You must feed a value for placeholder tensor 'Placeholder/_0' with dtype double and shape [66261,34,1]\n",
      "\t [[{{node Placeholder/_0}}]]\n"
     ]
    },
    {
     "name": "stdout",
     "output_type": "stream",
     "text": [
      "1036/1036 [==============================] - 7s 7ms/step - loss: 0.2610 - accuracy: 0.8340 - recall: 0.8315 - precision: 0.8365 - f1_score: 0.8339\n",
      "Round: 5 | Client: client_7 training\n",
      "  16/1036 [..............................] - ETA: 7s - loss: 0.2647 - accuracy: 0.8174 - recall: 0.8135 - precision: 0.8231 - f1_score: 0.8181"
     ]
    },
    {
     "name": "stderr",
     "output_type": "stream",
     "text": [
      "2023-04-05 11:26:16.343248: I tensorflow/core/common_runtime/executor.cc:1197] [/device:CPU:0] (DEBUG INFO) Executor start aborting (this does not indicate an error and you can ignore this message): INVALID_ARGUMENT: You must feed a value for placeholder tensor 'Placeholder/_0' with dtype double and shape [66261,34,1]\n",
      "\t [[{{node Placeholder/_0}}]]\n",
      "2023-04-05 11:26:16.343418: I tensorflow/core/common_runtime/executor.cc:1197] [/device:CPU:0] (DEBUG INFO) Executor start aborting (this does not indicate an error and you can ignore this message): INVALID_ARGUMENT: You must feed a value for placeholder tensor 'Placeholder/_11' with dtype double and shape [11]\n",
      "\t [[{{node Placeholder/_11}}]]\n"
     ]
    },
    {
     "name": "stdout",
     "output_type": "stream",
     "text": [
      "1036/1036 [==============================] - 7s 7ms/step - loss: 0.2584 - accuracy: 0.8359 - recall: 0.8333 - precision: 0.8379 - f1_score: 0.8354\n",
      "5177/5177 [==============================] - 7s 1ms/step\n",
      "comm_round: 5 | global_loss: 1.704671859741211 | global_accuracy: 0.8305 | global_recall: 0.8303 | global_precision: 0.8308 | global_f1_score: 0.8305 \n",
      "\n",
      "Round: 6 | Client: client_2 training\n",
      "   8/1036 [..............................] - ETA: 7s - loss: 0.2402 - accuracy: 0.8398 - recall: 0.8379 - precision: 0.8395 - f1_score: 0.8387  "
     ]
    },
    {
     "name": "stderr",
     "output_type": "stream",
     "text": [
      "2023-04-05 11:26:31.788796: I tensorflow/core/common_runtime/executor.cc:1197] [/device:CPU:0] (DEBUG INFO) Executor start aborting (this does not indicate an error and you can ignore this message): INVALID_ARGUMENT: You must feed a value for placeholder tensor 'Placeholder/_11' with dtype double and shape [11]\n",
      "\t [[{{node Placeholder/_11}}]]\n",
      "2023-04-05 11:26:31.788954: I tensorflow/core/common_runtime/executor.cc:1197] [/device:CPU:0] (DEBUG INFO) Executor start aborting (this does not indicate an error and you can ignore this message): INVALID_ARGUMENT: You must feed a value for placeholder tensor 'Placeholder/_1' with dtype float and shape [66261,11]\n",
      "\t [[{{node Placeholder/_1}}]]\n"
     ]
    },
    {
     "name": "stdout",
     "output_type": "stream",
     "text": [
      "1036/1036 [==============================] - 7s 7ms/step - loss: 0.2542 - accuracy: 0.8343 - recall: 0.8317 - precision: 0.8372 - f1_score: 0.8342\n",
      "Round: 6 | Client: client_3 training\n",
      "  17/1036 [..............................] - ETA: 7s - loss: 0.2516 - accuracy: 0.8419 - recall: 0.8410 - precision: 0.8433 - f1_score: 0.8421"
     ]
    },
    {
     "name": "stderr",
     "output_type": "stream",
     "text": [
      "2023-04-05 11:26:38.868302: I tensorflow/core/common_runtime/executor.cc:1197] [/device:CPU:0] (DEBUG INFO) Executor start aborting (this does not indicate an error and you can ignore this message): INVALID_ARGUMENT: You must feed a value for placeholder tensor 'Placeholder/_1' with dtype float and shape [66261,11]\n",
      "\t [[{{node Placeholder/_1}}]]\n",
      "2023-04-05 11:26:38.868484: I tensorflow/core/common_runtime/executor.cc:1197] [/device:CPU:0] (DEBUG INFO) Executor start aborting (this does not indicate an error and you can ignore this message): INVALID_ARGUMENT: You must feed a value for placeholder tensor 'Placeholder/_1' with dtype float and shape [66261,11]\n",
      "\t [[{{node Placeholder/_1}}]]\n"
     ]
    },
    {
     "name": "stdout",
     "output_type": "stream",
     "text": [
      "1036/1036 [==============================] - 7s 7ms/step - loss: 0.2496 - accuracy: 0.8367 - recall: 0.8328 - precision: 0.8402 - f1_score: 0.8365\n",
      "Round: 6 | Client: client_7 training\n",
      "   8/1036 [..............................] - ETA: 7s - loss: 0.2834 - accuracy: 0.8262 - recall: 0.8242 - precision: 0.8258 - f1_score: 0.8250  "
     ]
    },
    {
     "name": "stderr",
     "output_type": "stream",
     "text": [
      "2023-04-05 11:26:46.057211: I tensorflow/core/common_runtime/executor.cc:1197] [/device:CPU:0] (DEBUG INFO) Executor start aborting (this does not indicate an error and you can ignore this message): INVALID_ARGUMENT: You must feed a value for placeholder tensor 'Placeholder/_1' with dtype float and shape [66261,11]\n",
      "\t [[{{node Placeholder/_1}}]]\n",
      "2023-04-05 11:26:46.057380: I tensorflow/core/common_runtime/executor.cc:1197] [/device:CPU:0] (DEBUG INFO) Executor start aborting (this does not indicate an error and you can ignore this message): INVALID_ARGUMENT: You must feed a value for placeholder tensor 'Placeholder/_11' with dtype double and shape [11]\n",
      "\t [[{{node Placeholder/_11}}]]\n"
     ]
    },
    {
     "name": "stdout",
     "output_type": "stream",
     "text": [
      "1036/1036 [==============================] - 7s 7ms/step - loss: 0.2492 - accuracy: 0.8369 - recall: 0.8342 - precision: 0.8392 - f1_score: 0.8367\n",
      "Round: 6 | Client: client_9 training\n",
      "   9/1036 [..............................] - ETA: 6s - loss: 0.2277 - accuracy: 0.8229 - recall: 0.8194 - precision: 0.8223 - f1_score: 0.8209  "
     ]
    },
    {
     "name": "stderr",
     "output_type": "stream",
     "text": [
      "2023-04-05 11:26:53.229115: I tensorflow/core/common_runtime/executor.cc:1197] [/device:CPU:0] (DEBUG INFO) Executor start aborting (this does not indicate an error and you can ignore this message): INVALID_ARGUMENT: You must feed a value for placeholder tensor 'Placeholder/_1' with dtype float and shape [66260,11]\n",
      "\t [[{{node Placeholder/_1}}]]\n",
      "2023-04-05 11:26:53.229292: I tensorflow/core/common_runtime/executor.cc:1197] [/device:CPU:0] (DEBUG INFO) Executor start aborting (this does not indicate an error and you can ignore this message): INVALID_ARGUMENT: You must feed a value for placeholder tensor 'Placeholder/_1' with dtype float and shape [66260,11]\n",
      "\t [[{{node Placeholder/_1}}]]\n"
     ]
    },
    {
     "name": "stdout",
     "output_type": "stream",
     "text": [
      "1036/1036 [==============================] - 7s 7ms/step - loss: 0.2487 - accuracy: 0.8392 - recall: 0.8362 - precision: 0.8412 - f1_score: 0.8387\n",
      "Round: 6 | Client: client_4 training\n",
      "  17/1036 [..............................] - ETA: 6s - loss: 0.2907 - accuracy: 0.8364 - recall: 0.8309 - precision: 0.8409 - f1_score: 0.8359"
     ]
    },
    {
     "name": "stderr",
     "output_type": "stream",
     "text": [
      "2023-04-05 11:27:00.319295: I tensorflow/core/common_runtime/executor.cc:1197] [/device:CPU:0] (DEBUG INFO) Executor start aborting (this does not indicate an error and you can ignore this message): INVALID_ARGUMENT: You must feed a value for placeholder tensor 'Placeholder/_11' with dtype double and shape [11]\n",
      "\t [[{{node Placeholder/_11}}]]\n",
      "2023-04-05 11:27:00.319452: I tensorflow/core/common_runtime/executor.cc:1197] [/device:CPU:0] (DEBUG INFO) Executor start aborting (this does not indicate an error and you can ignore this message): INVALID_ARGUMENT: You must feed a value for placeholder tensor 'Placeholder/_11' with dtype double and shape [11]\n",
      "\t [[{{node Placeholder/_11}}]]\n"
     ]
    },
    {
     "name": "stdout",
     "output_type": "stream",
     "text": [
      "1036/1036 [==============================] - 7s 7ms/step - loss: 0.2508 - accuracy: 0.8388 - recall: 0.8363 - precision: 0.8410 - f1_score: 0.8386\n",
      "Round: 6 | Client: client_6 training\n",
      "  16/1036 [..............................] - ETA: 7s - loss: 0.2409 - accuracy: 0.8281 - recall: 0.8271 - precision: 0.8312 - f1_score: 0.8290"
     ]
    },
    {
     "name": "stderr",
     "output_type": "stream",
     "text": [
      "2023-04-05 11:27:07.557303: I tensorflow/core/common_runtime/executor.cc:1197] [/device:CPU:0] (DEBUG INFO) Executor start aborting (this does not indicate an error and you can ignore this message): INVALID_ARGUMENT: You must feed a value for placeholder tensor 'Placeholder/_1' with dtype float and shape [66261,11]\n",
      "\t [[{{node Placeholder/_1}}]]\n",
      "2023-04-05 11:27:07.557469: I tensorflow/core/common_runtime/executor.cc:1197] [/device:CPU:0] (DEBUG INFO) Executor start aborting (this does not indicate an error and you can ignore this message): INVALID_ARGUMENT: You must feed a value for placeholder tensor 'Placeholder/_11' with dtype double and shape [11]\n",
      "\t [[{{node Placeholder/_11}}]]\n"
     ]
    },
    {
     "name": "stdout",
     "output_type": "stream",
     "text": [
      "1036/1036 [==============================] - 7s 7ms/step - loss: 0.2557 - accuracy: 0.8345 - recall: 0.8312 - precision: 0.8375 - f1_score: 0.8344\n",
      "Round: 6 | Client: client_8 training\n",
      "   8/1036 [..............................] - ETA: 7s - loss: 0.2493 - accuracy: 0.8359 - recall: 0.8320 - precision: 0.8386 - f1_score: 0.8353  "
     ]
    },
    {
     "name": "stderr",
     "output_type": "stream",
     "text": [
      "2023-04-05 11:27:14.745479: I tensorflow/core/common_runtime/executor.cc:1197] [/device:CPU:0] (DEBUG INFO) Executor start aborting (this does not indicate an error and you can ignore this message): INVALID_ARGUMENT: You must feed a value for placeholder tensor 'Placeholder/_11' with dtype double and shape [11]\n",
      "\t [[{{node Placeholder/_11}}]]\n",
      "2023-04-05 11:27:14.745647: I tensorflow/core/common_runtime/executor.cc:1197] [/device:CPU:0] (DEBUG INFO) Executor start aborting (this does not indicate an error and you can ignore this message): INVALID_ARGUMENT: You must feed a value for placeholder tensor 'Placeholder/_1' with dtype float and shape [66261,11]\n",
      "\t [[{{node Placeholder/_1}}]]\n"
     ]
    },
    {
     "name": "stdout",
     "output_type": "stream",
     "text": [
      "1036/1036 [==============================] - 7s 7ms/step - loss: 0.2524 - accuracy: 0.8386 - recall: 0.8357 - precision: 0.8409 - f1_score: 0.8383\n",
      "Round: 6 | Client: client_1 training\n",
      "   9/1036 [..............................] - ETA: 7s - loss: 0.2180 - accuracy: 0.8594 - recall: 0.8542 - precision: 0.8586 - f1_score: 0.8563  "
     ]
    },
    {
     "name": "stderr",
     "output_type": "stream",
     "text": [
      "2023-04-05 11:27:22.096413: I tensorflow/core/common_runtime/executor.cc:1197] [/device:CPU:0] (DEBUG INFO) Executor start aborting (this does not indicate an error and you can ignore this message): INVALID_ARGUMENT: You must feed a value for placeholder tensor 'Placeholder/_1' with dtype float and shape [66261,11]\n",
      "\t [[{{node Placeholder/_1}}]]\n",
      "2023-04-05 11:27:22.096577: I tensorflow/core/common_runtime/executor.cc:1197] [/device:CPU:0] (DEBUG INFO) Executor start aborting (this does not indicate an error and you can ignore this message): INVALID_ARGUMENT: You must feed a value for placeholder tensor 'Placeholder/_11' with dtype double and shape [11]\n",
      "\t [[{{node Placeholder/_11}}]]\n"
     ]
    },
    {
     "name": "stdout",
     "output_type": "stream",
     "text": [
      "1036/1036 [==============================] - 7s 7ms/step - loss: 0.2551 - accuracy: 0.8384 - recall: 0.8361 - precision: 0.8407 - f1_score: 0.8384\n",
      "Round: 6 | Client: client_10 training\n",
      "  16/1036 [..............................] - ETA: 7s - loss: 0.2500 - accuracy: 0.8389 - recall: 0.8379 - precision: 0.8395 - f1_score: 0.8387"
     ]
    },
    {
     "name": "stderr",
     "output_type": "stream",
     "text": [
      "2023-04-05 11:27:29.164469: I tensorflow/core/common_runtime/executor.cc:1197] [/device:CPU:0] (DEBUG INFO) Executor start aborting (this does not indicate an error and you can ignore this message): INVALID_ARGUMENT: You must feed a value for placeholder tensor 'Placeholder/_1' with dtype float and shape [66260,11]\n",
      "\t [[{{node Placeholder/_1}}]]\n",
      "2023-04-05 11:27:29.164630: I tensorflow/core/common_runtime/executor.cc:1197] [/device:CPU:0] (DEBUG INFO) Executor start aborting (this does not indicate an error and you can ignore this message): INVALID_ARGUMENT: You must feed a value for placeholder tensor 'Placeholder/_1' with dtype float and shape [66260,11]\n",
      "\t [[{{node Placeholder/_1}}]]\n"
     ]
    },
    {
     "name": "stdout",
     "output_type": "stream",
     "text": [
      "1036/1036 [==============================] - 7s 7ms/step - loss: 0.2460 - accuracy: 0.8379 - recall: 0.8343 - precision: 0.8406 - f1_score: 0.8374\n",
      "Round: 6 | Client: client_5 training\n",
      "  12/1036 [..............................] - ETA: 9s - loss: 0.2360 - accuracy: 0.8398 - recall: 0.8307 - precision: 0.8473 - f1_score: 0.8381 "
     ]
    },
    {
     "name": "stderr",
     "output_type": "stream",
     "text": [
      "2023-04-05 11:27:36.450760: I tensorflow/core/common_runtime/executor.cc:1197] [/device:CPU:0] (DEBUG INFO) Executor start aborting (this does not indicate an error and you can ignore this message): INVALID_ARGUMENT: You must feed a value for placeholder tensor 'Placeholder/_0' with dtype double and shape [66261,34,1]\n",
      "\t [[{{node Placeholder/_0}}]]\n",
      "2023-04-05 11:27:36.450965: I tensorflow/core/common_runtime/executor.cc:1197] [/device:CPU:0] (DEBUG INFO) Executor start aborting (this does not indicate an error and you can ignore this message): INVALID_ARGUMENT: You must feed a value for placeholder tensor 'Placeholder/_1' with dtype float and shape [66261,11]\n",
      "\t [[{{node Placeholder/_1}}]]\n"
     ]
    },
    {
     "name": "stdout",
     "output_type": "stream",
     "text": [
      "1036/1036 [==============================] - 8s 7ms/step - loss: 0.2513 - accuracy: 0.8353 - recall: 0.8321 - precision: 0.8377 - f1_score: 0.8348\n",
      "5177/5177 [==============================] - 7s 1ms/step\n",
      "comm_round: 6 | global_loss: 1.713863492012024 | global_accuracy: 0.8232 | global_recall: 0.8229 | global_precision: 0.8234 | global_f1_score: 0.8231 \n",
      "\n",
      "Round: 7 | Client: client_7 training\n",
      "  15/1036 [..............................] - ETA: 7s - loss: 0.2532 - accuracy: 0.8313 - recall: 0.8292 - precision: 0.8326 - f1_score: 0.8309"
     ]
    },
    {
     "name": "stderr",
     "output_type": "stream",
     "text": [
      "2023-04-05 11:27:52.778566: I tensorflow/core/common_runtime/executor.cc:1197] [/device:CPU:0] (DEBUG INFO) Executor start aborting (this does not indicate an error and you can ignore this message): INVALID_ARGUMENT: You must feed a value for placeholder tensor 'Placeholder/_1' with dtype float and shape [66261,11]\n",
      "\t [[{{node Placeholder/_1}}]]\n",
      "2023-04-05 11:27:52.778745: I tensorflow/core/common_runtime/executor.cc:1197] [/device:CPU:0] (DEBUG INFO) Executor start aborting (this does not indicate an error and you can ignore this message): INVALID_ARGUMENT: You must feed a value for placeholder tensor 'Placeholder/_11' with dtype double and shape [11]\n",
      "\t [[{{node Placeholder/_11}}]]\n"
     ]
    },
    {
     "name": "stdout",
     "output_type": "stream",
     "text": [
      "1036/1036 [==============================] - 7s 7ms/step - loss: 0.2442 - accuracy: 0.8397 - recall: 0.8377 - precision: 0.8420 - f1_score: 0.8398\n",
      "Round: 7 | Client: client_6 training\n",
      "  15/1036 [..............................] - ETA: 7s - loss: 0.2809 - accuracy: 0.8198 - recall: 0.8167 - precision: 0.8227 - f1_score: 0.8197"
     ]
    },
    {
     "name": "stderr",
     "output_type": "stream",
     "text": [
      "2023-04-05 11:28:00.036586: I tensorflow/core/common_runtime/executor.cc:1197] [/device:CPU:0] (DEBUG INFO) Executor start aborting (this does not indicate an error and you can ignore this message): INVALID_ARGUMENT: You must feed a value for placeholder tensor 'Placeholder/_1' with dtype float and shape [66261,11]\n",
      "\t [[{{node Placeholder/_1}}]]\n",
      "2023-04-05 11:28:00.036791: I tensorflow/core/common_runtime/executor.cc:1197] [/device:CPU:0] (DEBUG INFO) Executor start aborting (this does not indicate an error and you can ignore this message): INVALID_ARGUMENT: You must feed a value for placeholder tensor 'Placeholder/_11' with dtype double and shape [11]\n",
      "\t [[{{node Placeholder/_11}}]]\n"
     ]
    },
    {
     "name": "stdout",
     "output_type": "stream",
     "text": [
      "1036/1036 [==============================] - 7s 7ms/step - loss: 0.2527 - accuracy: 0.8394 - recall: 0.8372 - precision: 0.8416 - f1_score: 0.8394\n",
      "Round: 7 | Client: client_1 training\n",
      "  17/1036 [..............................] - ETA: 6s - loss: 0.2321 - accuracy: 0.8263 - recall: 0.8254 - precision: 0.8284 - f1_score: 0.8269"
     ]
    },
    {
     "name": "stderr",
     "output_type": "stream",
     "text": [
      "2023-04-05 11:28:07.266267: I tensorflow/core/common_runtime/executor.cc:1197] [/device:CPU:0] (DEBUG INFO) Executor start aborting (this does not indicate an error and you can ignore this message): INVALID_ARGUMENT: You must feed a value for placeholder tensor 'Placeholder/_1' with dtype float and shape [66261,11]\n",
      "\t [[{{node Placeholder/_1}}]]\n",
      "2023-04-05 11:28:07.266473: I tensorflow/core/common_runtime/executor.cc:1197] [/device:CPU:0] (DEBUG INFO) Executor start aborting (this does not indicate an error and you can ignore this message): INVALID_ARGUMENT: You must feed a value for placeholder tensor 'Placeholder/_11' with dtype double and shape [11]\n",
      "\t [[{{node Placeholder/_11}}]]\n"
     ]
    },
    {
     "name": "stdout",
     "output_type": "stream",
     "text": [
      "1036/1036 [==============================] - 7s 7ms/step - loss: 0.2479 - accuracy: 0.8406 - recall: 0.8382 - precision: 0.8433 - f1_score: 0.8406\n",
      "Round: 7 | Client: client_2 training\n",
      "  14/1036 [..............................] - ETA: 8s - loss: 0.2686 - accuracy: 0.8248 - recall: 0.8225 - precision: 0.8253 - f1_score: 0.8239"
     ]
    },
    {
     "name": "stderr",
     "output_type": "stream",
     "text": [
      "2023-04-05 11:28:14.627005: I tensorflow/core/common_runtime/executor.cc:1197] [/device:CPU:0] (DEBUG INFO) Executor start aborting (this does not indicate an error and you can ignore this message): INVALID_ARGUMENT: You must feed a value for placeholder tensor 'Placeholder/_11' with dtype double and shape [11]\n",
      "\t [[{{node Placeholder/_11}}]]\n",
      "2023-04-05 11:28:14.627244: I tensorflow/core/common_runtime/executor.cc:1197] [/device:CPU:0] (DEBUG INFO) Executor start aborting (this does not indicate an error and you can ignore this message): INVALID_ARGUMENT: You must feed a value for placeholder tensor 'Placeholder/_11' with dtype double and shape [11]\n",
      "\t [[{{node Placeholder/_11}}]]\n"
     ]
    },
    {
     "name": "stdout",
     "output_type": "stream",
     "text": [
      "1036/1036 [==============================] - 7s 7ms/step - loss: 0.2442 - accuracy: 0.8404 - recall: 0.8376 - precision: 0.8430 - f1_score: 0.8403\n",
      "Round: 7 | Client: client_8 training\n",
      "  17/1036 [..............................] - ETA: 6s - loss: 0.2397 - accuracy: 0.8401 - recall: 0.8373 - precision: 0.8412 - f1_score: 0.8393"
     ]
    },
    {
     "name": "stderr",
     "output_type": "stream",
     "text": [
      "2023-04-05 11:28:22.016819: I tensorflow/core/common_runtime/executor.cc:1197] [/device:CPU:0] (DEBUG INFO) Executor start aborting (this does not indicate an error and you can ignore this message): INVALID_ARGUMENT: You must feed a value for placeholder tensor 'Placeholder/_1' with dtype float and shape [66261,11]\n",
      "\t [[{{node Placeholder/_1}}]]\n",
      "2023-04-05 11:28:22.017009: I tensorflow/core/common_runtime/executor.cc:1197] [/device:CPU:0] (DEBUG INFO) Executor start aborting (this does not indicate an error and you can ignore this message): INVALID_ARGUMENT: You must feed a value for placeholder tensor 'Placeholder/_1' with dtype float and shape [66261,11]\n",
      "\t [[{{node Placeholder/_1}}]]\n"
     ]
    },
    {
     "name": "stdout",
     "output_type": "stream",
     "text": [
      "1036/1036 [==============================] - 7s 7ms/step - loss: 0.2524 - accuracy: 0.8413 - recall: 0.8388 - precision: 0.8436 - f1_score: 0.8411\n",
      "Round: 7 | Client: client_5 training\n",
      "  17/1036 [..............................] - ETA: 6s - loss: 0.2225 - accuracy: 0.8346 - recall: 0.8318 - precision: 0.8341 - f1_score: 0.8329"
     ]
    },
    {
     "name": "stderr",
     "output_type": "stream",
     "text": [
      "2023-04-05 11:28:29.116022: I tensorflow/core/common_runtime/executor.cc:1197] [/device:CPU:0] (DEBUG INFO) Executor start aborting (this does not indicate an error and you can ignore this message): INVALID_ARGUMENT: You must feed a value for placeholder tensor 'Placeholder/_1' with dtype float and shape [66261,11]\n",
      "\t [[{{node Placeholder/_1}}]]\n",
      "2023-04-05 11:28:29.116183: I tensorflow/core/common_runtime/executor.cc:1197] [/device:CPU:0] (DEBUG INFO) Executor start aborting (this does not indicate an error and you can ignore this message): INVALID_ARGUMENT: You must feed a value for placeholder tensor 'Placeholder/_11' with dtype double and shape [11]\n",
      "\t [[{{node Placeholder/_11}}]]\n"
     ]
    },
    {
     "name": "stdout",
     "output_type": "stream",
     "text": [
      "1036/1036 [==============================] - 7s 7ms/step - loss: 0.2463 - accuracy: 0.8397 - recall: 0.8368 - precision: 0.8420 - f1_score: 0.8393\n",
      "Round: 7 | Client: client_3 training\n",
      "  16/1036 [..............................] - ETA: 7s - loss: 0.2487 - accuracy: 0.8330 - recall: 0.8330 - precision: 0.8355 - f1_score: 0.8342"
     ]
    },
    {
     "name": "stderr",
     "output_type": "stream",
     "text": [
      "2023-04-05 11:28:36.380036: I tensorflow/core/common_runtime/executor.cc:1197] [/device:CPU:0] (DEBUG INFO) Executor start aborting (this does not indicate an error and you can ignore this message): INVALID_ARGUMENT: You must feed a value for placeholder tensor 'Placeholder/_11' with dtype double and shape [11]\n",
      "\t [[{{node Placeholder/_11}}]]\n",
      "2023-04-05 11:28:36.380207: I tensorflow/core/common_runtime/executor.cc:1197] [/device:CPU:0] (DEBUG INFO) Executor start aborting (this does not indicate an error and you can ignore this message): INVALID_ARGUMENT: You must feed a value for placeholder tensor 'Placeholder/_11' with dtype double and shape [11]\n",
      "\t [[{{node Placeholder/_11}}]]\n"
     ]
    },
    {
     "name": "stdout",
     "output_type": "stream",
     "text": [
      "1036/1036 [==============================] - 7s 7ms/step - loss: 0.2473 - accuracy: 0.8390 - recall: 0.8359 - precision: 0.8410 - f1_score: 0.8384\n",
      "Round: 7 | Client: client_9 training\n",
      "  17/1036 [..............................] - ETA: 6s - loss: 0.2270 - accuracy: 0.8419 - recall: 0.8410 - precision: 0.8441 - f1_score: 0.8426"
     ]
    },
    {
     "name": "stderr",
     "output_type": "stream",
     "text": [
      "2023-04-05 11:28:43.472433: I tensorflow/core/common_runtime/executor.cc:1197] [/device:CPU:0] (DEBUG INFO) Executor start aborting (this does not indicate an error and you can ignore this message): INVALID_ARGUMENT: You must feed a value for placeholder tensor 'Placeholder/_11' with dtype double and shape [11]\n",
      "\t [[{{node Placeholder/_11}}]]\n",
      "2023-04-05 11:28:43.472687: I tensorflow/core/common_runtime/executor.cc:1197] [/device:CPU:0] (DEBUG INFO) Executor start aborting (this does not indicate an error and you can ignore this message): INVALID_ARGUMENT: You must feed a value for placeholder tensor 'Placeholder/_11' with dtype double and shape [11]\n",
      "\t [[{{node Placeholder/_11}}]]\n"
     ]
    },
    {
     "name": "stdout",
     "output_type": "stream",
     "text": [
      "1036/1036 [==============================] - 7s 7ms/step - loss: 0.2450 - accuracy: 0.8412 - recall: 0.8383 - precision: 0.8435 - f1_score: 0.8408\n",
      "Round: 7 | Client: client_10 training\n",
      "  16/1036 [..............................] - ETA: 7s - loss: 0.2689 - accuracy: 0.8223 - recall: 0.8184 - precision: 0.8264 - f1_score: 0.8223"
     ]
    },
    {
     "name": "stderr",
     "output_type": "stream",
     "text": [
      "2023-04-05 11:28:50.517289: I tensorflow/core/common_runtime/executor.cc:1197] [/device:CPU:0] (DEBUG INFO) Executor start aborting (this does not indicate an error and you can ignore this message): INVALID_ARGUMENT: You must feed a value for placeholder tensor 'Placeholder/_1' with dtype float and shape [66260,11]\n",
      "\t [[{{node Placeholder/_1}}]]\n",
      "2023-04-05 11:28:50.517479: I tensorflow/core/common_runtime/executor.cc:1197] [/device:CPU:0] (DEBUG INFO) Executor start aborting (this does not indicate an error and you can ignore this message): INVALID_ARGUMENT: You must feed a value for placeholder tensor 'Placeholder/_1' with dtype float and shape [66260,11]\n",
      "\t [[{{node Placeholder/_1}}]]\n"
     ]
    },
    {
     "name": "stdout",
     "output_type": "stream",
     "text": [
      "1036/1036 [==============================] - 7s 7ms/step - loss: 0.2457 - accuracy: 0.8422 - recall: 0.8395 - precision: 0.8449 - f1_score: 0.8422\n",
      "Round: 7 | Client: client_4 training\n",
      "  17/1036 [..............................] - ETA: 6s - loss: 0.2683 - accuracy: 0.8318 - recall: 0.8309 - precision: 0.8355 - f1_score: 0.8330"
     ]
    },
    {
     "name": "stderr",
     "output_type": "stream",
     "text": [
      "2023-04-05 11:28:57.623896: I tensorflow/core/common_runtime/executor.cc:1197] [/device:CPU:0] (DEBUG INFO) Executor start aborting (this does not indicate an error and you can ignore this message): INVALID_ARGUMENT: You must feed a value for placeholder tensor 'Placeholder/_11' with dtype double and shape [11]\n",
      "\t [[{{node Placeholder/_11}}]]\n",
      "2023-04-05 11:28:57.624068: I tensorflow/core/common_runtime/executor.cc:1197] [/device:CPU:0] (DEBUG INFO) Executor start aborting (this does not indicate an error and you can ignore this message): INVALID_ARGUMENT: You must feed a value for placeholder tensor 'Placeholder/_11' with dtype double and shape [11]\n",
      "\t [[{{node Placeholder/_11}}]]\n"
     ]
    },
    {
     "name": "stdout",
     "output_type": "stream",
     "text": [
      "1036/1036 [==============================] - 7s 7ms/step - loss: 0.2459 - accuracy: 0.8409 - recall: 0.8386 - precision: 0.8429 - f1_score: 0.8407\n",
      "5177/5177 [==============================] - 8s 1ms/step\n",
      "comm_round: 7 | global_loss: 1.6946055889129639 | global_accuracy: 0.8487 | global_recall: 0.8487 | global_precision: 0.8487 | global_f1_score: 0.8487 \n",
      "\n",
      "New Weights Saved\n",
      "Round: 8 | Client: client_10 training\n",
      "  15/1036 [..............................] - ETA: 7s - loss: 0.2215 - accuracy: 0.8385 - recall: 0.8365 - precision: 0.8382 - f1_score: 0.8373"
     ]
    },
    {
     "name": "stderr",
     "output_type": "stream",
     "text": [
      "2023-04-05 11:29:13.581252: I tensorflow/core/common_runtime/executor.cc:1197] [/device:CPU:0] (DEBUG INFO) Executor start aborting (this does not indicate an error and you can ignore this message): INVALID_ARGUMENT: You must feed a value for placeholder tensor 'Placeholder/_0' with dtype double and shape [66260,34,1]\n",
      "\t [[{{node Placeholder/_0}}]]\n",
      "2023-04-05 11:29:13.581415: I tensorflow/core/common_runtime/executor.cc:1197] [/device:CPU:0] (DEBUG INFO) Executor start aborting (this does not indicate an error and you can ignore this message): INVALID_ARGUMENT: You must feed a value for placeholder tensor 'Placeholder/_1' with dtype float and shape [66260,11]\n",
      "\t [[{{node Placeholder/_1}}]]\n"
     ]
    },
    {
     "name": "stdout",
     "output_type": "stream",
     "text": [
      "1036/1036 [==============================] - 7s 7ms/step - loss: 0.2423 - accuracy: 0.8439 - recall: 0.8405 - precision: 0.8467 - f1_score: 0.8436\n",
      "Round: 8 | Client: client_9 training\n",
      "  17/1036 [..............................] - ETA: 6s - loss: 0.3130 - accuracy: 0.8327 - recall: 0.8309 - precision: 0.8339 - f1_score: 0.8324"
     ]
    },
    {
     "name": "stderr",
     "output_type": "stream",
     "text": [
      "2023-04-05 11:29:20.651148: I tensorflow/core/common_runtime/executor.cc:1197] [/device:CPU:0] (DEBUG INFO) Executor start aborting (this does not indicate an error and you can ignore this message): INVALID_ARGUMENT: You must feed a value for placeholder tensor 'Placeholder/_11' with dtype double and shape [11]\n",
      "\t [[{{node Placeholder/_11}}]]\n",
      "2023-04-05 11:29:20.651311: I tensorflow/core/common_runtime/executor.cc:1197] [/device:CPU:0] (DEBUG INFO) Executor start aborting (this does not indicate an error and you can ignore this message): INVALID_ARGUMENT: You must feed a value for placeholder tensor 'Placeholder/_11' with dtype double and shape [11]\n",
      "\t [[{{node Placeholder/_11}}]]\n"
     ]
    },
    {
     "name": "stdout",
     "output_type": "stream",
     "text": [
      "1036/1036 [==============================] - 7s 7ms/step - loss: 0.2463 - accuracy: 0.8421 - recall: 0.8383 - precision: 0.8449 - f1_score: 0.8416\n",
      "Round: 8 | Client: client_5 training\n",
      "  16/1036 [..............................] - ETA: 7s - loss: 0.2302 - accuracy: 0.8418 - recall: 0.8418 - precision: 0.8426 - f1_score: 0.8422"
     ]
    },
    {
     "name": "stderr",
     "output_type": "stream",
     "text": [
      "2023-04-05 11:29:27.810632: I tensorflow/core/common_runtime/executor.cc:1197] [/device:CPU:0] (DEBUG INFO) Executor start aborting (this does not indicate an error and you can ignore this message): INVALID_ARGUMENT: You must feed a value for placeholder tensor 'Placeholder/_11' with dtype double and shape [11]\n",
      "\t [[{{node Placeholder/_11}}]]\n",
      "2023-04-05 11:29:27.810794: I tensorflow/core/common_runtime/executor.cc:1197] [/device:CPU:0] (DEBUG INFO) Executor start aborting (this does not indicate an error and you can ignore this message): INVALID_ARGUMENT: You must feed a value for placeholder tensor 'Placeholder/_0' with dtype double and shape [66261,34,1]\n",
      "\t [[{{node Placeholder/_0}}]]\n"
     ]
    },
    {
     "name": "stdout",
     "output_type": "stream",
     "text": [
      "1036/1036 [==============================] - 7s 7ms/step - loss: 0.2465 - accuracy: 0.8400 - recall: 0.8371 - precision: 0.8420 - f1_score: 0.8395\n",
      "Round: 8 | Client: client_3 training\n",
      "  16/1036 [..............................] - ETA: 7s - loss: 0.3295 - accuracy: 0.8252 - recall: 0.8223 - precision: 0.8296 - f1_score: 0.8258"
     ]
    },
    {
     "name": "stderr",
     "output_type": "stream",
     "text": [
      "2023-04-05 11:29:34.899452: I tensorflow/core/common_runtime/executor.cc:1197] [/device:CPU:0] (DEBUG INFO) Executor start aborting (this does not indicate an error and you can ignore this message): INVALID_ARGUMENT: You must feed a value for placeholder tensor 'Placeholder/_11' with dtype double and shape [11]\n",
      "\t [[{{node Placeholder/_11}}]]\n",
      "2023-04-05 11:29:34.899610: I tensorflow/core/common_runtime/executor.cc:1197] [/device:CPU:0] (DEBUG INFO) Executor start aborting (this does not indicate an error and you can ignore this message): INVALID_ARGUMENT: You must feed a value for placeholder tensor 'Placeholder/_11' with dtype double and shape [11]\n",
      "\t [[{{node Placeholder/_11}}]]\n"
     ]
    },
    {
     "name": "stdout",
     "output_type": "stream",
     "text": [
      "1036/1036 [==============================] - 7s 7ms/step - loss: 0.2385 - accuracy: 0.8426 - recall: 0.8400 - precision: 0.8453 - f1_score: 0.8426\n",
      "Round: 8 | Client: client_1 training\n",
      "  17/1036 [..............................] - ETA: 6s - loss: 0.2607 - accuracy: 0.8346 - recall: 0.8309 - precision: 0.8370 - f1_score: 0.8339"
     ]
    },
    {
     "name": "stderr",
     "output_type": "stream",
     "text": [
      "2023-04-05 11:29:41.915092: I tensorflow/core/common_runtime/executor.cc:1197] [/device:CPU:0] (DEBUG INFO) Executor start aborting (this does not indicate an error and you can ignore this message): INVALID_ARGUMENT: You must feed a value for placeholder tensor 'Placeholder/_0' with dtype double and shape [66261,34,1]\n",
      "\t [[{{node Placeholder/_0}}]]\n",
      "2023-04-05 11:29:41.915311: I tensorflow/core/common_runtime/executor.cc:1197] [/device:CPU:0] (DEBUG INFO) Executor start aborting (this does not indicate an error and you can ignore this message): INVALID_ARGUMENT: You must feed a value for placeholder tensor 'Placeholder/_11' with dtype double and shape [11]\n",
      "\t [[{{node Placeholder/_11}}]]\n"
     ]
    },
    {
     "name": "stdout",
     "output_type": "stream",
     "text": [
      "1036/1036 [==============================] - 7s 7ms/step - loss: 0.2447 - accuracy: 0.8416 - recall: 0.8391 - precision: 0.8443 - f1_score: 0.8416\n",
      "Round: 8 | Client: client_6 training\n",
      "  16/1036 [..............................] - ETA: 7s - loss: 0.2060 - accuracy: 0.8506 - recall: 0.8486 - precision: 0.8536 - f1_score: 0.8511"
     ]
    },
    {
     "name": "stderr",
     "output_type": "stream",
     "text": [
      "2023-04-05 11:29:49.190236: I tensorflow/core/common_runtime/executor.cc:1197] [/device:CPU:0] (DEBUG INFO) Executor start aborting (this does not indicate an error and you can ignore this message): INVALID_ARGUMENT: You must feed a value for placeholder tensor 'Placeholder/_11' with dtype double and shape [11]\n",
      "\t [[{{node Placeholder/_11}}]]\n",
      "2023-04-05 11:29:49.190402: I tensorflow/core/common_runtime/executor.cc:1197] [/device:CPU:0] (DEBUG INFO) Executor start aborting (this does not indicate an error and you can ignore this message): INVALID_ARGUMENT: You must feed a value for placeholder tensor 'Placeholder/_0' with dtype double and shape [66261,34,1]\n",
      "\t [[{{node Placeholder/_0}}]]\n"
     ]
    },
    {
     "name": "stdout",
     "output_type": "stream",
     "text": [
      "1036/1036 [==============================] - 7s 7ms/step - loss: 0.2469 - accuracy: 0.8414 - recall: 0.8387 - precision: 0.8442 - f1_score: 0.8414\n",
      "Round: 8 | Client: client_4 training\n",
      "  16/1036 [..............................] - ETA: 7s - loss: 0.2175 - accuracy: 0.8457 - recall: 0.8408 - precision: 0.8491 - f1_score: 0.8448"
     ]
    },
    {
     "name": "stderr",
     "output_type": "stream",
     "text": [
      "2023-04-05 11:29:56.345132: I tensorflow/core/common_runtime/executor.cc:1197] [/device:CPU:0] (DEBUG INFO) Executor start aborting (this does not indicate an error and you can ignore this message): INVALID_ARGUMENT: You must feed a value for placeholder tensor 'Placeholder/_11' with dtype double and shape [11]\n",
      "\t [[{{node Placeholder/_11}}]]\n",
      "2023-04-05 11:29:56.345371: I tensorflow/core/common_runtime/executor.cc:1197] [/device:CPU:0] (DEBUG INFO) Executor start aborting (this does not indicate an error and you can ignore this message): INVALID_ARGUMENT: You must feed a value for placeholder tensor 'Placeholder/_0' with dtype double and shape [66261,34,1]\n",
      "\t [[{{node Placeholder/_0}}]]\n"
     ]
    },
    {
     "name": "stdout",
     "output_type": "stream",
     "text": [
      "1036/1036 [==============================] - 7s 7ms/step - loss: 0.2426 - accuracy: 0.8420 - recall: 0.8395 - precision: 0.8441 - f1_score: 0.8418\n",
      "Round: 8 | Client: client_8 training\n",
      "  16/1036 [..............................] - ETA: 6s - loss: 0.2557 - accuracy: 0.8320 - recall: 0.8301 - precision: 0.8342 - f1_score: 0.8321"
     ]
    },
    {
     "name": "stderr",
     "output_type": "stream",
     "text": [
      "2023-04-05 11:30:03.516277: I tensorflow/core/common_runtime/executor.cc:1197] [/device:CPU:0] (DEBUG INFO) Executor start aborting (this does not indicate an error and you can ignore this message): INVALID_ARGUMENT: You must feed a value for placeholder tensor 'Placeholder/_0' with dtype double and shape [66261,34,1]\n",
      "\t [[{{node Placeholder/_0}}]]\n",
      "2023-04-05 11:30:03.516509: I tensorflow/core/common_runtime/executor.cc:1197] [/device:CPU:0] (DEBUG INFO) Executor start aborting (this does not indicate an error and you can ignore this message): INVALID_ARGUMENT: You must feed a value for placeholder tensor 'Placeholder/_11' with dtype double and shape [11]\n",
      "\t [[{{node Placeholder/_11}}]]\n"
     ]
    },
    {
     "name": "stdout",
     "output_type": "stream",
     "text": [
      "1036/1036 [==============================] - 7s 7ms/step - loss: 0.2472 - accuracy: 0.8430 - recall: 0.8398 - precision: 0.8455 - f1_score: 0.8425\n",
      "Round: 8 | Client: client_7 training\n",
      "  16/1036 [..............................] - ETA: 7s - loss: 0.1998 - accuracy: 0.8555 - recall: 0.8555 - precision: 0.8580 - f1_score: 0.8567"
     ]
    },
    {
     "name": "stderr",
     "output_type": "stream",
     "text": [
      "2023-04-05 11:30:10.640954: I tensorflow/core/common_runtime/executor.cc:1197] [/device:CPU:0] (DEBUG INFO) Executor start aborting (this does not indicate an error and you can ignore this message): INVALID_ARGUMENT: You must feed a value for placeholder tensor 'Placeholder/_11' with dtype double and shape [11]\n",
      "\t [[{{node Placeholder/_11}}]]\n",
      "2023-04-05 11:30:10.641115: I tensorflow/core/common_runtime/executor.cc:1197] [/device:CPU:0] (DEBUG INFO) Executor start aborting (this does not indicate an error and you can ignore this message): INVALID_ARGUMENT: You must feed a value for placeholder tensor 'Placeholder/_11' with dtype double and shape [11]\n",
      "\t [[{{node Placeholder/_11}}]]\n"
     ]
    },
    {
     "name": "stdout",
     "output_type": "stream",
     "text": [
      "1036/1036 [==============================] - 7s 7ms/step - loss: 0.2418 - accuracy: 0.8433 - recall: 0.8408 - precision: 0.8454 - f1_score: 0.8430\n",
      "Round: 8 | Client: client_2 training\n",
      "  16/1036 [..............................] - ETA: 7s - loss: 0.2031 - accuracy: 0.8555 - recall: 0.8535 - precision: 0.8560 - f1_score: 0.8548"
     ]
    },
    {
     "name": "stderr",
     "output_type": "stream",
     "text": [
      "2023-04-05 11:30:18.200721: I tensorflow/core/common_runtime/executor.cc:1197] [/device:CPU:0] (DEBUG INFO) Executor start aborting (this does not indicate an error and you can ignore this message): INVALID_ARGUMENT: You must feed a value for placeholder tensor 'Placeholder/_11' with dtype double and shape [11]\n",
      "\t [[{{node Placeholder/_11}}]]\n",
      "2023-04-05 11:30:18.200903: I tensorflow/core/common_runtime/executor.cc:1197] [/device:CPU:0] (DEBUG INFO) Executor start aborting (this does not indicate an error and you can ignore this message): INVALID_ARGUMENT: You must feed a value for placeholder tensor 'Placeholder/_11' with dtype double and shape [11]\n",
      "\t [[{{node Placeholder/_11}}]]\n"
     ]
    },
    {
     "name": "stdout",
     "output_type": "stream",
     "text": [
      "1036/1036 [==============================] - 7s 7ms/step - loss: 0.2429 - accuracy: 0.8400 - recall: 0.8371 - precision: 0.8421 - f1_score: 0.8394\n",
      "5177/5177 [==============================] - 8s 2ms/step\n",
      "comm_round: 8 | global_loss: 1.6968355178833008 | global_accuracy: 0.8489 | global_recall: 0.8489 | global_precision: 0.8489 | global_f1_score: 0.8489 \n",
      "\n",
      "New Weights Saved\n",
      "Round: 9 | Client: client_2 training\n",
      "   8/1036 [..............................] - ETA: 7s - loss: 0.2081 - accuracy: 0.8359 - recall: 0.8340 - precision: 0.8373 - f1_score: 0.8358  "
     ]
    },
    {
     "name": "stderr",
     "output_type": "stream",
     "text": [
      "2023-04-05 11:30:34.619578: I tensorflow/core/common_runtime/executor.cc:1197] [/device:CPU:0] (DEBUG INFO) Executor start aborting (this does not indicate an error and you can ignore this message): INVALID_ARGUMENT: You must feed a value for placeholder tensor 'Placeholder/_11' with dtype double and shape [11]\n",
      "\t [[{{node Placeholder/_11}}]]\n",
      "2023-04-05 11:30:34.619761: I tensorflow/core/common_runtime/executor.cc:1197] [/device:CPU:0] (DEBUG INFO) Executor start aborting (this does not indicate an error and you can ignore this message): INVALID_ARGUMENT: You must feed a value for placeholder tensor 'Placeholder/_11' with dtype double and shape [11]\n",
      "\t [[{{node Placeholder/_11}}]]\n"
     ]
    },
    {
     "name": "stdout",
     "output_type": "stream",
     "text": [
      "1036/1036 [==============================] - 7s 7ms/step - loss: 0.2401 - accuracy: 0.8437 - recall: 0.8406 - precision: 0.8459 - f1_score: 0.8431\n",
      "Round: 9 | Client: client_8 training\n",
      "  17/1036 [..............................] - ETA: 6s - loss: 0.2292 - accuracy: 0.8355 - recall: 0.8346 - precision: 0.8376 - f1_score: 0.8361"
     ]
    },
    {
     "name": "stderr",
     "output_type": "stream",
     "text": [
      "2023-04-05 11:30:41.768214: I tensorflow/core/common_runtime/executor.cc:1197] [/device:CPU:0] (DEBUG INFO) Executor start aborting (this does not indicate an error and you can ignore this message): INVALID_ARGUMENT: You must feed a value for placeholder tensor 'Placeholder/_11' with dtype double and shape [11]\n",
      "\t [[{{node Placeholder/_11}}]]\n",
      "2023-04-05 11:30:41.768377: I tensorflow/core/common_runtime/executor.cc:1197] [/device:CPU:0] (DEBUG INFO) Executor start aborting (this does not indicate an error and you can ignore this message): INVALID_ARGUMENT: You must feed a value for placeholder tensor 'Placeholder/_11' with dtype double and shape [11]\n",
      "\t [[{{node Placeholder/_11}}]]\n"
     ]
    },
    {
     "name": "stdout",
     "output_type": "stream",
     "text": [
      "1036/1036 [==============================] - 7s 7ms/step - loss: 0.2438 - accuracy: 0.8462 - recall: 0.8440 - precision: 0.8481 - f1_score: 0.8460\n",
      "Round: 9 | Client: client_3 training\n",
      "   3/1036 [..............................] - ETA: 26s - loss: 0.2039 - accuracy: 0.8333 - recall: 0.8281 - precision: 0.8325 - f1_score: 0.8303 "
     ]
    },
    {
     "name": "stderr",
     "output_type": "stream",
     "text": [
      "2023-04-05 11:30:48.944417: I tensorflow/core/common_runtime/executor.cc:1197] [/device:CPU:0] (DEBUG INFO) Executor start aborting (this does not indicate an error and you can ignore this message): INVALID_ARGUMENT: You must feed a value for placeholder tensor 'Placeholder/_1' with dtype float and shape [66261,11]\n",
      "\t [[{{node Placeholder/_1}}]]\n",
      "2023-04-05 11:30:48.944573: I tensorflow/core/common_runtime/executor.cc:1197] [/device:CPU:0] (DEBUG INFO) Executor start aborting (this does not indicate an error and you can ignore this message): INVALID_ARGUMENT: You must feed a value for placeholder tensor 'Placeholder/_11' with dtype double and shape [11]\n",
      "\t [[{{node Placeholder/_11}}]]\n"
     ]
    },
    {
     "name": "stdout",
     "output_type": "stream",
     "text": [
      "1036/1036 [==============================] - 7s 7ms/step - loss: 0.2430 - accuracy: 0.8445 - recall: 0.8416 - precision: 0.8469 - f1_score: 0.8442\n",
      "Round: 9 | Client: client_4 training\n",
      "  17/1036 [..............................] - ETA: 6s - loss: 0.2515 - accuracy: 0.8318 - recall: 0.8290 - precision: 0.8329 - f1_score: 0.8309"
     ]
    },
    {
     "name": "stderr",
     "output_type": "stream",
     "text": [
      "2023-04-05 11:30:56.107980: I tensorflow/core/common_runtime/executor.cc:1197] [/device:CPU:0] (DEBUG INFO) Executor start aborting (this does not indicate an error and you can ignore this message): INVALID_ARGUMENT: You must feed a value for placeholder tensor 'Placeholder/_11' with dtype double and shape [11]\n",
      "\t [[{{node Placeholder/_11}}]]\n",
      "2023-04-05 11:30:56.108142: I tensorflow/core/common_runtime/executor.cc:1197] [/device:CPU:0] (DEBUG INFO) Executor start aborting (this does not indicate an error and you can ignore this message): INVALID_ARGUMENT: You must feed a value for placeholder tensor 'Placeholder/_1' with dtype float and shape [66261,11]\n",
      "\t [[{{node Placeholder/_1}}]]\n"
     ]
    },
    {
     "name": "stdout",
     "output_type": "stream",
     "text": [
      "1036/1036 [==============================] - 7s 7ms/step - loss: 0.2400 - accuracy: 0.8474 - recall: 0.8454 - precision: 0.8494 - f1_score: 0.8474\n",
      "Round: 9 | Client: client_9 training\n",
      "  17/1036 [..............................] - ETA: 6s - loss: 0.2630 - accuracy: 0.8364 - recall: 0.8226 - precision: 0.8532 - f1_score: 0.8373"
     ]
    },
    {
     "name": "stderr",
     "output_type": "stream",
     "text": [
      "2023-04-05 11:31:03.245668: I tensorflow/core/common_runtime/executor.cc:1197] [/device:CPU:0] (DEBUG INFO) Executor start aborting (this does not indicate an error and you can ignore this message): INVALID_ARGUMENT: You must feed a value for placeholder tensor 'Placeholder/_1' with dtype float and shape [66260,11]\n",
      "\t [[{{node Placeholder/_1}}]]\n",
      "2023-04-05 11:31:03.245828: I tensorflow/core/common_runtime/executor.cc:1197] [/device:CPU:0] (DEBUG INFO) Executor start aborting (this does not indicate an error and you can ignore this message): INVALID_ARGUMENT: You must feed a value for placeholder tensor 'Placeholder/_1' with dtype float and shape [66260,11]\n",
      "\t [[{{node Placeholder/_1}}]]\n"
     ]
    },
    {
     "name": "stdout",
     "output_type": "stream",
     "text": [
      "1036/1036 [==============================] - 7s 7ms/step - loss: 0.2356 - accuracy: 0.8452 - recall: 0.8418 - precision: 0.8488 - f1_score: 0.8453\n",
      "Round: 9 | Client: client_7 training\n",
      "  16/1036 [..............................] - ETA: 7s - loss: 0.2292 - accuracy: 0.8408 - recall: 0.8369 - precision: 0.8410 - f1_score: 0.8390"
     ]
    },
    {
     "name": "stderr",
     "output_type": "stream",
     "text": [
      "2023-04-05 11:31:10.349609: I tensorflow/core/common_runtime/executor.cc:1197] [/device:CPU:0] (DEBUG INFO) Executor start aborting (this does not indicate an error and you can ignore this message): INVALID_ARGUMENT: You must feed a value for placeholder tensor 'Placeholder/_0' with dtype double and shape [66261,34,1]\n",
      "\t [[{{node Placeholder/_0}}]]\n",
      "2023-04-05 11:31:10.349772: I tensorflow/core/common_runtime/executor.cc:1197] [/device:CPU:0] (DEBUG INFO) Executor start aborting (this does not indicate an error and you can ignore this message): INVALID_ARGUMENT: You must feed a value for placeholder tensor 'Placeholder/_0' with dtype double and shape [66261,34,1]\n",
      "\t [[{{node Placeholder/_0}}]]\n"
     ]
    },
    {
     "name": "stdout",
     "output_type": "stream",
     "text": [
      "1036/1036 [==============================] - 7s 7ms/step - loss: 0.2383 - accuracy: 0.8475 - recall: 0.8454 - precision: 0.8496 - f1_score: 0.8475\n",
      "Round: 9 | Client: client_6 training\n",
      "   9/1036 [..............................] - ETA: 6s - loss: 0.2580 - accuracy: 0.8385 - recall: 0.8351 - precision: 0.8394 - f1_score: 0.8372  "
     ]
    },
    {
     "name": "stderr",
     "output_type": "stream",
     "text": [
      "2023-04-05 11:31:17.473958: I tensorflow/core/common_runtime/executor.cc:1197] [/device:CPU:0] (DEBUG INFO) Executor start aborting (this does not indicate an error and you can ignore this message): INVALID_ARGUMENT: You must feed a value for placeholder tensor 'Placeholder/_0' with dtype double and shape [66261,34,1]\n",
      "\t [[{{node Placeholder/_0}}]]\n",
      "2023-04-05 11:31:17.474151: I tensorflow/core/common_runtime/executor.cc:1197] [/device:CPU:0] (DEBUG INFO) Executor start aborting (this does not indicate an error and you can ignore this message): INVALID_ARGUMENT: You must feed a value for placeholder tensor 'Placeholder/_0' with dtype double and shape [66261,34,1]\n",
      "\t [[{{node Placeholder/_0}}]]\n"
     ]
    },
    {
     "name": "stdout",
     "output_type": "stream",
     "text": [
      "1036/1036 [==============================] - 7s 7ms/step - loss: 0.2460 - accuracy: 0.8408 - recall: 0.8381 - precision: 0.8433 - f1_score: 0.8406\n",
      "Round: 9 | Client: client_10 training\n",
      "  17/1036 [..............................] - ETA: 6s - loss: 0.2288 - accuracy: 0.8364 - recall: 0.8364 - precision: 0.8372 - f1_score: 0.8368"
     ]
    },
    {
     "name": "stderr",
     "output_type": "stream",
     "text": [
      "2023-04-05 11:31:24.639420: I tensorflow/core/common_runtime/executor.cc:1197] [/device:CPU:0] (DEBUG INFO) Executor start aborting (this does not indicate an error and you can ignore this message): INVALID_ARGUMENT: You must feed a value for placeholder tensor 'Placeholder/_0' with dtype double and shape [66260,34,1]\n",
      "\t [[{{node Placeholder/_0}}]]\n",
      "2023-04-05 11:31:24.639610: I tensorflow/core/common_runtime/executor.cc:1197] [/device:CPU:0] (DEBUG INFO) Executor start aborting (this does not indicate an error and you can ignore this message): INVALID_ARGUMENT: You must feed a value for placeholder tensor 'Placeholder/_11' with dtype double and shape [11]\n",
      "\t [[{{node Placeholder/_11}}]]\n"
     ]
    },
    {
     "name": "stdout",
     "output_type": "stream",
     "text": [
      "1036/1036 [==============================] - 7s 7ms/step - loss: 0.2353 - accuracy: 0.8446 - recall: 0.8416 - precision: 0.8472 - f1_score: 0.8443\n",
      "Round: 9 | Client: client_1 training\n",
      "  17/1036 [..............................] - ETA: 6s - loss: 0.1960 - accuracy: 0.8382 - recall: 0.8382 - precision: 0.8406 - f1_score: 0.8394"
     ]
    },
    {
     "name": "stderr",
     "output_type": "stream",
     "text": [
      "2023-04-05 11:31:31.660490: I tensorflow/core/common_runtime/executor.cc:1197] [/device:CPU:0] (DEBUG INFO) Executor start aborting (this does not indicate an error and you can ignore this message): INVALID_ARGUMENT: You must feed a value for placeholder tensor 'Placeholder/_1' with dtype float and shape [66261,11]\n",
      "\t [[{{node Placeholder/_1}}]]\n",
      "2023-04-05 11:31:31.660682: I tensorflow/core/common_runtime/executor.cc:1197] [/device:CPU:0] (DEBUG INFO) Executor start aborting (this does not indicate an error and you can ignore this message): INVALID_ARGUMENT: You must feed a value for placeholder tensor 'Placeholder/_1' with dtype float and shape [66261,11]\n",
      "\t [[{{node Placeholder/_1}}]]\n"
     ]
    },
    {
     "name": "stdout",
     "output_type": "stream",
     "text": [
      "1036/1036 [==============================] - 7s 7ms/step - loss: 0.2415 - accuracy: 0.8440 - recall: 0.8418 - precision: 0.8462 - f1_score: 0.8439\n",
      "Round: 9 | Client: client_5 training\n",
      "  16/1036 [..............................] - ETA: 7s - loss: 0.1967 - accuracy: 0.8516 - recall: 0.8428 - precision: 0.8502 - f1_score: 0.8465"
     ]
    },
    {
     "name": "stderr",
     "output_type": "stream",
     "text": [
      "2023-04-05 11:31:38.789210: I tensorflow/core/common_runtime/executor.cc:1197] [/device:CPU:0] (DEBUG INFO) Executor start aborting (this does not indicate an error and you can ignore this message): INVALID_ARGUMENT: You must feed a value for placeholder tensor 'Placeholder/_0' with dtype double and shape [66261,34,1]\n",
      "\t [[{{node Placeholder/_0}}]]\n",
      "2023-04-05 11:31:38.789388: I tensorflow/core/common_runtime/executor.cc:1197] [/device:CPU:0] (DEBUG INFO) Executor start aborting (this does not indicate an error and you can ignore this message): INVALID_ARGUMENT: You must feed a value for placeholder tensor 'Placeholder/_11' with dtype double and shape [11]\n",
      "\t [[{{node Placeholder/_11}}]]\n"
     ]
    },
    {
     "name": "stdout",
     "output_type": "stream",
     "text": [
      "1036/1036 [==============================] - 7s 7ms/step - loss: 0.2386 - accuracy: 0.8464 - recall: 0.8445 - precision: 0.8482 - f1_score: 0.8463\n",
      "5177/5177 [==============================] - 8s 1ms/step\n",
      "comm_round: 9 | global_loss: 1.697279930114746 | global_accuracy: 0.8478 | global_recall: 0.8476 | global_precision: 0.8478 | global_f1_score: 0.8477 \n",
      "\n"
     ]
    }
   ],
   "source": [
    "import random \n",
    "\n",
    "#commence global training loop\n",
    "global_loss=[]\n",
    "global_accuracy=[]\n",
    "global_precision=[]\n",
    "global_recall=[]\n",
    "global_f1=[]\n",
    "best_global_accuracy = 0\n",
    "\n",
    "for comm_round in range(comms_round):            \n",
    "    # get the global model's weights - will serve as the initial weights for all local models\n",
    "    global_weights = global_model.get_weights()\n",
    "    \n",
    "    #initial list to collect local model weights after scalling\n",
    "    scaled_local_weight_list = list()\n",
    "\n",
    "    #randomize client data - using keys\n",
    "    client_names= list(client_set.keys())\n",
    "    random.shuffle(client_names)\n",
    "    \n",
    "    #loop through each client and create new local model\n",
    "    for client in client_names:            \n",
    "        scaled_weights = train_client(client, global_weights, class_weights)\n",
    "            \n",
    "        scaled_local_weight_list.append(scaled_weights)\n",
    "        \n",
    "    #to get the average over all the local model, we simply take the sum of the scaled weights\n",
    "    average_weights = sum_scaled_weights(scaled_local_weight_list)\n",
    "    \n",
    "    #update global model \n",
    "    global_model.set_weights(average_weights)\n",
    "\n",
    "    #test global model and print out metrics after each communications round\n",
    "    g_accuracy = 0\n",
    "    for(x_batch, y_batch) in test_batched:\n",
    "        g_loss, g_accuracy, g_precision, g_recall, g_f1 = test_model(x_batch, y_batch, global_model, comm_round)\n",
    "        global_loss.append(g_loss)\n",
    "        global_accuracy.append(g_accuracy)\n",
    "        global_precision.append(g_precision)\n",
    "        global_recall.append(g_recall)\n",
    "        global_f1.append(g_f1)\n",
    "        \n",
    "    if g_accuracy > best_global_accuracy:\n",
    "        best_global_accuracy = g_accuracy\n",
    "        global_model.save_weights('global_model_best_weights.h5')\n",
    "        print(\"New Weights Saved\")"
   ]
  },
  {
   "cell_type": "code",
   "execution_count": 41,
   "id": "63f25d83",
   "metadata": {
    "execution": {
     "iopub.execute_input": "2023-04-01T21:00:20.586489Z",
     "iopub.status.busy": "2023-04-01T21:00:20.585893Z",
     "iopub.status.idle": "2023-04-01T21:00:20.645643Z",
     "shell.execute_reply": "2023-04-01T21:00:20.644672Z"
    },
    "papermill": {
     "duration": 2.2489,
     "end_time": "2023-04-01T21:00:20.647887",
     "exception": false,
     "start_time": "2023-04-01T21:00:18.398987",
     "status": "completed"
    },
    "tags": []
   },
   "outputs": [],
   "source": [
    "global_model.load_weights(\"global_model_best_weights.h5\")\n"
   ]
  },
  {
   "cell_type": "code",
   "execution_count": 42,
   "id": "58635bd1",
   "metadata": {
    "execution": {
     "iopub.execute_input": "2023-04-01T21:00:25.241169Z",
     "iopub.status.busy": "2023-04-01T21:00:25.240629Z",
     "iopub.status.idle": "2023-04-01T21:00:47.703345Z",
     "shell.execute_reply": "2023-04-01T21:00:47.702025Z"
    },
    "papermill": {
     "duration": 24.6484,
     "end_time": "2023-04-01T21:00:47.705709",
     "exception": false,
     "start_time": "2023-04-01T21:00:23.057309",
     "status": "completed"
    },
    "tags": []
   },
   "outputs": [
    {
     "name": "stdout",
     "output_type": "stream",
     "text": [
      "5177/5177 [==============================] - 7s 1ms/step\n",
      "comm_round: 9 | global_loss: 1.6968355178833008 | global_accuracy: 0.8489 | global_recall: 0.8489 | global_precision: 0.8489 | global_f1_score: 0.8489 \n",
      "\n",
      "loss :  1.6968355\n",
      "accuracy :  0.84890010383213\n",
      "precision :  0.84892905\n",
      "recall :  0.84888804\n",
      "f1_score :  0.8489085\n"
     ]
    }
   ],
   "source": [
    "loss, accuracy, precision, recall, f1_score = test_model(x_batch, y_batch, global_model, comm_round)\n",
    "print(\"loss : \", loss.numpy())\n",
    "print(\"accuracy : \", accuracy)\n",
    "print(\"precision : \", precision)\n",
    "print(\"recall : \", recall)\n",
    "print(\"f1_score : \", f1_score)"
   ]
  },
  {
   "cell_type": "code",
   "execution_count": 43,
   "id": "75190ccc",
   "metadata": {
    "execution": {
     "iopub.execute_input": "2023-04-01T21:00:52.138582Z",
     "iopub.status.busy": "2023-04-01T21:00:52.138199Z",
     "iopub.status.idle": "2023-04-01T21:01:14.079360Z",
     "shell.execute_reply": "2023-04-01T21:01:14.078250Z"
    },
    "papermill": {
     "duration": 24.114177,
     "end_time": "2023-04-01T21:01:14.081963",
     "exception": false,
     "start_time": "2023-04-01T21:00:49.967786",
     "status": "completed"
    },
    "tags": []
   },
   "outputs": [
    {
     "name": "stdout",
     "output_type": "stream",
     "text": [
      "5177/5177 [==============================] - 7s 1ms/step\n"
     ]
    }
   ],
   "source": [
    "for(x_batch, y_batch) in test_batched:\n",
    "    logits = global_model.predict(x_batch)\n",
    "    y_hat = np.argmax(logits, axis=1)\n",
    "    y_true = np.argmax(y_batch, axis=1)"
   ]
  },
  {
   "cell_type": "code",
   "execution_count": 44,
   "id": "96082a24",
   "metadata": {
    "execution": {
     "iopub.execute_input": "2023-04-01T21:01:19.166328Z",
     "iopub.status.busy": "2023-04-01T21:01:19.165968Z",
     "iopub.status.idle": "2023-04-01T21:01:19.399409Z",
     "shell.execute_reply": "2023-04-01T21:01:19.398442Z"
    },
    "papermill": {
     "duration": 3.121447,
     "end_time": "2023-04-01T21:01:19.401680",
     "exception": false,
     "start_time": "2023-04-01T21:01:16.280233",
     "status": "completed"
    },
    "tags": []
   },
   "outputs": [],
   "source": [
    "from sklearn.metrics import accuracy_score, precision_recall_fscore_support,confusion_matrix, classification_report, precision_score, recall_score\n",
    "from sklearn.metrics import f1_score as f1_score_rep\n",
    "import seaborn as sn\n",
    "\n",
    "\n",
    "def print_score(y_pred, y_real, label_encoder):\n",
    "    print(\"Accuracy: \", accuracy_score(y_real, y_pred))\n",
    "    print(\"Precision:: \", precision_score(y_real, y_pred, average=\"micro\"))\n",
    "    print(\"Recall:: \", recall_score(y_real, y_pred, average=\"micro\"))\n",
    "    print(\"F1_Score:: \", f1_score_rep(y_real, y_pred, average=\"micro\"))\n",
    "\n",
    "    print()\n",
    "    print(\"Macro precision_recall_fscore_support (macro) average\")\n",
    "    print(precision_recall_fscore_support(y_real, y_pred, average=\"macro\"))\n",
    "\n",
    "    print()\n",
    "    print(\"Macro precision_recall_fscore_support (micro) average\")\n",
    "    print(precision_recall_fscore_support(y_real, y_pred, average=\"micro\"))\n",
    "\n",
    "    print()\n",
    "    print(\"Macro precision_recall_fscore_support (weighted) average\")\n",
    "    print(precision_recall_fscore_support(y_real, y_pred, average=\"weighted\"))\n",
    "    \n",
    "    print()\n",
    "    print(\"Confusion Matrix\")\n",
    "    cm = confusion_matrix(y_real, y_pred)\n",
    "    cm = cm.astype('float') / cm.sum(axis=1)[:, np.newaxis]\n",
    "    df_cm = pd.DataFrame(cm, index = [i for i in label_encoder.classes_],\n",
    "                  columns = [i for i in label_encoder.classes_])\n",
    "    plt.figure(figsize = (10,7))\n",
    "    sn.heatmap(df_cm, annot=True)\n",
    "\n",
    "    print()\n",
    "    print(\"Classification Report\")\n",
    "    print(classification_report(y_real, y_pred, target_names=label_encoder.classes_))"
   ]
  },
  {
   "cell_type": "code",
   "execution_count": 45,
   "id": "ca5c4c13",
   "metadata": {
    "execution": {
     "iopub.execute_input": "2023-04-01T21:01:23.839994Z",
     "iopub.status.busy": "2023-04-01T21:01:23.839381Z",
     "iopub.status.idle": "2023-04-01T21:01:23.853800Z",
     "shell.execute_reply": "2023-04-01T21:01:23.852852Z"
    },
    "papermill": {
     "duration": 2.20101,
     "end_time": "2023-04-01T21:01:23.855880",
     "exception": false,
     "start_time": "2023-04-01T21:01:21.654870",
     "status": "completed"
    },
    "tags": []
   },
   "outputs": [],
   "source": [
    "from sklearn.metrics import roc_curve, auc\n",
    "from itertools import cycle\n",
    "\n",
    "def ROC_plot(y_true_ohe, y_hat_ohe, label_encoder, n_classes):    \n",
    "    lw = 2\n",
    "    fpr = dict()\n",
    "    tpr = dict()\n",
    "    roc_auc = dict()\n",
    "    for i in range(n_classes):\n",
    "        fpr[i], tpr[i], _ = roc_curve(y_true_ohe[:, i], y_hat_ohe[:, i])\n",
    "        roc_auc[i] = auc(fpr[i], tpr[i])\n",
    "                                  \n",
    "    all_fpr = np.unique(np.concatenate([fpr[i] for i in range(n_classes)]))\n",
    "\n",
    "    mean_tpr = np.zeros_like(all_fpr)\n",
    "    for i in range(n_classes):\n",
    "        mean_tpr += np.interp(all_fpr, fpr[i], tpr[i])\n",
    "\n",
    "    mean_tpr /= n_classes\n",
    "    fpr[\"macro\"] = all_fpr\n",
    "    tpr[\"macro\"] = mean_tpr\n",
    "    roc_auc[\"macro\"] = auc(fpr[\"macro\"], tpr[\"macro\"])\n",
    "\n",
    "    fpr[\"micro\"], tpr[\"micro\"], _ = roc_curve(y_true_ohe.ravel(), y_hat_ohe.ravel())\n",
    "    roc_auc[\"micro\"] = auc(fpr[\"micro\"], tpr[\"micro\"])\n",
    "    \n",
    "    plt.figure(figsize=(20,20))\n",
    "    plt.plot(\n",
    "        fpr[\"micro\"],\n",
    "        tpr[\"micro\"],\n",
    "        label=\"micro-average ROC curve (area = {0:0.2f})\".format(roc_auc[\"micro\"]),\n",
    "        color=\"deeppink\",\n",
    "        linestyle=\":\",\n",
    "        linewidth=4,\n",
    "    )\n",
    "\n",
    "    plt.plot(\n",
    "        fpr[\"macro\"],\n",
    "        tpr[\"macro\"],\n",
    "        label=\"macro-average ROC curve (area = {0:0.2f})\".format(roc_auc[\"macro\"]),\n",
    "        color=\"navy\",\n",
    "        linestyle=\":\",\n",
    "        linewidth=4,\n",
    "    )\n",
    "\n",
    "    colors = cycle([\"aqua\", \"darkorange\", \"cornflowerblue\"])\n",
    "    for i, color in zip(range(n_classes), colors):\n",
    "        plt.plot(\n",
    "            fpr[i],\n",
    "            tpr[i],\n",
    "            color=color,\n",
    "            lw=lw,\n",
    "            label=\"ROC curve of class {0} (area = {1:0.2f})\".format(label_encoder.classes_[i], roc_auc[i]))\n",
    "\n",
    "    plt.plot([0, 1], [0, 1], \"k--\", lw=lw)\n",
    "    plt.xlim([0.0, 1.0])\n",
    "    plt.ylim([0.0, 1.05])\n",
    "    plt.xlabel(\"False Positive Rate\")\n",
    "    plt.ylabel(\"True Positive Rate\")\n",
    "    plt.title(\"multiclass characteristic\")\n",
    "    plt.legend(loc=\"lower right\")\n",
    "    plt.show()"
   ]
  },
  {
   "cell_type": "code",
   "execution_count": 46,
   "id": "6367a373",
   "metadata": {
    "execution": {
     "iopub.execute_input": "2023-04-01T21:01:28.349145Z",
     "iopub.status.busy": "2023-04-01T21:01:28.348701Z",
     "iopub.status.idle": "2023-04-01T21:01:28.364513Z",
     "shell.execute_reply": "2023-04-01T21:01:28.363385Z"
    },
    "papermill": {
     "duration": 2.333849,
     "end_time": "2023-04-01T21:01:28.366629",
     "exception": false,
     "start_time": "2023-04-01T21:01:26.032780",
     "status": "completed"
    },
    "tags": []
   },
   "outputs": [],
   "source": [
    "y_true_ohe = to_categorical(y_true, num_classes=len(label_encoder.classes_))\n",
    "y_hat_ohe =  to_categorical(y_hat, num_classes=len(label_encoder.classes_))"
   ]
  },
  {
   "cell_type": "code",
   "execution_count": 47,
   "id": "949fc5c6",
   "metadata": {
    "execution": {
     "iopub.execute_input": "2023-04-01T21:01:32.925352Z",
     "iopub.status.busy": "2023-04-01T21:01:32.924991Z",
     "iopub.status.idle": "2023-04-01T21:01:33.719491Z",
     "shell.execute_reply": "2023-04-01T21:01:33.718531Z"
    },
    "papermill": {
     "duration": 3.079,
     "end_time": "2023-04-01T21:01:33.723877",
     "exception": false,
     "start_time": "2023-04-01T21:01:30.644877",
     "status": "completed"
    },
    "tags": []
   },
   "outputs": [
    {
     "data": {
      "image/png": "[encoded data removed]",
      "text/plain": [
       "<Figure size 2000x2000 with 1 Axes>"
      ]
     },
     "metadata": {},
     "output_type": "display_data"
    }
   ],
   "source": [
    "ROC_plot(y_true_ohe, y_hat_ohe, label_encoder, len(label_encoder.classes_))\n"
   ]
  },
  {
   "cell_type": "code",
   "execution_count": 48,
   "id": "45ad9e41",
   "metadata": {
    "execution": {
     "iopub.execute_input": "2023-04-01T21:01:38.160507Z",
     "iopub.status.busy": "2023-04-01T21:01:38.159541Z",
     "iopub.status.idle": "2023-04-01T21:01:39.818026Z",
     "shell.execute_reply": "2023-04-01T21:01:39.817098Z"
    },
    "papermill": {
     "duration": 3.880974,
     "end_time": "2023-04-01T21:01:39.820578",
     "exception": false,
     "start_time": "2023-04-01T21:01:35.939604",
     "status": "completed"
    },
    "tags": []
   },
   "outputs": [
    {
     "name": "stdout",
     "output_type": "stream",
     "text": [
      "Accuracy:  0.84890010383213\n",
      "Precision::  0.84890010383213\n",
      "Recall::  0.84890010383213\n",
      "F1_Score::  0.84890010383213\n",
      "\n",
      "Macro precision_recall_fscore_support (macro) average\n",
      "(0.8218937332463271, 0.8664117601620887, 0.8365034271881491, None)\n",
      "\n",
      "Macro precision_recall_fscore_support (micro) average\n",
      "(0.84890010383213, 0.84890010383213, 0.84890010383213, None)\n",
      "\n",
      "Macro precision_recall_fscore_support (weighted) average\n",
      "(0.7860272110898469, 0.84890010383213, 0.8069211763402205, None)\n",
      "\n",
      "Confusion Matrix\n",
      "\n",
      "Classification Report\n",
      "                precision    recall  f1-score   support\n",
      "\n",
      "        benign       1.00      1.00      1.00     12431\n",
      "  gafgyt_combo       0.86      0.86      0.86     12276\n",
      "   gafgyt_junk       0.72      0.73      0.72      6180\n",
      "   gafgyt_scan       1.00      1.00      1.00      5859\n",
      "    gafgyt_tcp       0.00      0.00      0.00     20902\n",
      "    gafgyt_udp       0.50      1.00      0.66     20802\n",
      "     mirai_ack       1.00      0.96      0.98     12111\n",
      "    mirai_scan       1.00      0.99      1.00     19356\n",
      "     mirai_syn       0.99      1.00      0.99     13149\n",
      "     mirai_udp       0.99      1.00      0.99     31250\n",
      "mirai_udpplain       0.99      1.00      0.99     11336\n",
      "\n",
      "      accuracy                           0.85    165652\n",
      "     macro avg       0.82      0.87      0.84    165652\n",
      "  weighted avg       0.79      0.85      0.81    165652\n",
      "\n"
     ]
    },
    {
     "data": {
      "image/png": "[encoded data removed]",
      "text/plain": [
       "<Figure size 1000x700 with 2 Axes>"
      ]
     },
     "metadata": {},
     "output_type": "display_data"
    }
   ],
   "source": [
    "print_score(y_hat, y_true, label_encoder)"
   ]
  },
  {
   "cell_type": "code",
   "execution_count": 49,
   "id": "99c236ed",
   "metadata": {
    "execution": {
     "iopub.execute_input": "2023-04-01T21:01:44.334661Z",
     "iopub.status.busy": "2023-04-01T21:01:44.333922Z",
     "iopub.status.idle": "2023-04-01T21:01:45.034993Z",
     "shell.execute_reply": "2023-04-01T21:01:45.033968Z"
    },
    "papermill": {
     "duration": 2.998882,
     "end_time": "2023-04-01T21:01:45.037746",
     "exception": false,
     "start_time": "2023-04-01T21:01:42.038864",
     "status": "completed"
    },
    "tags": []
   },
   "outputs": [
    {
     "data": {
      "image/png": "[encoded data removed]",
      "text/plain": [
       "<Figure size 1500x1500 with 6 Axes>"
      ]
     },
     "metadata": {},
     "output_type": "display_data"
    }
   ],
   "source": [
    "figure, axis = plt.subplots(3, 2, figsize=(15, 15))\n",
    "\n",
    "axis[0, 0].plot(global_loss)\n",
    "axis[0, 0].set_title(\"global loss\")\n",
    "  \n",
    "axis[0, 1].plot(global_accuracy)\n",
    "axis[0, 1].set_title(\"global accuracy\")\n",
    "  \n",
    "axis[1, 0].plot(global_precision)\n",
    "axis[1, 0].set_title(\"global precision\")\n",
    "  \n",
    "axis[1, 1].plot(global_recall)\n",
    "axis[1, 1].set_title(\"global recall\")\n",
    "\n",
    "axis[2, 0].plot(global_f1)\n",
    "axis[2, 0].set_title(\"global f1 score\")\n",
    "  \n",
    "plt.show()"
   ]
  },
  {
   "cell_type": "code",
   "execution_count": 50,
   "id": "440d00fd",
   "metadata": {
    "papermill": {
     "duration": 2.232116,
     "end_time": "2023-04-01T21:01:49.492392",
     "exception": false,
     "start_time": "2023-04-01T21:01:47.260276",
     "status": "completed"
    },
    "tags": []
   },
   "outputs": [
    {
     "data": {
      "text/plain": [
       "[0.43956607828459665,\n",
       " 0.7939716997078212,\n",
       " 0.8324741023350156,\n",
       " 0.838365972037766,\n",
       " 0.8344783039142298,\n",
       " 0.8305363050249922,\n",
       " 0.8232016516552774,\n",
       " 0.8487129645280468,\n",
       " 0.84890010383213,\n",
       " 0.8477772680076304]"
      ]
     },
     "execution_count": 50,
     "metadata": {},
     "output_type": "execute_result"
    }
   ],
   "source": [
    "global_accuracy"
   ]
  }
 ],
 "metadata": {
  "kernelspec": {
   "display_name": "Python 3 (ipykernel)",
   "language": "python",
   "name": "python3"
  },
  "language_info": {
   "codemirror_mode": {
    "name": "ipython",
    "version": 3
   },
   "file_extension": ".py",
   "mimetype": "text/x-python",
   "name": "python",
   "nbconvert_exporter": "python",
   "pygments_lexer": "ipython3",
   "version": "3.9.7"
  },
  "papermill": {
   "default_parameters": {},
   "duration": 2721.644018,
   "end_time": "2023-04-01T21:01:56.326884",
   "environment_variables": {},
   "exception": null,
   "input_path": "__notebook__.ipynb",
   "output_path": "__notebook__.ipynb",
   "parameters": {},
   "start_time": "2023-04-01T20:16:34.682866",
   "version": "2.4.0"
  }
 },
 "nbformat": 4,
 "nbformat_minor": 5
}
